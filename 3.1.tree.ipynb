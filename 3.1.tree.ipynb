{
  "metadata": {
    "kernelspec": {
      "language": "python",
      "display_name": "Python 3",
      "name": "python3"
    },
    "language_info": {
      "name": "python",
      "version": "3.10.14",
      "mimetype": "text/x-python",
      "codemirror_mode": {
        "name": "ipython",
        "version": 3
      },
      "pygments_lexer": "ipython3",
      "nbconvert_exporter": "python",
      "file_extension": ".py"
    },
    "kaggle": {
      "accelerator": "none",
      "dataSources": [],
      "dockerImageVersionId": 30804,
      "isInternetEnabled": true,
      "language": "python",
      "sourceType": "notebook",
      "isGpuEnabled": false
    },
    "colab": {
      "provenance": [],
      "name": "3.1.tree.ipynb"
    }
  },
  "nbformat_minor": 0,
  "nbformat": 4,
  "cells": [
    {
      "cell_type": "markdown",
      "source": [
        "# Imports"
      ],
      "metadata": {
        "_uuid": "8f2839f25d086af736a60e9eeb907d3b93b6e0e5",
        "_cell_guid": "b1076dfc-b9ad-4769-8c92-a6c4dae69d19",
        "execution": {
          "iopub.status.busy": "2024-12-17T09:20:37.245906Z",
          "iopub.execute_input": "2024-12-17T09:20:37.246756Z",
          "iopub.status.idle": "2024-12-17T09:20:37.251933Z",
          "shell.execute_reply.started": "2024-12-17T09:20:37.246698Z",
          "shell.execute_reply": "2024-12-17T09:20:37.250554Z"
        },
        "id": "-m4ldNUJMWVQ"
      }
    },
    {
      "cell_type": "code",
      "source": [
        "import numpy as np\n",
        "import pandas as pd\n",
        "from sklearn.tree import DecisionTreeRegressor\n",
        "from sklearn.model_selection import GridSearchCV\n",
        "from sklearn.metrics import mean_absolute_error\n",
        "\n",
        "rng = np.random.RandomState(42)"
      ],
      "metadata": {
        "id": "9CIPuSn1McA_"
      },
      "execution_count": null,
      "outputs": []
    },
    {
      "cell_type": "markdown",
      "source": [
        "# Data"
      ],
      "metadata": {
        "id": "w_UWYxyPMWVW"
      }
    },
    {
      "cell_type": "code",
      "source": [
        "data_path = 'https://raw.githubusercontent.com/antbartash/max_temp/master/data/data_features.csv'\n",
        "data = pd.read_csv(data_path)\n",
        "data['DATE'] = data['DATE'].astype('datetime64[ns]')\n",
        "\n",
        "print(data.shape)\n",
        "data.head()"
      ],
      "metadata": {
        "trusted": true,
        "execution": {
          "iopub.status.busy": "2024-12-17T10:18:11.629117Z",
          "iopub.execute_input": "2024-12-17T10:18:11.629660Z",
          "iopub.status.idle": "2024-12-17T10:18:12.340505Z",
          "shell.execute_reply.started": "2024-12-17T10:18:11.629623Z",
          "shell.execute_reply": "2024-12-17T10:18:12.339422Z"
        },
        "id": "BuHQAHUuMWVW",
        "outputId": "cffe1d13-bf0d-47e0-9e82-66c671c7c63b"
      },
      "outputs": [
        {
          "name": "stdout",
          "text": "(40778, 54)\n",
          "output_type": "stream"
        },
        {
          "execution_count": 2,
          "output_type": "execute_result",
          "data": {
            "text/plain": "        DATE  TARGET  TMAX_d1  TMAX_d1_d2_diff  TMAX_3day_mean  TMAX_3day_std  \\\n0 2010-01-16    15.6     15.0             -1.1       13.700000       3.251154   \n1 2010-01-17    14.4     15.6              0.6       15.566667       0.550757   \n2 2010-01-18    17.2     14.4             -1.2       15.000000       0.600000   \n3 2010-01-19    21.1     17.2              2.8       15.733333       1.404754   \n4 2010-01-20    23.9     21.1              3.9       17.566667       3.365016   \n\n   TMAX_3day_min  TMAX_3day_max  TMAX_3day_median  TMAX_5day_mean  ...  \\\n0           10.0           16.1              15.0           12.98  ...   \n1           15.0           16.1              15.6           14.22  ...   \n2           14.4           15.6              15.0           14.22  ...   \n3           14.4           17.2              15.6           15.66  ...   \n4           14.4           21.1              17.2           16.66  ...   \n\n   MONTH_11  MONTH_12  STATION_USW00003967  STATION_USW00012916  \\\n0       0.0       0.0                  0.0                  1.0   \n1       0.0       0.0                  0.0                  1.0   \n2       0.0       0.0                  0.0                  1.0   \n3       0.0       0.0                  0.0                  1.0   \n4       0.0       0.0                  0.0                  1.0   \n\n   STATION_USW00013960  STATION_USW00024025  STATION_USW00024233  \\\n0                  0.0                  0.0                  0.0   \n1                  0.0                  0.0                  0.0   \n2                  0.0                  0.0                  0.0   \n3                  0.0                  0.0                  0.0   \n4                  0.0                  0.0                  0.0   \n\n   STATION_USW00093067  STATION_USW00093225  STATION_USW00094728  \n0                  0.0                  0.0                  0.0  \n1                  0.0                  0.0                  0.0  \n2                  0.0                  0.0                  0.0  \n3                  0.0                  0.0                  0.0  \n4                  0.0                  0.0                  0.0  \n\n[5 rows x 54 columns]",
            "text/html": "<div>\n<style scoped>\n    .dataframe tbody tr th:only-of-type {\n        vertical-align: middle;\n    }\n\n    .dataframe tbody tr th {\n        vertical-align: top;\n    }\n\n    .dataframe thead th {\n        text-align: right;\n    }\n</style>\n<table border=\"1\" class=\"dataframe\">\n  <thead>\n    <tr style=\"text-align: right;\">\n      <th></th>\n      <th>DATE</th>\n      <th>TARGET</th>\n      <th>TMAX_d1</th>\n      <th>TMAX_d1_d2_diff</th>\n      <th>TMAX_3day_mean</th>\n      <th>TMAX_3day_std</th>\n      <th>TMAX_3day_min</th>\n      <th>TMAX_3day_max</th>\n      <th>TMAX_3day_median</th>\n      <th>TMAX_5day_mean</th>\n      <th>...</th>\n      <th>MONTH_11</th>\n      <th>MONTH_12</th>\n      <th>STATION_USW00003967</th>\n      <th>STATION_USW00012916</th>\n      <th>STATION_USW00013960</th>\n      <th>STATION_USW00024025</th>\n      <th>STATION_USW00024233</th>\n      <th>STATION_USW00093067</th>\n      <th>STATION_USW00093225</th>\n      <th>STATION_USW00094728</th>\n    </tr>\n  </thead>\n  <tbody>\n    <tr>\n      <th>0</th>\n      <td>2010-01-16</td>\n      <td>15.6</td>\n      <td>15.0</td>\n      <td>-1.1</td>\n      <td>13.700000</td>\n      <td>3.251154</td>\n      <td>10.0</td>\n      <td>16.1</td>\n      <td>15.0</td>\n      <td>12.98</td>\n      <td>...</td>\n      <td>0.0</td>\n      <td>0.0</td>\n      <td>0.0</td>\n      <td>1.0</td>\n      <td>0.0</td>\n      <td>0.0</td>\n      <td>0.0</td>\n      <td>0.0</td>\n      <td>0.0</td>\n      <td>0.0</td>\n    </tr>\n    <tr>\n      <th>1</th>\n      <td>2010-01-17</td>\n      <td>14.4</td>\n      <td>15.6</td>\n      <td>0.6</td>\n      <td>15.566667</td>\n      <td>0.550757</td>\n      <td>15.0</td>\n      <td>16.1</td>\n      <td>15.6</td>\n      <td>14.22</td>\n      <td>...</td>\n      <td>0.0</td>\n      <td>0.0</td>\n      <td>0.0</td>\n      <td>1.0</td>\n      <td>0.0</td>\n      <td>0.0</td>\n      <td>0.0</td>\n      <td>0.0</td>\n      <td>0.0</td>\n      <td>0.0</td>\n    </tr>\n    <tr>\n      <th>2</th>\n      <td>2010-01-18</td>\n      <td>17.2</td>\n      <td>14.4</td>\n      <td>-1.2</td>\n      <td>15.000000</td>\n      <td>0.600000</td>\n      <td>14.4</td>\n      <td>15.6</td>\n      <td>15.0</td>\n      <td>14.22</td>\n      <td>...</td>\n      <td>0.0</td>\n      <td>0.0</td>\n      <td>0.0</td>\n      <td>1.0</td>\n      <td>0.0</td>\n      <td>0.0</td>\n      <td>0.0</td>\n      <td>0.0</td>\n      <td>0.0</td>\n      <td>0.0</td>\n    </tr>\n    <tr>\n      <th>3</th>\n      <td>2010-01-19</td>\n      <td>21.1</td>\n      <td>17.2</td>\n      <td>2.8</td>\n      <td>15.733333</td>\n      <td>1.404754</td>\n      <td>14.4</td>\n      <td>17.2</td>\n      <td>15.6</td>\n      <td>15.66</td>\n      <td>...</td>\n      <td>0.0</td>\n      <td>0.0</td>\n      <td>0.0</td>\n      <td>1.0</td>\n      <td>0.0</td>\n      <td>0.0</td>\n      <td>0.0</td>\n      <td>0.0</td>\n      <td>0.0</td>\n      <td>0.0</td>\n    </tr>\n    <tr>\n      <th>4</th>\n      <td>2010-01-20</td>\n      <td>23.9</td>\n      <td>21.1</td>\n      <td>3.9</td>\n      <td>17.566667</td>\n      <td>3.365016</td>\n      <td>14.4</td>\n      <td>21.1</td>\n      <td>17.2</td>\n      <td>16.66</td>\n      <td>...</td>\n      <td>0.0</td>\n      <td>0.0</td>\n      <td>0.0</td>\n      <td>1.0</td>\n      <td>0.0</td>\n      <td>0.0</td>\n      <td>0.0</td>\n      <td>0.0</td>\n      <td>0.0</td>\n      <td>0.0</td>\n    </tr>\n  </tbody>\n</table>\n<p>5 rows × 54 columns</p>\n</div>"
          },
          "metadata": {}
        }
      ],
      "execution_count": null
    },
    {
      "cell_type": "code",
      "source": [
        "X_train = data.loc[data['DATE'].dt.year <= 2021].drop(columns=['TARGET', 'DATE']).copy()\n",
        "y_train = data.loc[data['DATE'].dt.year <= 2021, 'TARGET'].copy()\n",
        "X_valid = data.loc[data['DATE'].dt.year == 2022].drop(columns=['TARGET', 'DATE']).copy()\n",
        "y_valid = data.loc[data['DATE'].dt.year == 2022, 'TARGET'].copy()\n",
        "X_test = data.loc[data['DATE'].dt.year == 2023].drop(columns=['TARGET', 'DATE']).copy()\n",
        "y_test = data.loc[data['DATE'].dt.year == 2023, 'TARGET'].copy()\n",
        "\n",
        "print(f'Train: {X_train.shape}, {y_train.shape}')\n",
        "print(f'Valid: {X_valid.shape}, {y_valid.shape}')\n",
        "print(f'Test: {X_test.shape}, {y_test.shape}')"
      ],
      "metadata": {
        "trusted": true,
        "execution": {
          "iopub.status.busy": "2024-12-17T10:18:12.342107Z",
          "iopub.execute_input": "2024-12-17T10:18:12.342538Z",
          "iopub.status.idle": "2024-12-17T10:18:12.386044Z",
          "shell.execute_reply.started": "2024-12-17T10:18:12.342492Z",
          "shell.execute_reply": "2024-12-17T10:18:12.384862Z"
        },
        "id": "Onf7IRFKMWVZ",
        "outputId": "75c3acf9-c63c-4999-f399-4aff54e7b85f"
      },
      "outputs": [
        {
          "name": "stdout",
          "text": "Train: (34938, 52), (34938,)\nValid: (2920, 52), (2920,)\nTest: (2920, 52), (2920,)\n",
          "output_type": "stream"
        }
      ],
      "execution_count": null
    },
    {
      "cell_type": "markdown",
      "source": [
        "# Baseline"
      ],
      "metadata": {
        "id": "njWb7ae1MWVa"
      }
    },
    {
      "cell_type": "code",
      "source": [
        "model = DecisionTreeRegressor(random_state=rng)\n",
        "model.fit(X_train, y_train)\n",
        "\n",
        "print(f'Train MAE: {mean_absolute_error(y_train, model.predict(X_train))}')\n",
        "print(f'Valid MAE: {mean_absolute_error(y_valid, model.predict(X_valid))}')"
      ],
      "metadata": {
        "trusted": true,
        "execution": {
          "iopub.status.busy": "2024-12-17T10:18:14.150821Z",
          "iopub.execute_input": "2024-12-17T10:18:14.151865Z",
          "iopub.status.idle": "2024-12-17T10:18:15.608889Z",
          "shell.execute_reply.started": "2024-12-17T10:18:14.151825Z",
          "shell.execute_reply": "2024-12-17T10:18:15.607849Z"
        },
        "id": "0rnKFEuMMWVb",
        "outputId": "a4c58bba-8b6a-425e-96e4-5b8ce8365d95"
      },
      "outputs": [
        {
          "name": "stdout",
          "text": "Train MAE: 4.208539051501395e-17\nValid MAE: 4.603424657534247\n",
          "output_type": "stream"
        }
      ],
      "execution_count": null
    },
    {
      "cell_type": "markdown",
      "source": [
        "# Hyperparameter tuning"
      ],
      "metadata": {
        "id": "1bvdCMvDMWVb"
      }
    },
    {
      "cell_type": "code",
      "source": [
        "param_grid = {\n",
        "    'max_depth': [None, 12, 10, 8, 6, 5, 4, 3, 2],\n",
        "    'min_samples_leaf': [1, 10, 25, 50, 100, 200, 500, 1000],\n",
        "    'min_impurity_decrease': [0, 0.01, 0.1],\n",
        "    'ccp_alpha': [0, 0.0005, 0.001, 0.005, 0.01, 0.1]\n",
        "}\n",
        "model = DecisionTreeRegressor(random_state=rng)\n",
        "grid = GridSearchCV(\n",
        "    model, param_grid, cv=5,\n",
        "    scoring='neg_mean_absolute_error',\n",
        "    n_jobs=-1, verbose=1\n",
        ")\n",
        "grid.fit(X_train, y_train)\n",
        "print('Best score: ', grid.best_score_)\n",
        "print('Best params: ', grid.best_params_)"
      ],
      "metadata": {
        "trusted": true,
        "execution": {
          "iopub.status.busy": "2024-12-17T10:18:21.660443Z",
          "iopub.execute_input": "2024-12-17T10:18:21.660849Z",
          "iopub.status.idle": "2024-12-17T10:30:58.294436Z",
          "shell.execute_reply.started": "2024-12-17T10:18:21.660815Z",
          "shell.execute_reply": "2024-12-17T10:30:58.293208Z"
        },
        "id": "Y2q2jyP7MWVc",
        "outputId": "d1ad38e4-1fda-4672-8e9a-08ad701101aa"
      },
      "outputs": [
        {
          "name": "stdout",
          "text": "Fitting 5 folds for each of 1296 candidates, totalling 6480 fits\nBest score:  -3.0842241640071264\nBest params:  {'ccp_alpha': 0.005, 'max_depth': 10, 'min_impurity_decrease': 0, 'min_samples_leaf': 100}\n",
          "output_type": "stream"
        }
      ],
      "execution_count": null
    },
    {
      "cell_type": "code",
      "source": [
        "model = DecisionTreeRegressor(\n",
        "    max_depth=10, min_samples_leaf=100,\n",
        "    ccp_alpha=0.005,\n",
        "    random_state=rng\n",
        ")\n",
        "model.fit(X_train, y_train)\n",
        "\n",
        "print(f'Train MAE: {mean_absolute_error(y_train, model.predict(X_train))}')\n",
        "print(f'Valid MAE: {mean_absolute_error(y_valid, model.predict(X_valid))}')"
      ],
      "metadata": {
        "trusted": true,
        "execution": {
          "iopub.status.busy": "2024-12-17T10:34:01.677350Z",
          "iopub.execute_input": "2024-12-17T10:34:01.677771Z",
          "iopub.status.idle": "2024-12-17T10:34:02.276006Z",
          "shell.execute_reply.started": "2024-12-17T10:34:01.677735Z",
          "shell.execute_reply": "2024-12-17T10:34:02.274900Z"
        },
        "id": "si1lGa8FMWVd",
        "outputId": "0dd79163-4dfe-441c-b7ea-91a35e90da22"
      },
      "outputs": [
        {
          "name": "stdout",
          "text": "Train MAE: 2.9478319678886105\nValid MAE: 3.236205953878172\n",
          "output_type": "stream"
        }
      ],
      "execution_count": null
    },
    {
      "cell_type": "code",
      "source": [
        "model = DecisionTreeRegressor(\n",
        "    max_depth=10, min_samples_leaf=100,\n",
        "    # ccp_alpha=0.005,\n",
        "    random_state=rng\n",
        ")\n",
        "model.fit(X_train, y_train)\n",
        "\n",
        "print(f'Train MAE: {mean_absolute_error(y_train, model.predict(X_train))}')\n",
        "print(f'Valid MAE: {mean_absolute_error(y_valid, model.predict(X_valid))}')"
      ],
      "metadata": {
        "trusted": true,
        "execution": {
          "iopub.status.busy": "2024-12-17T10:34:11.118874Z",
          "iopub.execute_input": "2024-12-17T10:34:11.120240Z",
          "iopub.status.idle": "2024-12-17T10:34:11.715064Z",
          "shell.execute_reply.started": "2024-12-17T10:34:11.120161Z",
          "shell.execute_reply": "2024-12-17T10:34:11.713966Z"
        },
        "id": "0j5keLNEMWVd",
        "outputId": "56febab4-8dfd-409f-a958-115a215af45e"
      },
      "outputs": [
        {
          "name": "stdout",
          "text": "Train MAE: 2.91724912637101\nValid MAE: 3.256837206853774\n",
          "output_type": "stream"
        }
      ],
      "execution_count": null
    },
    {
      "cell_type": "code",
      "source": [],
      "metadata": {
        "trusted": true,
        "id": "Cj0x5Sk2MWVd"
      },
      "outputs": [],
      "execution_count": null
    }
  ]
}