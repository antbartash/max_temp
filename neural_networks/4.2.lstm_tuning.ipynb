{
 "cells": [
  {
   "cell_type": "markdown",
   "metadata": {},
   "source": [
    "# Imports"
   ]
  },
  {
   "cell_type": "code",
   "execution_count": 1,
   "metadata": {
    "_cell_guid": "b1076dfc-b9ad-4769-8c92-a6c4dae69d19",
    "_uuid": "8f2839f25d086af736a60e9eeb907d3b93b6e0e5",
    "execution": {
     "iopub.execute_input": "2025-01-04T21:41:58.108377Z",
     "iopub.status.busy": "2025-01-04T21:41:58.107972Z",
     "iopub.status.idle": "2025-01-04T21:42:06.314553Z",
     "shell.execute_reply": "2025-01-04T21:42:06.313705Z",
     "shell.execute_reply.started": "2025-01-04T21:41:58.108343Z"
    },
    "trusted": true
   },
   "outputs": [],
   "source": [
    "import numpy as np\n",
    "import pandas as pd\n",
    "import matplotlib.pyplot as plt\n",
    "from sklearn.preprocessing import StandardScaler, OrdinalEncoder\n",
    "from sklearn.metrics import mean_absolute_error\n",
    "import tensorflow as tf\n",
    "import optuna\n",
    "import os\n",
    "import random\n",
    "import datetime\n",
    "\n",
    "np.random.seed(42)\n",
    "tf.random.set_seed(42)\n",
    "random.seed(42)"
   ]
  },
  {
   "cell_type": "code",
   "execution_count": 2,
   "metadata": {
    "execution": {
     "iopub.execute_input": "2025-01-04T21:42:06.316127Z",
     "iopub.status.busy": "2025-01-04T21:42:06.315627Z",
     "iopub.status.idle": "2025-01-04T21:42:06.778628Z",
     "shell.execute_reply": "2025-01-04T21:42:06.777776Z",
     "shell.execute_reply.started": "2025-01-04T21:42:06.316088Z"
    },
    "trusted": true
   },
   "outputs": [
    {
     "data": {
      "text/plain": [
       "[PhysicalDevice(name='/physical_device:CPU:0', device_type='CPU')]"
      ]
     },
     "execution_count": 2,
     "metadata": {},
     "output_type": "execute_result"
    }
   ],
   "source": [
    "tf.config.list_physical_devices()"
   ]
  },
  {
   "cell_type": "markdown",
   "metadata": {},
   "source": [
    "# Data"
   ]
  },
  {
   "cell_type": "code",
   "execution_count": 3,
   "metadata": {
    "execution": {
     "iopub.execute_input": "2025-01-04T21:43:14.110482Z",
     "iopub.status.busy": "2025-01-04T21:43:14.110155Z",
     "iopub.status.idle": "2025-01-04T21:43:14.423408Z",
     "shell.execute_reply": "2025-01-04T21:43:14.422720Z",
     "shell.execute_reply.started": "2025-01-04T21:43:14.110454Z"
    },
    "trusted": true
   },
   "outputs": [
    {
     "name": "stdout",
     "output_type": "stream",
     "text": [
      "(40898, 4)\n"
     ]
    },
    {
     "data": {
      "text/html": [
       "<div>\n",
       "<style scoped>\n",
       "    .dataframe tbody tr th:only-of-type {\n",
       "        vertical-align: middle;\n",
       "    }\n",
       "\n",
       "    .dataframe tbody tr th {\n",
       "        vertical-align: top;\n",
       "    }\n",
       "\n",
       "    .dataframe thead th {\n",
       "        text-align: right;\n",
       "    }\n",
       "</style>\n",
       "<table border=\"1\" class=\"dataframe\">\n",
       "  <thead>\n",
       "    <tr style=\"text-align: right;\">\n",
       "      <th></th>\n",
       "      <th>STATION</th>\n",
       "      <th>NAME</th>\n",
       "      <th>DATE</th>\n",
       "      <th>TMAX</th>\n",
       "    </tr>\n",
       "  </thead>\n",
       "  <tbody>\n",
       "    <tr>\n",
       "      <th>0</th>\n",
       "      <td>USW00012916</td>\n",
       "      <td>NEW ORLEANS AIRPORT, LA US</td>\n",
       "      <td>2010-01-01</td>\n",
       "      <td>12.2</td>\n",
       "    </tr>\n",
       "    <tr>\n",
       "      <th>1</th>\n",
       "      <td>USW00012916</td>\n",
       "      <td>NEW ORLEANS AIRPORT, LA US</td>\n",
       "      <td>2010-01-02</td>\n",
       "      <td>10.6</td>\n",
       "    </tr>\n",
       "    <tr>\n",
       "      <th>2</th>\n",
       "      <td>USW00012916</td>\n",
       "      <td>NEW ORLEANS AIRPORT, LA US</td>\n",
       "      <td>2010-01-03</td>\n",
       "      <td>8.3</td>\n",
       "    </tr>\n",
       "    <tr>\n",
       "      <th>3</th>\n",
       "      <td>USW00012916</td>\n",
       "      <td>NEW ORLEANS AIRPORT, LA US</td>\n",
       "      <td>2010-01-04</td>\n",
       "      <td>6.1</td>\n",
       "    </tr>\n",
       "    <tr>\n",
       "      <th>4</th>\n",
       "      <td>USW00012916</td>\n",
       "      <td>NEW ORLEANS AIRPORT, LA US</td>\n",
       "      <td>2010-01-05</td>\n",
       "      <td>6.1</td>\n",
       "    </tr>\n",
       "  </tbody>\n",
       "</table>\n",
       "</div>"
      ],
      "text/plain": [
       "       STATION                        NAME       DATE  TMAX\n",
       "0  USW00012916  NEW ORLEANS AIRPORT, LA US 2010-01-01  12.2\n",
       "1  USW00012916  NEW ORLEANS AIRPORT, LA US 2010-01-02  10.6\n",
       "2  USW00012916  NEW ORLEANS AIRPORT, LA US 2010-01-03   8.3\n",
       "3  USW00012916  NEW ORLEANS AIRPORT, LA US 2010-01-04   6.1\n",
       "4  USW00012916  NEW ORLEANS AIRPORT, LA US 2010-01-05   6.1"
      ]
     },
     "execution_count": 3,
     "metadata": {},
     "output_type": "execute_result"
    }
   ],
   "source": [
    "data_path = 'https://raw.githubusercontent.com/antbartash/max_temp/master/data/data2.csv'\n",
    "data = pd.read_csv(data_path, index_col=0)\n",
    "data['DATE'] = data['DATE'].astype('datetime64[ns]')\n",
    "\n",
    "print(data.shape)\n",
    "data.head()"
   ]
  },
  {
   "cell_type": "code",
   "execution_count": 4,
   "metadata": {
    "execution": {
     "iopub.execute_input": "2025-01-04T21:43:16.767163Z",
     "iopub.status.busy": "2025-01-04T21:43:16.766799Z",
     "iopub.status.idle": "2025-01-04T21:43:16.787460Z",
     "shell.execute_reply": "2025-01-04T21:43:16.786454Z",
     "shell.execute_reply.started": "2025-01-04T21:43:16.767134Z"
    },
    "trusted": true
   },
   "outputs": [
    {
     "name": "stdout",
     "output_type": "stream",
     "text": [
      "(40898, 5)\n"
     ]
    },
    {
     "data": {
      "text/html": [
       "<div>\n",
       "<style scoped>\n",
       "    .dataframe tbody tr th:only-of-type {\n",
       "        vertical-align: middle;\n",
       "    }\n",
       "\n",
       "    .dataframe tbody tr th {\n",
       "        vertical-align: top;\n",
       "    }\n",
       "\n",
       "    .dataframe thead th {\n",
       "        text-align: right;\n",
       "    }\n",
       "</style>\n",
       "<table border=\"1\" class=\"dataframe\">\n",
       "  <thead>\n",
       "    <tr style=\"text-align: right;\">\n",
       "      <th></th>\n",
       "      <th>STATION</th>\n",
       "      <th>DATE</th>\n",
       "      <th>TMAX</th>\n",
       "      <th>Year_sin</th>\n",
       "      <th>Year_cos</th>\n",
       "    </tr>\n",
       "  </thead>\n",
       "  <tbody>\n",
       "    <tr>\n",
       "      <th>0</th>\n",
       "      <td>USW00012916</td>\n",
       "      <td>2010-01-01</td>\n",
       "      <td>12.2</td>\n",
       "      <td>0.017202</td>\n",
       "      <td>0.999852</td>\n",
       "    </tr>\n",
       "    <tr>\n",
       "      <th>1</th>\n",
       "      <td>USW00012916</td>\n",
       "      <td>2010-01-02</td>\n",
       "      <td>10.6</td>\n",
       "      <td>0.034398</td>\n",
       "      <td>0.999408</td>\n",
       "    </tr>\n",
       "    <tr>\n",
       "      <th>2</th>\n",
       "      <td>USW00012916</td>\n",
       "      <td>2010-01-03</td>\n",
       "      <td>8.3</td>\n",
       "      <td>0.051584</td>\n",
       "      <td>0.998669</td>\n",
       "    </tr>\n",
       "    <tr>\n",
       "      <th>3</th>\n",
       "      <td>USW00012916</td>\n",
       "      <td>2010-01-04</td>\n",
       "      <td>6.1</td>\n",
       "      <td>0.068755</td>\n",
       "      <td>0.997634</td>\n",
       "    </tr>\n",
       "    <tr>\n",
       "      <th>4</th>\n",
       "      <td>USW00012916</td>\n",
       "      <td>2010-01-05</td>\n",
       "      <td>6.1</td>\n",
       "      <td>0.085906</td>\n",
       "      <td>0.996303</td>\n",
       "    </tr>\n",
       "  </tbody>\n",
       "</table>\n",
       "</div>"
      ],
      "text/plain": [
       "       STATION       DATE  TMAX  Year_sin  Year_cos\n",
       "0  USW00012916 2010-01-01  12.2  0.017202  0.999852\n",
       "1  USW00012916 2010-01-02  10.6  0.034398  0.999408\n",
       "2  USW00012916 2010-01-03   8.3  0.051584  0.998669\n",
       "3  USW00012916 2010-01-04   6.1  0.068755  0.997634\n",
       "4  USW00012916 2010-01-05   6.1  0.085906  0.996303"
      ]
     },
     "execution_count": 4,
     "metadata": {},
     "output_type": "execute_result"
    }
   ],
   "source": [
    "data = data[['STATION', 'DATE', 'TMAX']]\n",
    "\n",
    "# add sine and cosine transforms to add periodicality\n",
    "doy = data['DATE'].dt.dayofyear / 365.25\n",
    "data['Year_sin'] = np.sin(doy * 2 * np.pi)\n",
    "data['Year_cos'] = np.cos(doy * 2 * np.pi)\n",
    "\n",
    "print(data.shape)\n",
    "data.head()"
   ]
  },
  {
   "cell_type": "markdown",
   "metadata": {
    "execution": {
     "iopub.execute_input": "2024-12-28T11:24:06.993684Z",
     "iopub.status.busy": "2024-12-28T11:24:06.993325Z",
     "iopub.status.idle": "2024-12-28T11:24:06.997628Z",
     "shell.execute_reply": "2024-12-28T11:24:06.996626Z",
     "shell.execute_reply.started": "2024-12-28T11:24:06.993646Z"
    }
   },
   "source": [
    "## Data preprocessing"
   ]
  },
  {
   "cell_type": "code",
   "execution_count": 5,
   "metadata": {
    "execution": {
     "iopub.execute_input": "2025-01-04T21:43:17.156706Z",
     "iopub.status.busy": "2025-01-04T21:43:17.156386Z",
     "iopub.status.idle": "2025-01-04T21:43:17.175424Z",
     "shell.execute_reply": "2025-01-04T21:43:17.174761Z",
     "shell.execute_reply.started": "2025-01-04T21:43:17.156677Z"
    },
    "trusted": true
   },
   "outputs": [
    {
     "name": "stdout",
     "output_type": "stream",
     "text": [
      "Train: (35058, 5)\n",
      "Valid: (2920, 5)\n",
      "Test: (2920, 5)\n"
     ]
    }
   ],
   "source": [
    "# TRAIN/VALID/TEST SPLIT\n",
    "\n",
    "train_df = data.loc[data['DATE'].dt.year <= 2021].reset_index(drop=True).copy()\n",
    "valid_df = data.loc[data['DATE'].dt.year == 2022].reset_index(drop=True).copy()\n",
    "test_df = data.loc[data['DATE'].dt.year == 2023].reset_index(drop=True).copy()\n",
    "\n",
    "print(f'Train: {train_df.shape}')\n",
    "print(f'Valid: {valid_df.shape}')\n",
    "print(f'Test: {test_df.shape}')"
   ]
  },
  {
   "cell_type": "code",
   "execution_count": 6,
   "metadata": {
    "execution": {
     "iopub.execute_input": "2025-01-04T21:43:17.596640Z",
     "iopub.status.busy": "2025-01-04T21:43:17.596374Z",
     "iopub.status.idle": "2025-01-04T21:43:17.627119Z",
     "shell.execute_reply": "2025-01-04T21:43:17.626253Z",
     "shell.execute_reply.started": "2025-01-04T21:43:17.596618Z"
    },
    "trusted": true
   },
   "outputs": [
    {
     "data": {
      "text/html": [
       "<div>\n",
       "<style scoped>\n",
       "    .dataframe tbody tr th:only-of-type {\n",
       "        vertical-align: middle;\n",
       "    }\n",
       "\n",
       "    .dataframe tbody tr th {\n",
       "        vertical-align: top;\n",
       "    }\n",
       "\n",
       "    .dataframe thead th {\n",
       "        text-align: right;\n",
       "    }\n",
       "</style>\n",
       "<table border=\"1\" class=\"dataframe\">\n",
       "  <thead>\n",
       "    <tr style=\"text-align: right;\">\n",
       "      <th></th>\n",
       "      <th>STATION</th>\n",
       "      <th>TMAX</th>\n",
       "      <th>Year_sin</th>\n",
       "      <th>Year_cos</th>\n",
       "    </tr>\n",
       "  </thead>\n",
       "  <tbody>\n",
       "    <tr>\n",
       "      <th>0</th>\n",
       "      <td>-1.091014</td>\n",
       "      <td>-0.747812</td>\n",
       "      <td>0.024401</td>\n",
       "      <td>1.414059</td>\n",
       "    </tr>\n",
       "    <tr>\n",
       "      <th>1</th>\n",
       "      <td>-1.091014</td>\n",
       "      <td>-0.896450</td>\n",
       "      <td>0.048721</td>\n",
       "      <td>1.413431</td>\n",
       "    </tr>\n",
       "    <tr>\n",
       "      <th>2</th>\n",
       "      <td>-1.091014</td>\n",
       "      <td>-1.110117</td>\n",
       "      <td>0.073027</td>\n",
       "      <td>1.412386</td>\n",
       "    </tr>\n",
       "    <tr>\n",
       "      <th>3</th>\n",
       "      <td>-1.091014</td>\n",
       "      <td>-1.314495</td>\n",
       "      <td>0.097312</td>\n",
       "      <td>1.410922</td>\n",
       "    </tr>\n",
       "    <tr>\n",
       "      <th>4</th>\n",
       "      <td>-1.091014</td>\n",
       "      <td>-1.314495</td>\n",
       "      <td>0.121567</td>\n",
       "      <td>1.409041</td>\n",
       "    </tr>\n",
       "  </tbody>\n",
       "</table>\n",
       "</div>"
      ],
      "text/plain": [
       "    STATION      TMAX  Year_sin  Year_cos\n",
       "0 -1.091014 -0.747812  0.024401  1.414059\n",
       "1 -1.091014 -0.896450  0.048721  1.413431\n",
       "2 -1.091014 -1.110117  0.073027  1.412386\n",
       "3 -1.091014 -1.314495  0.097312  1.410922\n",
       "4 -1.091014 -1.314495  0.121567  1.409041"
      ]
     },
     "execution_count": 6,
     "metadata": {},
     "output_type": "execute_result"
    }
   ],
   "source": [
    "# SCALING\n",
    "\n",
    "train_df.drop(columns=['DATE'], inplace=True)\n",
    "valid_df.drop(columns=['DATE'], inplace=True)\n",
    "test_df.drop(columns=['DATE'], inplace=True)\n",
    "\n",
    "# keep station to drop mixed windows later (encode to avoid errors from scaler)\n",
    "encoder = OrdinalEncoder()\n",
    "encoder.fit(train_df[['STATION']])\n",
    "train_df['STATION'] = encoder.transform(train_df[['STATION']])[:, 0]\n",
    "valid_df['STATION'] = encoder.transform(valid_df[['STATION']])[:, 0]\n",
    "test_df['STATION'] = encoder.transform(test_df[['STATION']])[:, 0]\n",
    "\n",
    "# scaling\n",
    "scaler = StandardScaler()\n",
    "scaler.fit(train_df)\n",
    "train_df = pd.DataFrame(scaler.transform(train_df),\n",
    "                        columns=scaler.feature_names_in_, index=train_df.index)\n",
    "valid_df = pd.DataFrame(scaler.transform(valid_df),\n",
    "                        columns=scaler.feature_names_in_, index=valid_df.index)\n",
    "test_df = pd.DataFrame(scaler.transform(test_df),\n",
    "                       columns=scaler.feature_names_in_, index=test_df.index)\n",
    "\n",
    "train_df.head()"
   ]
  },
  {
   "cell_type": "code",
   "execution_count": 7,
   "metadata": {
    "execution": {
     "iopub.execute_input": "2025-01-04T21:43:38.417696Z",
     "iopub.status.busy": "2025-01-04T21:43:38.417375Z",
     "iopub.status.idle": "2025-01-04T21:43:38.421356Z",
     "shell.execute_reply": "2025-01-04T21:43:38.420546Z",
     "shell.execute_reply.started": "2025-01-04T21:43:38.417666Z"
    },
    "trusted": true
   },
   "outputs": [],
   "source": [
    "def tmax_inverse_transform(arr, scale=scaler.scale_[1], mean=scaler.mean_[1]):\n",
    "    return arr * scale + mean"
   ]
  },
  {
   "cell_type": "code",
   "execution_count": 8,
   "metadata": {
    "execution": {
     "iopub.execute_input": "2025-01-04T21:43:38.534957Z",
     "iopub.status.busy": "2025-01-04T21:43:38.534741Z",
     "iopub.status.idle": "2025-01-04T21:43:39.111636Z",
     "shell.execute_reply": "2025-01-04T21:43:39.110869Z",
     "shell.execute_reply.started": "2025-01-04T21:43:38.534939Z"
    },
    "trusted": true
   },
   "outputs": [],
   "source": [
    "# TF DATASET\n",
    "\n",
    "def create_dataset(data, target_col, source_col, seq_length):\n",
    "  input_data = data[:-seq_length]\n",
    "  # adding source_col to target allows to drop samples with features and target\n",
    "  # from diff sources (source_col will be dropped from the target later)\n",
    "  targets = data[[source_col, target_col]][seq_length:]\n",
    "  dataset = tf.keras.preprocessing.timeseries_dataset_from_array(\n",
    "      input_data, targets,\n",
    "      sequence_length=seq_length,\n",
    "      sequence_stride=1,\n",
    "      batch_size=32,\n",
    "      shuffle=False,\n",
    "      seed=42\n",
    "    )\n",
    "  for batch in dataset:\n",
    "    inputs, targets = batch\n",
    "    assert np.array_equal(inputs[0], data[:seq_length])  # First sequence: steps [0-13]\n",
    "    # Corresponding target: step 14\n",
    "    assert np.array_equal(targets[0, 1], data.loc[seq_length, target_col])\n",
    "    break\n",
    "  return dataset\n",
    "\n",
    "train_ds = create_dataset(train_df, 'TMAX', 'STATION', 14)\n",
    "valid_ds = create_dataset(valid_df, 'TMAX', 'STATION', 14)\n",
    "test_ds = create_dataset(test_df, 'TMAX', 'STATION', 14)"
   ]
  },
  {
   "cell_type": "code",
   "execution_count": 9,
   "metadata": {
    "execution": {
     "iopub.execute_input": "2025-01-04T21:43:39.113275Z",
     "iopub.status.busy": "2025-01-04T21:43:39.112920Z",
     "iopub.status.idle": "2025-01-04T21:43:39.385186Z",
     "shell.execute_reply": "2025-01-04T21:43:39.384479Z",
     "shell.execute_reply.started": "2025-01-04T21:43:39.113238Z"
    },
    "trusted": true
   },
   "outputs": [],
   "source": [
    "# DATASET CLEANING\n",
    "\n",
    "def filter_mixed_windows(dataset):\n",
    "    def is_valid_window(inputs, targets):\n",
    "        # Extract the first feature (station) from inputs and targets\n",
    "        input_station_ids = inputs[:, :, 0]  # Shape: (batch_size, sequence_length)\n",
    "        target_station_ids = targets[:, 0]  # Shape: (batch_size)\n",
    "\n",
    "        # Check if all station IDs in the inputs are the same\n",
    "        input_same_station = tf.reduce_all(tf.reduce_max(input_station_ids, axis=1) == tf.reduce_min(input_station_ids, axis=1))\n",
    "\n",
    "        # Check if the target's station ID matches the input station ID\n",
    "        target_matches_input = tf.reduce_all(tf.reduce_max(input_station_ids, axis=1) == target_station_ids)\n",
    "\n",
    "        # Only keep windows where both conditions are true\n",
    "        return tf.logical_and(input_same_station, target_matches_input)\n",
    "\n",
    "    # Filter the dataset\n",
    "    filtered_dataset = dataset.filter(is_valid_window)\n",
    "    return filtered_dataset\n",
    "\n",
    "train_ds = filter_mixed_windows(train_ds)\n",
    "valid_ds = filter_mixed_windows(valid_ds)\n",
    "test_ds = filter_mixed_windows(test_ds)"
   ]
  },
  {
   "cell_type": "code",
   "execution_count": 10,
   "metadata": {
    "execution": {
     "iopub.execute_input": "2025-01-04T21:43:41.574443Z",
     "iopub.status.busy": "2025-01-04T21:43:41.574137Z",
     "iopub.status.idle": "2025-01-04T21:43:41.642164Z",
     "shell.execute_reply": "2025-01-04T21:43:41.641520Z",
     "shell.execute_reply.started": "2025-01-04T21:43:41.574419Z"
    },
    "trusted": true
   },
   "outputs": [],
   "source": [
    "def drop_first_column(feature, label):\n",
    "    feature = feature[:, :, 1:]  # Keep all rows, drop the first column\n",
    "    label = label[:, 1:]    # Keep all rows, drop the first column\n",
    "    return feature, label\n",
    "\n",
    "train_ds = train_ds.map(drop_first_column)\n",
    "valid_ds = valid_ds.map(drop_first_column)\n",
    "test_ds = test_ds.map(drop_first_column)"
   ]
  },
  {
   "cell_type": "code",
   "execution_count": 11,
   "metadata": {
    "execution": {
     "iopub.execute_input": "2025-01-04T21:43:41.754345Z",
     "iopub.status.busy": "2025-01-04T21:43:41.754114Z",
     "iopub.status.idle": "2025-01-04T21:43:44.362360Z",
     "shell.execute_reply": "2025-01-04T21:43:44.361427Z",
     "shell.execute_reply.started": "2025-01-04T21:43:41.754325Z"
    },
    "trusted": true
   },
   "outputs": [],
   "source": [
    "def load_data(batch_size, prefetch=tf.data.AUTOTUNE,\n",
    "              train_ds=train_ds, valid_ds=valid_ds, test_ds=test_ds):\n",
    "    train_ds = train_ds.rebatch(batch_size).prefetch(prefetch)\n",
    "    valid_ds = valid_ds.rebatch(batch_size).prefetch(prefetch)\n",
    "    test_ds = test_ds.rebatch(batch_size).prefetch(prefetch)\n",
    "    train_num_batches = len(list(train_ds))\n",
    "    valid_num_batches = len(list(valid_ds))\n",
    "    test_num_batches = len(list(test_ds))\n",
    "    # print(f'load_data - num_batches (train, valid, test): {train_num_batches}, {valid_num_batches}, {test_num_batches}')\n",
    "    train_ds_repeat = train_ds.repeat()\n",
    "    valid_ds_repeat = valid_ds.repeat()\n",
    "    test_ds_repeat = test_ds.repeat()\n",
    "    return train_ds_repeat, valid_ds_repeat, test_ds_repeat, train_num_batches, valid_num_batches, test_num_batches\n",
    "\n",
    "train_ds_repeat, valid_ds_repeat, test_ds_repeat, train_num_batches, valid_num_batches, test_num_batches = load_data(batch_size=32)"
   ]
  },
  {
   "cell_type": "markdown",
   "metadata": {},
   "source": [
    "# Model"
   ]
  },
  {
   "cell_type": "code",
   "execution_count": 12,
   "metadata": {
    "execution": {
     "iopub.execute_input": "2025-01-04T21:43:44.365646Z",
     "iopub.status.busy": "2025-01-04T21:43:44.365429Z",
     "iopub.status.idle": "2025-01-04T21:43:44.382123Z",
     "shell.execute_reply": "2025-01-04T21:43:44.381370Z",
     "shell.execute_reply.started": "2025-01-04T21:43:44.365628Z"
    },
    "trusted": true
   },
   "outputs": [],
   "source": [
    "# NOTE: THE FUNCTION DOES NOT INCLUDE BIRNN OPTION DUE TO INTERPRETABILITY ISSUE WITH THE WEATHER DATASET\n",
    "\n",
    "def create_model(trial, input_shape):\n",
    "    model = tf.keras.models.Sequential()\n",
    "    model.add(tf.keras.layers.Input(shape=input_shape))\n",
    "    \n",
    "    # RNN LAYERS\n",
    "    rnn_num_layers = trial.suggest_int('rnn_num_layers', 1, 3)\n",
    "    units = trial.suggest_categorical(f'units_rnn', [2, 4, 8, 16, 32])\n",
    "    for rnn_layer_num in range(rnn_num_layers):\n",
    "        # actv_func = trial.suggest_categorical(f'actv_func_rnn_{rnn_layer_num}', ['relu', 'leaky_relu', 'elu', 'sigmoid', 'tanh', 'gelu'])\n",
    "        # rec_actv_func = trial.suggest_categorical(f'rec_actv_func_rnn_{rnn_layer_num}', ['relu', 'leaky_relu', 'elu', 'sigmoid', 'tanh', 'gelu'])\n",
    "        \n",
    "        bias_reg_init = trial.suggest_categorical(f'bias_reg_init_rnn_layer{rnn_layer_num}', ['l1', 'l2', 'l1l2', None])\n",
    "        if bias_reg_init == 'l1':\n",
    "            bias_reg = tf.keras.regularizers.l1(trial.suggest_float(f'bias_reg_rnn_layer_{rnn_layer_num}', 0.0001, 0.5))\n",
    "        elif bias_reg_init == 'l2':\n",
    "            bias_reg = tf.keras.regularizers.l2(trial.suggest_float(f'bias_reg_rnn_layer_{rnn_layer_num}', 0.0001, 0.5))\n",
    "        elif bias_reg_init == 'l1l2':\n",
    "            bias_reg = tf.keras.regularizers.L1L2(trial.suggest_float(f'bias_reg_rnn_layer_{rnn_layer_num}_l1', 0.0001, 0.5),\n",
    "                                                  trial.suggest_float(f'bias_reg_rnn_layer_{rnn_layer_num}_l2', 0.0001, 0.5))\n",
    "        else:\n",
    "            bias_reg = None\n",
    "\n",
    "        kernel_reg_init = trial.suggest_categorical(f'kernel_reg_init_rnn_layer_{rnn_layer_num}', ['l1', 'l2', 'l1l2', None])\n",
    "        if kernel_reg_init == 'l1':\n",
    "            kernel_reg = tf.keras.regularizers.l1(trial.suggest_float(f'kernel_reg_rnn_layer_{rnn_layer_num}', 0.0001, 0.5))\n",
    "        elif kernel_reg_init == 'l2':\n",
    "            kernel_reg = tf.keras.regularizers.l2(trial.suggest_float(f'kernel_reg_rnn_layer_{rnn_layer_num}', 0.0001, 0.5))\n",
    "        elif kernel_reg_init == 'l1l2':\n",
    "            kernel_reg = tf.keras.regularizers.L1L2(trial.suggest_float(f'kernel_reg_rnn_layer_{rnn_layer_num}_l1', 0.0001, 0.5),\n",
    "                                                    trial.suggest_float(f'kernel_reg_rnn_layer_{rnn_layer_num}_l2', 0.0001, 0.5))\n",
    "        else:\n",
    "            kernel_reg = None\n",
    "\n",
    "        kernel_initializer = trial.suggest_categorical(\n",
    "            f'kernel_initializer_rnn_layer_{rnn_layer_num}',\n",
    "            ['glorot_uniform', 'glorot_normal', 'he_uniform', 'he_normal', 'lecun_uniform', 'lecun_normal']\n",
    "        )\n",
    "\n",
    "        if rnn_layer_num == rnn_num_layers-1: # last rnn layer \n",
    "            return_sequences = False \n",
    "        else: \n",
    "            return_sequences = True\n",
    "\n",
    "        \n",
    "        model.add(\n",
    "            tf.keras.layers.LSTM(\n",
    "                units=units,\n",
    "                # activation=actv_func,\n",
    "                # recurrent_activation=rec_actv_func,\n",
    "                kernel_initializer=kernel_initializer,\n",
    "                bias_regularizer=bias_reg,\n",
    "                kernel_regularizer=kernel_reg,\n",
    "                return_sequences=return_sequences\n",
    "            )\n",
    "        )\n",
    "\n",
    "    \n",
    "    # FLATTEN\n",
    "    model.add(tf.keras.layers.Flatten())\n",
    "    \n",
    "    # DENSE LAYERS\n",
    "    # layer 0\n",
    "    n_units_0 = trial.suggest_int('nunints_layer_0', 32, 512, step=32)\n",
    "    actv_func_0 = trial.suggest_categorical('actv_func_layer_0', ['relu', 'leaky_relu', 'elu', 'sigmoid', 'tanh', 'gelu'])\n",
    "\n",
    "    bias_reg_init_0 = trial.suggest_categorical('bias_reg_init_layer_0', ['l1', 'l2', 'l1l2', None])\n",
    "    if bias_reg_init_0 == 'l1':\n",
    "        bias_reg_0 = tf.keras.regularizers.l1(trial.suggest_float('bias_reg_layer_0', 0.0001, 0.5))\n",
    "    elif bias_reg_init_0 == 'l2':\n",
    "        bias_reg_0 = tf.keras.regularizers.l2(trial.suggest_float('bias_reg_layer_0', 0.0001, 0.5))\n",
    "    elif bias_reg_init_0 == 'l1l2':\n",
    "        bias_reg_0 = tf.keras.regularizers.L1L2(trial.suggest_float('bias_reg_layer_0_l1', 0.0001, 0.5),\n",
    "                                                trial.suggest_float('bias_reg_layer_0_l2', 0.0001, 0.5))\n",
    "    else:\n",
    "        bias_reg_0 = None\n",
    "\n",
    "    kernel_reg_init_0 = trial.suggest_categorical('kernel_reg_init_layer_0', ['l1', 'l2', 'l1l2', None])\n",
    "    if kernel_reg_init_0 == 'l1':\n",
    "        kernel_reg_0 = tf.keras.regularizers.l1(trial.suggest_float('kernel_reg_layer_0', 0.0001, 0.5))\n",
    "    elif kernel_reg_init_0 == 'l2':\n",
    "        kernel_reg_0 = tf.keras.regularizers.l2(trial.suggest_float('kernel_reg_layer_0', 0.0001, 0.5))\n",
    "    elif kernel_reg_init_0 == 'l1l2':\n",
    "        kernel_reg_0 = tf.keras.regularizers.L1L2(trial.suggest_float('kernel_reg_layer_0_l1', 0.0001, 0.5),\n",
    "                                                  trial.suggest_float('kernel_reg_layer_0_l2', 0.0001, 0.5))\n",
    "    else:\n",
    "        kernel_reg_0 = None\n",
    "\n",
    "    kernel_initializer_0 = trial.suggest_categorical(\n",
    "        'kernel_initializer_layer_0', ['glorot_uniform', 'glorot_normal',\n",
    "                                       'he_uniform', 'he_normal',\n",
    "                                       'lecun_uniform', 'lecun_normal']\n",
    "    )\n",
    "    \n",
    "    model.add(\n",
    "        tf.keras.layers.Dense(\n",
    "            units=n_units_0, activation=actv_func_0, \n",
    "            kernel_initializer=kernel_initializer_0,\n",
    "            bias_regularizer=bias_reg_0,\n",
    "            kernel_regularizer=kernel_reg_0\n",
    "        )\n",
    "    )\n",
    "\n",
    "    \n",
    "    # hidden layers\n",
    "    num_layers = trial.suggest_int('num_layers', 0, 2)\n",
    "    batch_norm = trial.suggest_categorical(f'batch_norm', [True, False])\n",
    "    for layer_num in range(num_layers):\n",
    "        layer_i = layer_num + 1\n",
    "        n_units = trial.suggest_int(f'nunits_layer_{layer_i}', 32, 512, step=32)\n",
    "        actv_func = trial.suggest_categorical(f'actv_func_layer_{layer_i}', ['relu', 'leaky_relu', 'elu', 'sigmoid', 'tanh', 'gelu'])\n",
    "\n",
    "        bias_reg_init = trial.suggest_categorical(f'bias_reg_init_layer_{layer_i}', ['l1', 'l2', 'l1l2', None])\n",
    "        if bias_reg_init == 'l1':\n",
    "            bias_reg = tf.keras.regularizers.l1(trial.suggest_float(f'bias_reg_layer_{layer_i}', 0.0001, 0.5))\n",
    "        elif bias_reg_init == 'l2':\n",
    "            bias_reg = tf.keras.regularizers.l2(trial.suggest_float(f'bias_reg_layer_{layer_i}', 0.0001, 0.5))\n",
    "        elif bias_reg_init == 'l1l2':\n",
    "            bias_reg = tf.keras.regularizers.L1L2(trial.suggest_float(f'bias_reg_layer_{layer_i}_l1', 0.0001, 0.5),\n",
    "                                                  trial.suggest_float(f'bias_reg_layer_{layer_i}_l2', 0.0001, 0.5))\n",
    "        else:\n",
    "            bias_reg = None\n",
    "\n",
    "        kernel_reg_init = trial.suggest_categorical(f'kernel_reg_init_layer_{layer_i}', ['l1', 'l2', 'l1l2', None])\n",
    "        if kernel_reg_init == 'l1':\n",
    "            kernel_reg = tf.keras.regularizers.l1(trial.suggest_float(f'kernel_reg_layer_{layer_i}', 0.0001, 0.5))\n",
    "        elif kernel_reg_init == 'l2':\n",
    "            kernel_reg = tf.keras.regularizers.l2(trial.suggest_float(f'kernel_reg_layer_{layer_i}', 0.0001, 0.5))\n",
    "        elif kernel_reg_init == 'l1l2':\n",
    "            kernel_reg = tf.keras.regularizers.L1L2(trial.suggest_float(f'kernel_reg_layer_{layer_i}_l1', 0.0001, 0.5),\n",
    "                                                    trial.suggest_float(f'kernel_reg_layer_{layer_i}_l2', 0.0001, 0.5))\n",
    "        else:\n",
    "            kernel_reg = None\n",
    "\n",
    "        kernel_initializer = trial.suggest_categorical(\n",
    "            f'kernel_initializer_layer_{layer_i}', ['glorot_uniform', 'glorot_normal',\n",
    "                                                    'he_uniform', 'he_normal',\n",
    "                                                    'lecun_uniform', 'lecun_normal']\n",
    "        )\n",
    "        \n",
    "        if batch_norm:\n",
    "            model.add(tf.keras.layers.BatchNormalization())\n",
    "        dropout_rate = trial.suggest_float(f'dropout_rate_layer_{layer_i}', 0.0, 0.999)\n",
    "        model.add(tf.keras.layers.Dropout(dropout_rate))\n",
    "        model.add(\n",
    "            tf.keras.layers.Dense(\n",
    "                n_units, actv_func, \n",
    "                kernel_initializer=kernel_initializer,\n",
    "                bias_regularizer=bias_reg,\n",
    "                kernel_regularizer=kernel_reg\n",
    "            )\n",
    "        )\n",
    "    if batch_norm:\n",
    "        model.add(tf.keras.layers.BatchNormalization())\n",
    "    dropout_rate = trial.suggest_float(f'dropout_rate_layer_output', 0.0, 0.999)\n",
    "    model.add(tf.keras.layers.Dropout(dropout_rate))\n",
    "    model.add(tf.keras.layers.Dense(1, activation='linear'))\n",
    "    return model"
   ]
  },
  {
   "cell_type": "markdown",
   "metadata": {},
   "source": [
    "# Optimizer"
   ]
  },
  {
   "cell_type": "code",
   "execution_count": 13,
   "metadata": {
    "execution": {
     "iopub.execute_input": "2025-01-04T21:43:48.943118Z",
     "iopub.status.busy": "2025-01-04T21:43:48.942807Z",
     "iopub.status.idle": "2025-01-04T21:43:48.949626Z",
     "shell.execute_reply": "2025-01-04T21:43:48.948617Z",
     "shell.execute_reply.started": "2025-01-04T21:43:48.943090Z"
    },
    "trusted": true
   },
   "outputs": [],
   "source": [
    "def create_optimizer(trial):\n",
    "    opt_kwargs = {}\n",
    "    opt_init = trial.suggest_categorical('optimizer', ['SGD', 'Adam', 'Nadam', 'Adamax'])\n",
    "    if opt_init == 'SGD':\n",
    "        opt_kwargs['learning_rate'] = trial.suggest_float('opt_lr', 1e-2, 1e-1, log=True)\n",
    "        opt_kwargs['momentum'] = trial.suggest_float('opt_momentum', 1e-5, 0.1, log=True)\n",
    "        opt_kwargs['nesterov'] = trial.suggest_categorical('opt_nesterov', [True, False])\n",
    "    if opt_init == 'Adam':\n",
    "        opt_kwargs['learning_rate'] = trial.suggest_float('opt_lr', 1e-2, 1e-1, log=True)\n",
    "        opt_kwargs['beta_1'] = trial.suggest_categorical('opt_beta_1', [0.9, 0.95, 0.99, 0.999])\n",
    "        opt_kwargs['beta_2'] = trial.suggest_categorical('opt_beta_2', [0.9, 0.95, 0.99, 0.999])\n",
    "    if opt_init == 'Nadam':\n",
    "        opt_kwargs['learning_rate'] = trial.suggest_float('opt_lr', 1e-2, 1e-1, log=True)\n",
    "        opt_kwargs['beta_1'] = trial.suggest_categorical('opt_beta_1', [0.9, 0.95, 0.99, 0.999])\n",
    "        opt_kwargs['beta_2'] = trial.suggest_categorical('opt_beta_2', [0.9, 0.95, 0.99, 0.999])\n",
    "    if opt_init == 'Adamax':\n",
    "        opt_kwargs['learning_rate'] = trial.suggest_float('opt_lr', 1e-2, 1e-1, log=True)\n",
    "        opt_kwargs['beta_1'] = trial.suggest_categorical('opt_beta_1', [0.9, 0.95, 0.99, 0.999])\n",
    "        opt_kwargs['beta_2'] = trial.suggest_categorical('opt_beta_2', [0.9, 0.95, 0.99, 0.999])\n",
    "    optimizer = getattr(tf.optimizers, opt_init)(**opt_kwargs)\n",
    "    return optimizer"
   ]
  },
  {
   "cell_type": "markdown",
   "metadata": {},
   "source": [
    "# Objective/train"
   ]
  },
  {
   "cell_type": "code",
   "execution_count": 14,
   "metadata": {
    "execution": {
     "iopub.execute_input": "2025-01-04T21:44:06.044900Z",
     "iopub.status.busy": "2025-01-04T21:44:06.044502Z",
     "iopub.status.idle": "2025-01-04T21:44:06.053540Z",
     "shell.execute_reply": "2025-01-04T21:44:06.052701Z",
     "shell.execute_reply.started": "2025-01-04T21:44:06.044861Z"
    },
    "trusted": true
   },
   "outputs": [],
   "source": [
    "INPUT_SHAPE = (14, 3, )\n",
    "\n",
    "def objective(trial):\n",
    "    batch_size = trial.suggest_categorical('batch_size', [32, 64, 128, 256, 512, 1024])\n",
    "    train_ds_repeat, valid_ds_repeat, _, train_num_batches, valid_num_batches, _ = load_data(batch_size=batch_size)\n",
    "    \n",
    "    model = create_model(trial, input_shape=INPUT_SHAPE)\n",
    "    optimizer = create_optimizer(trial)\n",
    "    model.compile(\n",
    "        loss=tf.keras.losses.MeanAbsoluteError(),\n",
    "        optimizer=optimizer,\n",
    "        metrics=[tf.keras.metrics.MeanSquaredError()]\n",
    "    )\n",
    "    \n",
    "    # callbacks\n",
    "    logdir = os.path.join(\"logs/optuna\", datetime.datetime.now().strftime(\"%Y%m%d-%H%M%S\"))\n",
    "    tensorboard_callback = tf.keras.callbacks.TensorBoard(logdir, histogram_freq=1)\n",
    "    earlystopping_callback = tf.keras.callbacks.EarlyStopping(monitor='val_loss', patience=25)\n",
    "    lr_scheduler_callback = tf.keras.callbacks.ReduceLROnPlateau(\n",
    "        monitor='val_loss', patience=10,\n",
    "        factor=trial.suggest_float('lr_scheduler_factor', 0.1, 0.75)\n",
    "    )\n",
    "\n",
    "    history = model.fit(\n",
    "        train_ds_repeat, epochs=500, validation_data=valid_ds_repeat,\n",
    "        steps_per_epoch=train_num_batches, validation_steps=valid_num_batches,\n",
    "        callbacks=[tensorboard_callback, earlystopping_callback, lr_scheduler_callback],\n",
    "        verbose=0\n",
    "    )\n",
    "    print('\\n')\n",
    "    return np.min(history.history['val_loss'])"
   ]
  },
  {
   "cell_type": "markdown",
   "metadata": {},
   "source": [
    "# Run"
   ]
  },
  {
   "cell_type": "code",
   "execution_count": 15,
   "metadata": {
    "execution": {
     "execution_failed": "2025-01-05T00:19:10.267Z",
     "iopub.execute_input": "2025-01-04T21:44:15.424157Z",
     "iopub.status.busy": "2025-01-04T21:44:15.423801Z"
    },
    "trusted": true
   },
   "outputs": [
    {
     "name": "stderr",
     "output_type": "stream",
     "text": [
      "[I 2025-01-13 17:26:28,383] A new study created in RDB with name: study\n"
     ]
    },
    {
     "data": {
      "application/vnd.jupyter.widget-view+json": {
       "model_id": "f7f34024b13946fb9d10aaca7b33b717",
       "version_major": 2,
       "version_minor": 0
      },
      "text/plain": [
       "  0%|          | 0/1000 [00:00<?, ?it/s]"
      ]
     },
     "metadata": {},
     "output_type": "display_data"
    },
    {
     "name": "stdout",
     "output_type": "stream",
     "text": [
      "\n",
      "\n",
      "[I 2025-01-13 18:12:15,370] Trial 0 finished with value: 1.3281841278076172 and parameters: {'batch_size': 64, 'rnn_num_layers': 1, 'units_rnn': 32, 'bias_reg_init_rnn_layer0': 'l1', 'bias_reg_rnn_layer_0': 0.1521906972554729, 'kernel_reg_init_rnn_layer_0': None, 'kernel_initializer_rnn_layer_0': 'lecun_uniform', 'nunints_layer_0': 288, 'actv_func_layer_0': 'gelu', 'bias_reg_init_layer_0': 'l1', 'bias_reg_layer_0': 0.3421480899534272, 'kernel_reg_init_layer_0': 'l1l2', 'kernel_reg_layer_0_l1': 0.45466926899918314, 'kernel_reg_layer_0_l2': 0.12946411280184844, 'kernel_initializer_layer_0': 'lecun_normal', 'num_layers': 2, 'batch_norm': True, 'nunits_layer_1': 320, 'actv_func_layer_1': 'relu', 'bias_reg_init_layer_1': 'l2', 'bias_reg_layer_1': 0.2713937719708084, 'kernel_reg_init_layer_1': None, 'kernel_initializer_layer_1': 'he_normal', 'dropout_rate_layer_1': 0.7704990763392598, 'nunits_layer_2': 64, 'actv_func_layer_2': 'elu', 'bias_reg_init_layer_2': 'l1l2', 'bias_reg_layer_2_l1': 0.44361765001390563, 'bias_reg_layer_2_l2': 0.23616024108845846, 'kernel_reg_init_layer_2': 'l1l2', 'kernel_reg_layer_2_l1': 0.38550649325928504, 'kernel_reg_layer_2_l2': 0.24694841862255892, 'kernel_initializer_layer_2': 'lecun_normal', 'dropout_rate_layer_2': 0.31404162509525035, 'dropout_rate_layer_output': 0.508062120473538, 'optimizer': 'SGD', 'opt_lr': 0.01693550554929793, 'opt_momentum': 2.0319809838424957e-05, 'opt_nesterov': True, 'lr_scheduler_factor': 0.7043034740226725}. Best is trial 0 with value: 1.3281841278076172.\n",
      "\n",
      "\n",
      "[I 2025-01-13 18:27:36,696] Trial 1 finished with value: 1.2155323028564453 and parameters: {'batch_size': 1024, 'rnn_num_layers': 2, 'units_rnn': 4, 'bias_reg_init_rnn_layer0': 'l1l2', 'bias_reg_rnn_layer_0_l1': 0.2554225765585251, 'bias_reg_rnn_layer_0_l2': 0.2087637604740746, 'kernel_reg_init_rnn_layer_0': None, 'kernel_initializer_rnn_layer_0': 'lecun_uniform', 'bias_reg_init_rnn_layer1': 'l2', 'bias_reg_rnn_layer_1': 0.018539784982530946, 'kernel_reg_init_rnn_layer_1': 'l1', 'kernel_reg_rnn_layer_1': 0.4541421163947302, 'kernel_initializer_rnn_layer_1': 'he_normal', 'nunints_layer_0': 416, 'actv_func_layer_0': 'leaky_relu', 'bias_reg_init_layer_0': 'l2', 'bias_reg_layer_0': 0.02048349326322648, 'kernel_reg_init_layer_0': 'l2', 'kernel_reg_layer_0': 0.11332523802144918, 'kernel_initializer_layer_0': 'lecun_uniform', 'num_layers': 1, 'batch_norm': False, 'nunits_layer_1': 480, 'actv_func_layer_1': 'elu', 'bias_reg_init_layer_1': 'l1l2', 'bias_reg_layer_1_l1': 0.16958099254524547, 'bias_reg_layer_1_l2': 0.17466986634886916, 'kernel_reg_init_layer_1': 'l2', 'kernel_reg_layer_1': 0.32105161991252845, 'kernel_initializer_layer_1': 'he_uniform', 'dropout_rate_layer_1': 0.6628382673389478, 'dropout_rate_layer_output': 0.005056522262372468, 'optimizer': 'Nadam', 'opt_lr': 0.01675981843521172, 'opt_beta_1': 0.999, 'opt_beta_2': 0.95, 'lr_scheduler_factor': 0.16088859908826011}. Best is trial 1 with value: 1.2155323028564453.\n",
      "\n",
      "\n",
      "[I 2025-01-13 18:28:58,706] Trial 2 finished with value: 11.608075141906738 and parameters: {'batch_size': 256, 'rnn_num_layers': 2, 'units_rnn': 2, 'bias_reg_init_rnn_layer0': 'l1', 'bias_reg_rnn_layer_0': 0.08863762863558378, 'kernel_reg_init_rnn_layer_0': 'l2', 'kernel_reg_rnn_layer_0': 0.007826762602780828, 'kernel_initializer_rnn_layer_0': 'he_uniform', 'bias_reg_init_rnn_layer1': 'l2', 'bias_reg_rnn_layer_1': 0.2784449511029292, 'kernel_reg_init_rnn_layer_1': 'l1', 'kernel_reg_rnn_layer_1': 0.30754211262691494, 'kernel_initializer_rnn_layer_1': 'glorot_uniform', 'nunints_layer_0': 384, 'actv_func_layer_0': 'gelu', 'bias_reg_init_layer_0': 'l1l2', 'bias_reg_layer_0_l1': 0.3510132419411259, 'bias_reg_layer_0_l2': 0.39791675545110694, 'kernel_reg_init_layer_0': 'l1', 'kernel_reg_layer_0': 0.2891822424839874, 'kernel_initializer_layer_0': 'lecun_uniform', 'num_layers': 0, 'batch_norm': True, 'dropout_rate_layer_output': 0.1269334521392329, 'optimizer': 'Adam', 'opt_lr': 0.012171594211501399, 'opt_beta_1': 0.999, 'opt_beta_2': 0.95, 'lr_scheduler_factor': 0.6168710265996574}. Best is trial 1 with value: 1.2155323028564453.\n",
      "\n",
      "\n",
      "[I 2025-01-13 18:31:01,641] Trial 3 finished with value: 31.824031829833984 and parameters: {'batch_size': 512, 'rnn_num_layers': 3, 'units_rnn': 32, 'bias_reg_init_rnn_layer0': None, 'kernel_reg_init_rnn_layer_0': 'l1', 'kernel_reg_rnn_layer_0': 0.12394072165162862, 'kernel_initializer_rnn_layer_0': 'glorot_normal', 'bias_reg_init_rnn_layer1': 'l1', 'bias_reg_rnn_layer_1': 0.2458587759709045, 'kernel_reg_init_rnn_layer_1': 'l1', 'kernel_reg_rnn_layer_1': 0.30796346401630303, 'kernel_initializer_rnn_layer_1': 'lecun_normal', 'bias_reg_init_rnn_layer2': 'l1', 'bias_reg_rnn_layer_2': 0.013353004139756744, 'kernel_reg_init_rnn_layer_2': 'l2', 'kernel_reg_rnn_layer_2': 0.32167978039933237, 'kernel_initializer_rnn_layer_2': 'lecun_uniform', 'nunints_layer_0': 128, 'actv_func_layer_0': 'tanh', 'bias_reg_init_layer_0': 'l2', 'bias_reg_layer_0': 0.1409992019092226, 'kernel_reg_init_layer_0': None, 'kernel_initializer_layer_0': 'lecun_normal', 'num_layers': 2, 'batch_norm': True, 'nunits_layer_1': 416, 'actv_func_layer_1': 'leaky_relu', 'bias_reg_init_layer_1': 'l2', 'bias_reg_layer_1': 0.1600927955552028, 'kernel_reg_init_layer_1': None, 'kernel_initializer_layer_1': 'he_normal', 'dropout_rate_layer_1': 0.44799707645634146, 'nunits_layer_2': 160, 'actv_func_layer_2': 'sigmoid', 'bias_reg_init_layer_2': 'l1l2', 'bias_reg_layer_2_l1': 0.44386332096087405, 'bias_reg_layer_2_l2': 0.17552241477478414, 'kernel_reg_init_layer_2': 'l1l2', 'kernel_reg_layer_2_l1': 0.050651225793782846, 'kernel_reg_layer_2_l2': 0.04214499237688722, 'kernel_initializer_layer_2': 'he_uniform', 'dropout_rate_layer_2': 0.9856529389226742, 'dropout_rate_layer_output': 0.3738965249603642, 'optimizer': 'Adamax', 'opt_lr': 0.05667325870803905, 'opt_beta_1': 0.99, 'opt_beta_2': 0.95, 'lr_scheduler_factor': 0.1073798690988224}. Best is trial 1 with value: 1.2155323028564453.\n",
      "\n",
      "\n",
      "[I 2025-01-13 18:44:52,814] Trial 4 finished with value: 1.0624637603759766 and parameters: {'batch_size': 1024, 'rnn_num_layers': 2, 'units_rnn': 2, 'bias_reg_init_rnn_layer0': 'l1l2', 'bias_reg_rnn_layer_0_l1': 0.4455824425376657, 'bias_reg_rnn_layer_0_l2': 0.26389778443224127, 'kernel_reg_init_rnn_layer_0': 'l1', 'kernel_reg_rnn_layer_0': 0.2615966123006574, 'kernel_initializer_rnn_layer_0': 'lecun_normal', 'bias_reg_init_rnn_layer1': 'l1l2', 'bias_reg_rnn_layer_1_l1': 0.2278828107175779, 'bias_reg_rnn_layer_1_l2': 0.3101042856409882, 'kernel_reg_init_rnn_layer_1': 'l1l2', 'kernel_reg_rnn_layer_1_l1': 0.2918696903142509, 'kernel_reg_rnn_layer_1_l2': 0.03895954501879592, 'kernel_initializer_rnn_layer_1': 'glorot_normal', 'nunints_layer_0': 352, 'actv_func_layer_0': 'sigmoid', 'bias_reg_init_layer_0': 'l2', 'bias_reg_layer_0': 0.013280850551176277, 'kernel_reg_init_layer_0': 'l1l2', 'kernel_reg_layer_0_l1': 0.2971059446045323, 'kernel_reg_layer_0_l2': 0.19050733922984764, 'kernel_initializer_layer_0': 'glorot_uniform', 'num_layers': 0, 'batch_norm': True, 'dropout_rate_layer_output': 0.9987179556128445, 'optimizer': 'SGD', 'opt_lr': 0.07073712272965889, 'opt_momentum': 9.758709881516564e-05, 'opt_nesterov': True, 'lr_scheduler_factor': 0.7201331677181695}. Best is trial 4 with value: 1.0624637603759766.\n",
      "\n",
      "\n",
      "[I 2025-01-13 18:58:21,136] Trial 5 finished with value: 0.8203447461128235 and parameters: {'batch_size': 128, 'rnn_num_layers': 3, 'units_rnn': 16, 'bias_reg_init_rnn_layer0': 'l2', 'bias_reg_rnn_layer_0': 0.014488459889038153, 'kernel_reg_init_rnn_layer_0': 'l1', 'kernel_reg_rnn_layer_0': 0.06827210064582621, 'kernel_initializer_rnn_layer_0': 'lecun_normal', 'bias_reg_init_rnn_layer1': 'l1l2', 'bias_reg_rnn_layer_1_l1': 0.31108114144391397, 'bias_reg_rnn_layer_1_l2': 0.4311956180024979, 'kernel_reg_init_rnn_layer_1': 'l1', 'kernel_reg_rnn_layer_1': 0.12919636971064927, 'kernel_initializer_rnn_layer_1': 'glorot_normal', 'bias_reg_init_rnn_layer2': None, 'kernel_reg_init_rnn_layer_2': 'l2', 'kernel_reg_rnn_layer_2': 0.4484045261120153, 'kernel_initializer_rnn_layer_2': 'glorot_normal', 'nunints_layer_0': 160, 'actv_func_layer_0': 'sigmoid', 'bias_reg_init_layer_0': None, 'kernel_reg_init_layer_0': None, 'kernel_initializer_layer_0': 'he_uniform', 'num_layers': 1, 'batch_norm': False, 'nunits_layer_1': 192, 'actv_func_layer_1': 'gelu', 'bias_reg_init_layer_1': 'l2', 'bias_reg_layer_1': 0.2663553715008661, 'kernel_reg_init_layer_1': 'l1l2', 'kernel_reg_layer_1_l1': 0.16110737487503082, 'kernel_reg_layer_1_l2': 0.10580285869757268, 'kernel_initializer_layer_1': 'he_uniform', 'dropout_rate_layer_1': 0.4979437567301282, 'dropout_rate_layer_output': 0.08683336779933627, 'optimizer': 'Nadam', 'opt_lr': 0.013414679552923506, 'opt_beta_1': 0.99, 'opt_beta_2': 0.95, 'lr_scheduler_factor': 0.16615860720326242}. Best is trial 5 with value: 0.8203447461128235.\n",
      "\n",
      "\n",
      "[I 2025-01-13 19:20:56,128] Trial 6 finished with value: 0.8251845836639404 and parameters: {'batch_size': 512, 'rnn_num_layers': 3, 'units_rnn': 16, 'bias_reg_init_rnn_layer0': 'l2', 'bias_reg_rnn_layer_0': 0.1290256232397654, 'kernel_reg_init_rnn_layer_0': 'l1l2', 'kernel_reg_rnn_layer_0_l1': 0.2858491834660029, 'kernel_reg_rnn_layer_0_l2': 0.14006154892077605, 'kernel_initializer_rnn_layer_0': 'glorot_uniform', 'bias_reg_init_rnn_layer1': 'l2', 'bias_reg_rnn_layer_1': 0.07726592136557374, 'kernel_reg_init_rnn_layer_1': 'l2', 'kernel_reg_rnn_layer_1': 0.06729389700179322, 'kernel_initializer_rnn_layer_1': 'glorot_normal', 'bias_reg_init_rnn_layer2': 'l1', 'bias_reg_rnn_layer_2': 0.17449924644484335, 'kernel_reg_init_rnn_layer_2': 'l1l2', 'kernel_reg_rnn_layer_2_l1': 0.36546065085430174, 'kernel_reg_rnn_layer_2_l2': 0.4691763943648368, 'kernel_initializer_rnn_layer_2': 'lecun_uniform', 'nunints_layer_0': 416, 'actv_func_layer_0': 'sigmoid', 'bias_reg_init_layer_0': 'l2', 'bias_reg_layer_0': 0.21962354079425217, 'kernel_reg_init_layer_0': None, 'kernel_initializer_layer_0': 'lecun_normal', 'num_layers': 1, 'batch_norm': False, 'nunits_layer_1': 352, 'actv_func_layer_1': 'gelu', 'bias_reg_init_layer_1': 'l1', 'bias_reg_layer_1': 0.37199875165708124, 'kernel_reg_init_layer_1': None, 'kernel_initializer_layer_1': 'he_normal', 'dropout_rate_layer_1': 0.7964980704137741, 'dropout_rate_layer_output': 0.149767509921425, 'optimizer': 'Adam', 'opt_lr': 0.049425201035297274, 'opt_beta_1': 0.9, 'opt_beta_2': 0.9, 'lr_scheduler_factor': 0.71573417074768}. Best is trial 5 with value: 0.8203447461128235.\n",
      "\n",
      "\n",
      "[I 2025-01-13 19:26:37,667] Trial 7 finished with value: 0.8178103566169739 and parameters: {'batch_size': 1024, 'rnn_num_layers': 3, 'units_rnn': 8, 'bias_reg_init_rnn_layer0': None, 'kernel_reg_init_rnn_layer_0': 'l1', 'kernel_reg_rnn_layer_0': 0.49242211536127106, 'kernel_initializer_rnn_layer_0': 'he_uniform', 'bias_reg_init_rnn_layer1': None, 'kernel_reg_init_rnn_layer_1': None, 'kernel_initializer_rnn_layer_1': 'glorot_uniform', 'bias_reg_init_rnn_layer2': None, 'kernel_reg_init_rnn_layer_2': 'l2', 'kernel_reg_rnn_layer_2': 0.3161689175309732, 'kernel_initializer_rnn_layer_2': 'he_normal', 'nunints_layer_0': 64, 'actv_func_layer_0': 'relu', 'bias_reg_init_layer_0': 'l1', 'bias_reg_layer_0': 0.23608626586048861, 'kernel_reg_init_layer_0': 'l1l2', 'kernel_reg_layer_0_l1': 0.26224269563685726, 'kernel_reg_layer_0_l2': 0.22043729719442023, 'kernel_initializer_layer_0': 'lecun_normal', 'num_layers': 1, 'batch_norm': False, 'nunits_layer_1': 224, 'actv_func_layer_1': 'elu', 'bias_reg_init_layer_1': 'l2', 'bias_reg_layer_1': 0.39997805107805734, 'kernel_reg_init_layer_1': 'l2', 'kernel_reg_layer_1': 0.1216617782806271, 'kernel_initializer_layer_1': 'glorot_normal', 'dropout_rate_layer_1': 0.29285458253075225, 'dropout_rate_layer_output': 0.8954394827025987, 'optimizer': 'Nadam', 'opt_lr': 0.015185721648966938, 'opt_beta_1': 0.99, 'opt_beta_2': 0.999, 'lr_scheduler_factor': 0.2742413665348696}. Best is trial 7 with value: 0.8178103566169739.\n",
      "\n",
      "\n",
      "[I 2025-01-13 19:33:35,420] Trial 8 finished with value: 0.8178103566169739 and parameters: {'batch_size': 1024, 'rnn_num_layers': 3, 'units_rnn': 16, 'bias_reg_init_rnn_layer0': None, 'kernel_reg_init_rnn_layer_0': None, 'kernel_initializer_rnn_layer_0': 'glorot_uniform', 'bias_reg_init_rnn_layer1': 'l2', 'bias_reg_rnn_layer_1': 0.3257450521370969, 'kernel_reg_init_rnn_layer_1': 'l1', 'kernel_reg_rnn_layer_1': 0.45001931905986775, 'kernel_initializer_rnn_layer_1': 'lecun_normal', 'bias_reg_init_rnn_layer2': 'l1l2', 'bias_reg_rnn_layer_2_l1': 0.0832250560411641, 'bias_reg_rnn_layer_2_l2': 0.36904300485154257, 'kernel_reg_init_rnn_layer_2': 'l2', 'kernel_reg_rnn_layer_2': 0.14441799901167285, 'kernel_initializer_rnn_layer_2': 'glorot_normal', 'nunints_layer_0': 480, 'actv_func_layer_0': 'relu', 'bias_reg_init_layer_0': None, 'kernel_reg_init_layer_0': 'l1l2', 'kernel_reg_layer_0_l1': 0.34423235797422524, 'kernel_reg_layer_0_l2': 0.21747018656801273, 'kernel_initializer_layer_0': 'glorot_normal', 'num_layers': 1, 'batch_norm': False, 'nunits_layer_1': 96, 'actv_func_layer_1': 'relu', 'bias_reg_init_layer_1': None, 'kernel_reg_init_layer_1': None, 'kernel_initializer_layer_1': 'glorot_uniform', 'dropout_rate_layer_1': 0.9145728092904538, 'dropout_rate_layer_output': 0.033912032607213045, 'optimizer': 'Adamax', 'opt_lr': 0.08795620627499953, 'opt_beta_1': 0.95, 'opt_beta_2': 0.9, 'lr_scheduler_factor': 0.17836847575523124}. Best is trial 7 with value: 0.8178103566169739.\n",
      "\n",
      "\n",
      "[I 2025-01-13 19:43:26,919] Trial 9 finished with value: 0.48504361510276794 and parameters: {'batch_size': 256, 'rnn_num_layers': 2, 'units_rnn': 16, 'bias_reg_init_rnn_layer0': 'l1l2', 'bias_reg_rnn_layer_0_l1': 0.4373633661748313, 'bias_reg_rnn_layer_0_l2': 0.26451567330020326, 'kernel_reg_init_rnn_layer_0': 'l1l2', 'kernel_reg_rnn_layer_0_l1': 0.38361742563667034, 'kernel_reg_rnn_layer_0_l2': 0.20102526371326015, 'kernel_initializer_rnn_layer_0': 'he_normal', 'bias_reg_init_rnn_layer1': 'l2', 'bias_reg_rnn_layer_1': 0.17737561660462417, 'kernel_reg_init_rnn_layer_1': 'l2', 'kernel_reg_rnn_layer_1': 0.009035179973233564, 'kernel_initializer_rnn_layer_1': 'glorot_uniform', 'nunints_layer_0': 416, 'actv_func_layer_0': 'sigmoid', 'bias_reg_init_layer_0': 'l2', 'bias_reg_layer_0': 0.32485835983128497, 'kernel_reg_init_layer_0': 'l1', 'kernel_reg_layer_0': 0.11032105591418066, 'kernel_initializer_layer_0': 'lecun_uniform', 'num_layers': 2, 'batch_norm': True, 'nunits_layer_1': 224, 'actv_func_layer_1': 'sigmoid', 'bias_reg_init_layer_1': 'l2', 'bias_reg_layer_1': 0.4387426852289271, 'kernel_reg_init_layer_1': None, 'kernel_initializer_layer_1': 'glorot_uniform', 'dropout_rate_layer_1': 0.37231582849530165, 'nunits_layer_2': 160, 'actv_func_layer_2': 'relu', 'bias_reg_init_layer_2': 'l1', 'bias_reg_layer_2': 0.41235801486598206, 'kernel_reg_init_layer_2': 'l2', 'kernel_reg_layer_2': 0.4393271301789435, 'kernel_initializer_layer_2': 'he_normal', 'dropout_rate_layer_2': 0.6967739902076143, 'dropout_rate_layer_output': 0.6794606309885401, 'optimizer': 'Adamax', 'opt_lr': 0.07444637022465192, 'opt_beta_1': 0.95, 'opt_beta_2': 0.999, 'lr_scheduler_factor': 0.42985402694454355}. Best is trial 9 with value: 0.48504361510276794.\n",
      "\n",
      "\n",
      "[I 2025-01-13 19:44:26,798] Trial 10 finished with value: 22.890827178955078 and parameters: {'batch_size': 256, 'rnn_num_layers': 2, 'units_rnn': 4, 'bias_reg_init_rnn_layer0': 'l1', 'bias_reg_rnn_layer_0': 0.051344613022540564, 'kernel_reg_init_rnn_layer_0': 'l1', 'kernel_reg_rnn_layer_0': 0.35411522711377624, 'kernel_initializer_rnn_layer_0': 'lecun_normal', 'bias_reg_init_rnn_layer1': 'l1', 'bias_reg_rnn_layer_1': 0.37915577164491837, 'kernel_reg_init_rnn_layer_1': None, 'kernel_initializer_rnn_layer_1': 'lecun_uniform', 'nunints_layer_0': 256, 'actv_func_layer_0': 'leaky_relu', 'bias_reg_init_layer_0': 'l1l2', 'bias_reg_layer_0_l1': 0.21622416704119668, 'bias_reg_layer_0_l2': 0.47181359849178267, 'kernel_reg_init_layer_0': 'l2', 'kernel_reg_layer_0': 0.4919904262151181, 'kernel_initializer_layer_0': 'glorot_normal', 'num_layers': 1, 'batch_norm': True, 'nunits_layer_1': 512, 'actv_func_layer_1': 'leaky_relu', 'bias_reg_init_layer_1': None, 'kernel_reg_init_layer_1': 'l2', 'kernel_reg_layer_1': 0.06268037752205496, 'kernel_initializer_layer_1': 'glorot_uniform', 'dropout_rate_layer_1': 0.2687244110306626, 'dropout_rate_layer_output': 0.796761541536551, 'optimizer': 'Adam', 'opt_lr': 0.024688434745966218, 'opt_beta_1': 0.999, 'opt_beta_2': 0.9, 'lr_scheduler_factor': 0.1682046159718137}. Best is trial 9 with value: 0.48504361510276794.\n",
      "\n",
      "\n",
      "[I 2025-01-13 22:05:09,767] Trial 11 finished with value: 0.8178117871284485 and parameters: {'batch_size': 64, 'rnn_num_layers': 2, 'units_rnn': 8, 'bias_reg_init_rnn_layer0': 'l1l2', 'bias_reg_rnn_layer_0_l1': 0.2838136700459529, 'bias_reg_rnn_layer_0_l2': 0.3447635380717191, 'kernel_reg_init_rnn_layer_0': 'l1', 'kernel_reg_rnn_layer_0': 0.31825148174686396, 'kernel_initializer_rnn_layer_0': 'he_uniform', 'bias_reg_init_rnn_layer1': 'l1', 'bias_reg_rnn_layer_1': 0.4074310743618815, 'kernel_reg_init_rnn_layer_1': 'l2', 'kernel_reg_rnn_layer_1': 0.22621391043069825, 'kernel_initializer_rnn_layer_1': 'he_uniform', 'nunints_layer_0': 96, 'actv_func_layer_0': 'elu', 'bias_reg_init_layer_0': None, 'kernel_reg_init_layer_0': 'l2', 'kernel_reg_layer_0': 0.09985127121947966, 'kernel_initializer_layer_0': 'lecun_normal', 'num_layers': 2, 'batch_norm': True, 'nunits_layer_1': 192, 'actv_func_layer_1': 'leaky_relu', 'bias_reg_init_layer_1': None, 'kernel_reg_init_layer_1': None, 'kernel_initializer_layer_1': 'he_normal', 'dropout_rate_layer_1': 0.9081234881449753, 'nunits_layer_2': 96, 'actv_func_layer_2': 'leaky_relu', 'bias_reg_init_layer_2': 'l1', 'bias_reg_layer_2': 0.29651613063232024, 'kernel_reg_init_layer_2': 'l1l2', 'kernel_reg_layer_2_l1': 0.328402658604192, 'kernel_reg_layer_2_l2': 0.16266251310592497, 'kernel_initializer_layer_2': 'he_uniform', 'dropout_rate_layer_2': 0.16958814718245319, 'dropout_rate_layer_output': 0.5192541746074616, 'optimizer': 'Adam', 'opt_lr': 0.04141379091973986, 'opt_beta_1': 0.9, 'opt_beta_2': 0.999, 'lr_scheduler_factor': 0.6236855994175345}. Best is trial 9 with value: 0.48504361510276794.\n",
      "\n",
      "\n",
      "[I 2025-01-13 22:37:03,547] Trial 12 finished with value: 0.8200779557228088 and parameters: {'batch_size': 64, 'rnn_num_layers': 2, 'units_rnn': 2, 'bias_reg_init_rnn_layer0': 'l2', 'bias_reg_rnn_layer_0': 0.49331639846712755, 'kernel_reg_init_rnn_layer_0': 'l1', 'kernel_reg_rnn_layer_0': 0.43397235543055906, 'kernel_initializer_rnn_layer_0': 'he_normal', 'bias_reg_init_rnn_layer1': 'l2', 'bias_reg_rnn_layer_1': 0.4849590318490245, 'kernel_reg_init_rnn_layer_1': None, 'kernel_initializer_rnn_layer_1': 'he_normal', 'nunints_layer_0': 320, 'actv_func_layer_0': 'sigmoid', 'bias_reg_init_layer_0': 'l2', 'bias_reg_layer_0': 0.053385855850964566, 'kernel_reg_init_layer_0': 'l2', 'kernel_reg_layer_0': 0.20351328956536302, 'kernel_initializer_layer_0': 'lecun_uniform', 'num_layers': 0, 'batch_norm': False, 'dropout_rate_layer_output': 0.7615228496418391, 'optimizer': 'Nadam', 'opt_lr': 0.03503394936634291, 'opt_beta_1': 0.999, 'opt_beta_2': 0.9, 'lr_scheduler_factor': 0.34261366455907105}. Best is trial 9 with value: 0.48504361510276794.\n",
      "\n",
      "\n",
      "[I 2025-01-13 22:43:48,639] Trial 13 finished with value: 0.8208532333374023 and parameters: {'batch_size': 256, 'rnn_num_layers': 2, 'units_rnn': 2, 'bias_reg_init_rnn_layer0': 'l1l2', 'bias_reg_rnn_layer_0_l1': 0.303991755887443, 'bias_reg_rnn_layer_0_l2': 0.3824651424449099, 'kernel_reg_init_rnn_layer_0': 'l1l2', 'kernel_reg_rnn_layer_0_l1': 0.0979694150432047, 'kernel_reg_rnn_layer_0_l2': 0.003880681201573246, 'kernel_initializer_rnn_layer_0': 'lecun_normal', 'bias_reg_init_rnn_layer1': 'l1l2', 'bias_reg_rnn_layer_1_l1': 0.1425079636907652, 'bias_reg_rnn_layer_1_l2': 0.15371425346665066, 'kernel_reg_init_rnn_layer_1': 'l1', 'kernel_reg_rnn_layer_1': 0.35810372204417446, 'kernel_initializer_rnn_layer_1': 'lecun_uniform', 'nunints_layer_0': 288, 'actv_func_layer_0': 'tanh', 'bias_reg_init_layer_0': 'l1', 'bias_reg_layer_0': 0.47570653076910785, 'kernel_reg_init_layer_0': 'l1l2', 'kernel_reg_layer_0_l1': 0.10610121547012251, 'kernel_reg_layer_0_l2': 0.30552939632661075, 'kernel_initializer_layer_0': 'he_uniform', 'num_layers': 0, 'batch_norm': True, 'dropout_rate_layer_output': 0.6668823493921789, 'optimizer': 'Adam', 'opt_lr': 0.014723606692490957, 'opt_beta_1': 0.95, 'opt_beta_2': 0.95, 'lr_scheduler_factor': 0.25076561247538404}. Best is trial 9 with value: 0.48504361510276794.\n",
      "\n",
      "\n",
      "[I 2025-01-14 00:27:30,984] Trial 14 finished with value: 0.8178351521492004 and parameters: {'batch_size': 256, 'rnn_num_layers': 2, 'units_rnn': 16, 'bias_reg_init_rnn_layer0': 'l2', 'bias_reg_rnn_layer_0': 0.03980174255759441, 'kernel_reg_init_rnn_layer_0': 'l2', 'kernel_reg_rnn_layer_0': 0.11340553547327131, 'kernel_initializer_rnn_layer_0': 'lecun_uniform', 'bias_reg_init_rnn_layer1': 'l2', 'bias_reg_rnn_layer_1': 0.16223444318237626, 'kernel_reg_init_rnn_layer_1': 'l1l2', 'kernel_reg_rnn_layer_1_l1': 0.27893593034327546, 'kernel_reg_rnn_layer_1_l2': 0.36535219006859915, 'kernel_initializer_rnn_layer_1': 'he_normal', 'nunints_layer_0': 128, 'actv_func_layer_0': 'sigmoid', 'bias_reg_init_layer_0': 'l2', 'bias_reg_layer_0': 0.07629276506387568, 'kernel_reg_init_layer_0': 'l1', 'kernel_reg_layer_0': 0.2605268928382939, 'kernel_initializer_layer_0': 'lecun_uniform', 'num_layers': 2, 'batch_norm': False, 'nunits_layer_1': 160, 'actv_func_layer_1': 'elu', 'bias_reg_init_layer_1': None, 'kernel_reg_init_layer_1': 'l2', 'kernel_reg_layer_1': 0.46530454780049374, 'kernel_initializer_layer_1': 'he_normal', 'dropout_rate_layer_1': 0.7892404058707543, 'nunits_layer_2': 160, 'actv_func_layer_2': 'gelu', 'bias_reg_init_layer_2': None, 'kernel_reg_init_layer_2': 'l1', 'kernel_reg_layer_2': 0.08750182976748024, 'kernel_initializer_layer_2': 'glorot_uniform', 'dropout_rate_layer_2': 0.13503112286566793, 'dropout_rate_layer_output': 0.9621519964775846, 'optimizer': 'Adam', 'opt_lr': 0.03207316827498823, 'opt_beta_1': 0.99, 'opt_beta_2': 0.95, 'lr_scheduler_factor': 0.6074950309444859}. Best is trial 9 with value: 0.48504361510276794.\n",
      "\n",
      "\n",
      "[I 2025-01-14 01:33:24,736] Trial 15 finished with value: 0.48660311102867126 and parameters: {'batch_size': 128, 'rnn_num_layers': 1, 'units_rnn': 32, 'bias_reg_init_rnn_layer0': 'l1l2', 'bias_reg_rnn_layer_0_l1': 0.30764819717168235, 'bias_reg_rnn_layer_0_l2': 0.15319618503122717, 'kernel_reg_init_rnn_layer_0': 'l1', 'kernel_reg_rnn_layer_0': 0.4433134471987093, 'kernel_initializer_rnn_layer_0': 'lecun_uniform', 'nunints_layer_0': 416, 'actv_func_layer_0': 'gelu', 'bias_reg_init_layer_0': 'l2', 'bias_reg_layer_0': 0.1206766086540108, 'kernel_reg_init_layer_0': 'l1', 'kernel_reg_layer_0': 0.054957125718884, 'kernel_initializer_layer_0': 'he_uniform', 'num_layers': 0, 'batch_norm': True, 'dropout_rate_layer_output': 0.37551239686062354, 'optimizer': 'Adamax', 'opt_lr': 0.09022661959201782, 'opt_beta_1': 0.9, 'opt_beta_2': 0.999, 'lr_scheduler_factor': 0.39996035200607727}. Best is trial 9 with value: 0.48504361510276794.\n",
      "\n",
      "\n",
      "[I 2025-01-14 03:02:29,596] Trial 16 finished with value: 0.8178502321243286 and parameters: {'batch_size': 128, 'rnn_num_layers': 2, 'units_rnn': 4, 'bias_reg_init_rnn_layer0': 'l2', 'bias_reg_rnn_layer_0': 0.006153026769920237, 'kernel_reg_init_rnn_layer_0': 'l1', 'kernel_reg_rnn_layer_0': 0.17491664454995018, 'kernel_initializer_rnn_layer_0': 'glorot_uniform', 'bias_reg_init_rnn_layer1': 'l1', 'bias_reg_rnn_layer_1': 0.4839332314190307, 'kernel_reg_init_rnn_layer_1': 'l2', 'kernel_reg_rnn_layer_1': 0.102923062371558, 'kernel_initializer_rnn_layer_1': 'he_uniform', 'nunints_layer_0': 512, 'actv_func_layer_0': 'elu', 'bias_reg_init_layer_0': 'l1', 'bias_reg_layer_0': 0.4640490117989923, 'kernel_reg_init_layer_0': None, 'kernel_initializer_layer_0': 'glorot_normal', 'num_layers': 1, 'batch_norm': False, 'nunits_layer_1': 448, 'actv_func_layer_1': 'leaky_relu', 'bias_reg_init_layer_1': 'l2', 'bias_reg_layer_1': 0.2725589567565795, 'kernel_reg_init_layer_1': 'l1', 'kernel_reg_layer_1': 0.0659512138499355, 'kernel_initializer_layer_1': 'lecun_uniform', 'dropout_rate_layer_1': 0.5416949682863564, 'dropout_rate_layer_output': 0.5897573427683142, 'optimizer': 'Adamax', 'opt_lr': 0.0747003980240592, 'opt_beta_1': 0.95, 'opt_beta_2': 0.999, 'lr_scheduler_factor': 0.16446576473169033}. Best is trial 9 with value: 0.48504361510276794.\n",
      "\n",
      "\n",
      "[I 2025-01-14 03:59:46,352] Trial 17 finished with value: 0.4305318295955658 and parameters: {'batch_size': 64, 'rnn_num_layers': 1, 'units_rnn': 4, 'bias_reg_init_rnn_layer0': None, 'kernel_reg_init_rnn_layer_0': 'l1', 'kernel_reg_rnn_layer_0': 0.4383377158379175, 'kernel_initializer_rnn_layer_0': 'glorot_uniform', 'nunints_layer_0': 224, 'actv_func_layer_0': 'gelu', 'bias_reg_init_layer_0': None, 'kernel_reg_init_layer_0': 'l2', 'kernel_reg_layer_0': 0.3017834845315678, 'kernel_initializer_layer_0': 'he_normal', 'num_layers': 0, 'batch_norm': False, 'dropout_rate_layer_output': 0.7069732538061748, 'optimizer': 'SGD', 'opt_lr': 0.021290837909520667, 'opt_momentum': 0.000544599783927348, 'opt_nesterov': False, 'lr_scheduler_factor': 0.4888464411414303}. Best is trial 17 with value: 0.4305318295955658.\n",
      "\n",
      "\n",
      "[I 2025-01-14 05:02:26,458] Trial 18 finished with value: 0.8188781142234802 and parameters: {'batch_size': 64, 'rnn_num_layers': 3, 'units_rnn': 8, 'bias_reg_init_rnn_layer0': 'l1', 'bias_reg_rnn_layer_0': 0.01319573459517919, 'kernel_reg_init_rnn_layer_0': 'l2', 'kernel_reg_rnn_layer_0': 0.14943291423702765, 'kernel_initializer_rnn_layer_0': 'glorot_uniform', 'bias_reg_init_rnn_layer1': 'l1', 'bias_reg_rnn_layer_1': 0.040392696727186615, 'kernel_reg_init_rnn_layer_1': None, 'kernel_initializer_rnn_layer_1': 'glorot_uniform', 'bias_reg_init_rnn_layer2': 'l1', 'bias_reg_rnn_layer_2': 0.13092667129957938, 'kernel_reg_init_rnn_layer_2': 'l2', 'kernel_reg_rnn_layer_2': 0.3797231913827401, 'kernel_initializer_rnn_layer_2': 'glorot_normal', 'nunints_layer_0': 480, 'actv_func_layer_0': 'tanh', 'bias_reg_init_layer_0': 'l2', 'bias_reg_layer_0': 0.02622371385508328, 'kernel_reg_init_layer_0': None, 'kernel_initializer_layer_0': 'lecun_normal', 'num_layers': 1, 'batch_norm': True, 'nunits_layer_1': 96, 'actv_func_layer_1': 'elu', 'bias_reg_init_layer_1': 'l1', 'bias_reg_layer_1': 0.2718147548495888, 'kernel_reg_init_layer_1': 'l1l2', 'kernel_reg_layer_1_l1': 0.47285450368544113, 'kernel_reg_layer_1_l2': 0.4250026882031829, 'kernel_initializer_layer_1': 'glorot_uniform', 'dropout_rate_layer_1': 0.5119901461215614, 'dropout_rate_layer_output': 0.8055972136156067, 'optimizer': 'Nadam', 'opt_lr': 0.01813931300509602, 'opt_beta_1': 0.99, 'opt_beta_2': 0.99, 'lr_scheduler_factor': 0.25521753739800057}. Best is trial 17 with value: 0.4305318295955658.\n",
      "\n",
      "\n",
      "[I 2025-01-14 05:32:33,768] Trial 19 finished with value: 24.645122528076172 and parameters: {'batch_size': 64, 'rnn_num_layers': 3, 'units_rnn': 32, 'bias_reg_init_rnn_layer0': 'l1l2', 'bias_reg_rnn_layer_0_l1': 0.2617124826342512, 'bias_reg_rnn_layer_0_l2': 0.1436402652464793, 'kernel_reg_init_rnn_layer_0': None, 'kernel_initializer_rnn_layer_0': 'glorot_normal', 'bias_reg_init_rnn_layer1': 'l1l2', 'bias_reg_rnn_layer_1_l1': 0.4917623842103395, 'bias_reg_rnn_layer_1_l2': 0.07044169287157434, 'kernel_reg_init_rnn_layer_1': 'l1l2', 'kernel_reg_rnn_layer_1_l1': 0.07613693118281421, 'kernel_reg_rnn_layer_1_l2': 0.22021767684233765, 'kernel_initializer_rnn_layer_1': 'lecun_normal', 'bias_reg_init_rnn_layer2': 'l2', 'bias_reg_rnn_layer_2': 0.08306085215836292, 'kernel_reg_init_rnn_layer_2': 'l1', 'kernel_reg_rnn_layer_2': 0.27992186625082743, 'kernel_initializer_rnn_layer_2': 'he_uniform', 'nunints_layer_0': 448, 'actv_func_layer_0': 'gelu', 'bias_reg_init_layer_0': None, 'kernel_reg_init_layer_0': None, 'kernel_initializer_layer_0': 'lecun_normal', 'num_layers': 1, 'batch_norm': True, 'nunits_layer_1': 448, 'actv_func_layer_1': 'leaky_relu', 'bias_reg_init_layer_1': None, 'kernel_reg_init_layer_1': 'l2', 'kernel_reg_layer_1': 0.3471058716975645, 'kernel_initializer_layer_1': 'lecun_normal', 'dropout_rate_layer_1': 0.9373665136300342, 'dropout_rate_layer_output': 0.870333277780789, 'optimizer': 'Adam', 'opt_lr': 0.08075976205642992, 'opt_beta_1': 0.9, 'opt_beta_2': 0.95, 'lr_scheduler_factor': 0.7349202135319286}. Best is trial 17 with value: 0.4305318295955658.\n"
     ]
    }
   ],
   "source": [
    "sampler = optuna.samplers.TPESampler(\n",
    "    n_startup_trials=25, n_ei_candidates=24,\n",
    "    multivariate=False, seed=42\n",
    ")\n",
    "study = optuna.create_study(direction='minimize', sampler=sampler, study_name='study', storage='sqlite:///db.sqlite3')\n",
    "study.optimize(\n",
    "    objective, n_trials=1000,\n",
    "    timeout=3600*12, # in seconds\n",
    "    n_jobs=1,\n",
    "    show_progress_bar=True\n",
    ")"
   ]
  },
  {
   "cell_type": "code",
   "execution_count": 16,
   "metadata": {
    "trusted": true
   },
   "outputs": [
    {
     "name": "stderr",
     "output_type": "stream",
     "text": [
      "[I 2025-01-14 17:48:31,475] Using an existing study with name 'study' instead of creating a new one.\n"
     ]
    },
    {
     "data": {
      "application/vnd.jupyter.widget-view+json": {
       "model_id": "2af5d620e124468c90afd50d156e4b0b",
       "version_major": 2,
       "version_minor": 0
      },
      "text/plain": [
       "  0%|          | 0/1000 [00:00<?, ?it/s]"
      ]
     },
     "metadata": {},
     "output_type": "display_data"
    },
    {
     "name": "stdout",
     "output_type": "stream",
     "text": [
      "\n",
      "\n",
      "[I 2025-01-14 18:12:48,189] Trial 20 finished with value: 0.2963828146457672 and parameters: {'batch_size': 512, 'rnn_num_layers': 3, 'units_rnn': 4, 'bias_reg_init_rnn_layer0': 'l1', 'bias_reg_rnn_layer_0': 0.14083244708762346, 'kernel_reg_init_rnn_layer_0': 'l1', 'kernel_reg_rnn_layer_0': 0.048357581650700865, 'kernel_initializer_rnn_layer_0': 'lecun_uniform', 'bias_reg_init_rnn_layer1': None, 'kernel_reg_init_rnn_layer_1': None, 'kernel_initializer_rnn_layer_1': 'he_normal', 'bias_reg_init_rnn_layer2': 'l1', 'bias_reg_rnn_layer_2': 0.41570361984141635, 'kernel_reg_init_rnn_layer_2': None, 'kernel_initializer_rnn_layer_2': 'he_uniform', 'nunints_layer_0': 192, 'actv_func_layer_0': 'sigmoid', 'bias_reg_init_layer_0': 'l1l2', 'bias_reg_layer_0_l1': 0.25623065239514076, 'bias_reg_layer_0_l2': 0.05220197892389301, 'kernel_reg_init_layer_0': None, 'kernel_initializer_layer_0': 'glorot_normal', 'num_layers': 1, 'batch_norm': True, 'nunits_layer_1': 96, 'actv_func_layer_1': 'leaky_relu', 'bias_reg_init_layer_1': 'l1l2', 'bias_reg_layer_1_l1': 0.0039312499213477415, 'bias_reg_layer_1_l2': 0.10961249767001871, 'kernel_reg_init_layer_1': None, 'kernel_initializer_layer_1': 'he_normal', 'dropout_rate_layer_1': 0.6164494496016835, 'dropout_rate_layer_output': 0.1137245550831248, 'optimizer': 'Nadam', 'opt_lr': 0.05038006993547303, 'opt_beta_1': 0.9, 'opt_beta_2': 0.99, 'lr_scheduler_factor': 0.49513838915895747}. Best is trial 20 with value: 0.2963828146457672.\n",
      "\n",
      "\n",
      "[I 2025-01-14 19:10:56,117] Trial 21 finished with value: 0.9810743927955627 and parameters: {'batch_size': 128, 'rnn_num_layers': 1, 'units_rnn': 16, 'bias_reg_init_rnn_layer0': 'l2', 'bias_reg_rnn_layer_0': 0.20953200031471894, 'kernel_reg_init_rnn_layer_0': 'l1', 'kernel_reg_rnn_layer_0': 0.4708686832383006, 'kernel_initializer_rnn_layer_0': 'glorot_normal', 'nunints_layer_0': 480, 'actv_func_layer_0': 'tanh', 'bias_reg_init_layer_0': 'l1', 'bias_reg_layer_0': 0.1475908497563127, 'kernel_reg_init_layer_0': 'l2', 'kernel_reg_layer_0': 0.2793653339855676, 'kernel_initializer_layer_0': 'he_normal', 'num_layers': 2, 'batch_norm': False, 'nunits_layer_1': 416, 'actv_func_layer_1': 'tanh', 'bias_reg_init_layer_1': None, 'kernel_reg_init_layer_1': 'l1', 'kernel_reg_layer_1': 0.21532161629725755, 'kernel_initializer_layer_1': 'glorot_normal', 'dropout_rate_layer_1': 0.6362654151372885, 'nunits_layer_2': 192, 'actv_func_layer_2': 'sigmoid', 'bias_reg_init_layer_2': 'l2', 'bias_reg_layer_2': 0.07036242849242255, 'kernel_reg_init_layer_2': None, 'kernel_initializer_layer_2': 'he_normal', 'dropout_rate_layer_2': 0.7554574003362267, 'dropout_rate_layer_output': 0.4580644858730088, 'optimizer': 'Adamax', 'opt_lr': 0.02060472000741126, 'opt_beta_1': 0.999, 'opt_beta_2': 0.95, 'lr_scheduler_factor': 0.3212516177654287}. Best is trial 20 with value: 0.2963828146457672.\n",
      "\n",
      "\n",
      "[I 2025-01-14 20:12:43,856] Trial 22 finished with value: 5.931933403015137 and parameters: {'batch_size': 1024, 'rnn_num_layers': 2, 'units_rnn': 32, 'bias_reg_init_rnn_layer0': 'l2', 'bias_reg_rnn_layer_0': 0.29027575373674863, 'kernel_reg_init_rnn_layer_0': 'l1l2', 'kernel_reg_rnn_layer_0_l1': 0.20094922244709668, 'kernel_reg_rnn_layer_0_l2': 0.49692480961095914, 'kernel_initializer_rnn_layer_0': 'glorot_uniform', 'bias_reg_init_rnn_layer1': 'l1l2', 'bias_reg_rnn_layer_1_l1': 0.48201802069804034, 'bias_reg_rnn_layer_1_l2': 0.45473636000752726, 'kernel_reg_init_rnn_layer_1': 'l1l2', 'kernel_reg_rnn_layer_1_l1': 0.39527584615801503, 'kernel_reg_rnn_layer_1_l2': 0.06249792490202747, 'kernel_initializer_rnn_layer_1': 'he_normal', 'nunints_layer_0': 512, 'actv_func_layer_0': 'leaky_relu', 'bias_reg_init_layer_0': 'l1', 'bias_reg_layer_0': 0.2886817867136423, 'kernel_reg_init_layer_0': 'l2', 'kernel_reg_layer_0': 0.3822874445478934, 'kernel_initializer_layer_0': 'glorot_normal', 'num_layers': 2, 'batch_norm': True, 'nunits_layer_1': 480, 'actv_func_layer_1': 'sigmoid', 'bias_reg_init_layer_1': 'l2', 'bias_reg_layer_1': 0.14976785462700343, 'kernel_reg_init_layer_1': 'l2', 'kernel_reg_layer_1': 0.4787282647171443, 'kernel_initializer_layer_1': 'glorot_normal', 'dropout_rate_layer_1': 0.7371316490429685, 'nunits_layer_2': 448, 'actv_func_layer_2': 'sigmoid', 'bias_reg_init_layer_2': 'l1', 'bias_reg_layer_2': 0.03891690240233538, 'kernel_reg_init_layer_2': 'l1', 'kernel_reg_layer_2': 0.05558794958577829, 'kernel_initializer_layer_2': 'he_normal', 'dropout_rate_layer_2': 0.07678521320088735, 'dropout_rate_layer_output': 0.5001236438023474, 'optimizer': 'SGD', 'opt_lr': 0.025285601118008965, 'opt_momentum': 0.00015176162781044573, 'opt_nesterov': False, 'lr_scheduler_factor': 0.622263783142975}. Best is trial 20 with value: 0.2963828146457672.\n",
      "\n",
      "\n",
      "[I 2025-01-14 21:29:17,985] Trial 23 finished with value: 0.8178102970123291 and parameters: {'batch_size': 32, 'rnn_num_layers': 2, 'units_rnn': 2, 'bias_reg_init_rnn_layer0': 'l1', 'bias_reg_rnn_layer_0': 0.3124294530084223, 'kernel_reg_init_rnn_layer_0': None, 'kernel_initializer_rnn_layer_0': 'glorot_uniform', 'bias_reg_init_rnn_layer1': 'l2', 'bias_reg_rnn_layer_1': 0.3148158926761791, 'kernel_reg_init_rnn_layer_1': 'l2', 'kernel_reg_rnn_layer_1': 0.25561345670469116, 'kernel_initializer_rnn_layer_1': 'lecun_uniform', 'nunints_layer_0': 128, 'actv_func_layer_0': 'gelu', 'bias_reg_init_layer_0': 'l1l2', 'bias_reg_layer_0_l1': 0.4549805776128106, 'bias_reg_layer_0_l2': 0.1887212951762001, 'kernel_reg_init_layer_0': 'l1', 'kernel_reg_layer_0': 0.19388563784727797, 'kernel_initializer_layer_0': 'lecun_uniform', 'num_layers': 2, 'batch_norm': False, 'nunits_layer_1': 384, 'actv_func_layer_1': 'elu', 'bias_reg_init_layer_1': 'l1', 'bias_reg_layer_1': 0.10452047373018135, 'kernel_reg_init_layer_1': None, 'kernel_initializer_layer_1': 'he_uniform', 'dropout_rate_layer_1': 0.8792765811835636, 'nunits_layer_2': 128, 'actv_func_layer_2': 'gelu', 'bias_reg_init_layer_2': None, 'kernel_reg_init_layer_2': 'l2', 'kernel_reg_layer_2': 0.02914016684496686, 'kernel_initializer_layer_2': 'he_normal', 'dropout_rate_layer_2': 0.33700820122232356, 'dropout_rate_layer_output': 0.019308303286683433, 'optimizer': 'Nadam', 'opt_lr': 0.03395765396026136, 'opt_beta_1': 0.999, 'opt_beta_2': 0.999, 'lr_scheduler_factor': 0.6023989632194748}. Best is trial 20 with value: 0.2963828146457672.\n",
      "\n",
      "\n",
      "[I 2025-01-14 22:12:16,882] Trial 24 finished with value: 0.8204230666160583 and parameters: {'batch_size': 64, 'rnn_num_layers': 1, 'units_rnn': 16, 'bias_reg_init_rnn_layer0': 'l2', 'bias_reg_rnn_layer_0': 0.32326472494480146, 'kernel_reg_init_rnn_layer_0': 'l1', 'kernel_reg_rnn_layer_0': 0.3916208868079831, 'kernel_initializer_rnn_layer_0': 'glorot_uniform', 'nunints_layer_0': 128, 'actv_func_layer_0': 'tanh', 'bias_reg_init_layer_0': 'l2', 'bias_reg_layer_0': 0.03789495980431372, 'kernel_reg_init_layer_0': 'l1', 'kernel_reg_layer_0': 0.3112445794188417, 'kernel_initializer_layer_0': 'he_normal', 'num_layers': 2, 'batch_norm': False, 'nunits_layer_1': 480, 'actv_func_layer_1': 'elu', 'bias_reg_init_layer_1': 'l2', 'bias_reg_layer_1': 0.4789712671162795, 'kernel_reg_init_layer_1': None, 'kernel_initializer_layer_1': 'he_uniform', 'dropout_rate_layer_1': 0.04385604270036211, 'nunits_layer_2': 96, 'actv_func_layer_2': 'tanh', 'bias_reg_init_layer_2': 'l1l2', 'bias_reg_layer_2_l1': 0.47571976219987994, 'bias_reg_layer_2_l2': 0.49741016505357893, 'kernel_reg_init_layer_2': 'l2', 'kernel_reg_layer_2': 0.21855424324424386, 'kernel_initializer_layer_2': 'he_normal', 'dropout_rate_layer_2': 0.9069908949858397, 'dropout_rate_layer_output': 0.9427578912274006, 'optimizer': 'Nadam', 'opt_lr': 0.014510134437805865, 'opt_beta_1': 0.95, 'opt_beta_2': 0.999, 'lr_scheduler_factor': 0.4242821819483623}. Best is trial 20 with value: 0.2963828146457672.\n",
      "\n",
      "\n",
      "[I 2025-01-14 22:16:53,286] Trial 25 finished with value: 0.5095604062080383 and parameters: {'batch_size': 512, 'rnn_num_layers': 1, 'units_rnn': 4, 'bias_reg_init_rnn_layer0': None, 'kernel_reg_init_rnn_layer_0': 'l1l2', 'kernel_reg_rnn_layer_0_l1': 0.4538416311617307, 'kernel_reg_rnn_layer_0_l2': 0.31757513640910434, 'kernel_initializer_rnn_layer_0': 'he_normal', 'nunints_layer_0': 224, 'actv_func_layer_0': 'sigmoid', 'bias_reg_init_layer_0': 'l1l2', 'bias_reg_layer_0_l1': 0.015630923548310055, 'bias_reg_layer_0_l2': 0.011962974236176475, 'kernel_reg_init_layer_0': 'l1', 'kernel_reg_layer_0': 0.40047208529494044, 'kernel_initializer_layer_0': 'he_normal', 'num_layers': 0, 'batch_norm': True, 'dropout_rate_layer_output': 0.2323669005936277, 'optimizer': 'SGD', 'opt_lr': 0.0626953713382009, 'opt_momentum': 0.014566096837677369, 'opt_nesterov': False, 'lr_scheduler_factor': 0.4999431163444136}. Best is trial 20 with value: 0.2963828146457672.\n",
      "\n",
      "\n",
      "[I 2025-01-14 22:48:21,131] Trial 26 finished with value: 0.35377877950668335 and parameters: {'batch_size': 32, 'rnn_num_layers': 1, 'units_rnn': 4, 'bias_reg_init_rnn_layer0': None, 'kernel_reg_init_rnn_layer_0': 'l1l2', 'kernel_reg_rnn_layer_0_l1': 0.48648733975282116, 'kernel_reg_rnn_layer_0_l2': 0.23321080714692305, 'kernel_initializer_rnn_layer_0': 'he_normal', 'nunints_layer_0': 192, 'actv_func_layer_0': 'sigmoid', 'bias_reg_init_layer_0': 'l1l2', 'bias_reg_layer_0_l1': 0.1550876098300902, 'bias_reg_layer_0_l2': 0.006668843827332405, 'kernel_reg_init_layer_0': None, 'kernel_initializer_layer_0': 'glorot_uniform', 'num_layers': 0, 'batch_norm': True, 'dropout_rate_layer_output': 0.6653575815973336, 'optimizer': 'SGD', 'opt_lr': 0.04624772444978805, 'opt_momentum': 0.0028836268171179426, 'opt_nesterov': False, 'lr_scheduler_factor': 0.4980688014583241}. Best is trial 20 with value: 0.2963828146457672.\n",
      "\n",
      "\n",
      "[I 2025-01-14 23:59:33,764] Trial 27 finished with value: 0.3487570285797119 and parameters: {'batch_size': 32, 'rnn_num_layers': 1, 'units_rnn': 4, 'bias_reg_init_rnn_layer0': None, 'kernel_reg_init_rnn_layer_0': 'l1l2', 'kernel_reg_rnn_layer_0_l1': 0.499349430090179, 'kernel_reg_rnn_layer_0_l2': 0.35933695504337154, 'kernel_initializer_rnn_layer_0': 'he_normal', 'nunints_layer_0': 192, 'actv_func_layer_0': 'sigmoid', 'bias_reg_init_layer_0': 'l1l2', 'bias_reg_layer_0_l1': 0.17120330147333718, 'bias_reg_layer_0_l2': 0.0059808005241259255, 'kernel_reg_init_layer_0': None, 'kernel_initializer_layer_0': 'glorot_uniform', 'num_layers': 0, 'batch_norm': True, 'dropout_rate_layer_output': 0.6963573302017324, 'optimizer': 'SGD', 'opt_lr': 0.04421317326209574, 'opt_momentum': 0.0032056466846093826, 'opt_nesterov': False, 'lr_scheduler_factor': 0.5165620565359291}. Best is trial 20 with value: 0.2963828146457672.\n",
      "\n",
      "\n",
      "[I 2025-01-15 00:59:24,181] Trial 28 finished with value: 0.3599454462528229 and parameters: {'batch_size': 32, 'rnn_num_layers': 1, 'units_rnn': 4, 'bias_reg_init_rnn_layer0': None, 'kernel_reg_init_rnn_layer_0': 'l1l2', 'kernel_reg_rnn_layer_0_l1': 0.4875168008297576, 'kernel_reg_rnn_layer_0_l2': 0.3571456810438297, 'kernel_initializer_rnn_layer_0': 'he_normal', 'nunints_layer_0': 192, 'actv_func_layer_0': 'sigmoid', 'bias_reg_init_layer_0': 'l1l2', 'bias_reg_layer_0_l1': 0.1736810514121298, 'bias_reg_layer_0_l2': 0.005413527566927295, 'kernel_reg_init_layer_0': None, 'kernel_initializer_layer_0': 'glorot_uniform', 'num_layers': 0, 'batch_norm': True, 'dropout_rate_layer_output': 0.3156195291279971, 'optimizer': 'SGD', 'opt_lr': 0.04583451080569607, 'opt_momentum': 0.011739108767790662, 'opt_nesterov': False, 'lr_scheduler_factor': 0.5162216544309863}. Best is trial 20 with value: 0.2963828146457672.\n",
      "\n",
      "\n",
      "[I 2025-01-15 01:45:01,431] Trial 29 finished with value: 0.3425309956073761 and parameters: {'batch_size': 32, 'rnn_num_layers': 1, 'units_rnn': 4, 'bias_reg_init_rnn_layer0': None, 'kernel_reg_init_rnn_layer_0': 'l1l2', 'kernel_reg_rnn_layer_0_l1': 0.3583878662928191, 'kernel_reg_rnn_layer_0_l2': 0.3887833467458628, 'kernel_initializer_rnn_layer_0': 'he_normal', 'nunints_layer_0': 32, 'actv_func_layer_0': 'sigmoid', 'bias_reg_init_layer_0': 'l1l2', 'bias_reg_layer_0_l1': 0.1333128595513586, 'bias_reg_layer_0_l2': 0.101525568440993, 'kernel_reg_init_layer_0': None, 'kernel_initializer_layer_0': 'glorot_uniform', 'num_layers': 0, 'batch_norm': True, 'dropout_rate_layer_output': 0.6074648517367877, 'optimizer': 'SGD', 'opt_lr': 0.04084983505064572, 'opt_momentum': 0.0034111646210472357, 'opt_nesterov': False, 'lr_scheduler_factor': 0.5484530190661014}. Best is trial 20 with value: 0.2963828146457672.\n",
      "\n",
      "\n",
      "[I 2025-01-15 04:07:39,664] Trial 30 finished with value: 0.8178609609603882 and parameters: {'batch_size': 32, 'rnn_num_layers': 1, 'units_rnn': 4, 'bias_reg_init_rnn_layer0': 'l1', 'bias_reg_rnn_layer_0': 0.39360126869392864, 'kernel_reg_init_rnn_layer_0': 'l1l2', 'kernel_reg_rnn_layer_0_l1': 0.3361710342665163, 'kernel_reg_rnn_layer_0_l2': 0.45987618385392975, 'kernel_initializer_rnn_layer_0': 'lecun_uniform', 'nunints_layer_0': 32, 'actv_func_layer_0': 'sigmoid', 'bias_reg_init_layer_0': 'l1l2', 'bias_reg_layer_0_l1': 0.08071870779468789, 'bias_reg_layer_0_l2': 0.15443015264783697, 'kernel_reg_init_layer_0': None, 'kernel_initializer_layer_0': 'glorot_uniform', 'num_layers': 0, 'batch_norm': True, 'dropout_rate_layer_output': 0.5549125803167654, 'optimizer': 'SGD', 'opt_lr': 0.03804413726802995, 'opt_momentum': 0.05351652289558553, 'opt_nesterov': False, 'lr_scheduler_factor': 0.5604484442856652}. Best is trial 20 with value: 0.2963828146457672.\n",
      "\n",
      "\n",
      "[I 2025-01-15 05:04:05,416] Trial 31 finished with value: 0.3526274263858795 and parameters: {'batch_size': 32, 'rnn_num_layers': 1, 'units_rnn': 4, 'bias_reg_init_rnn_layer0': None, 'kernel_reg_init_rnn_layer_0': 'l1l2', 'kernel_reg_rnn_layer_0_l1': 0.4888431957963948, 'kernel_reg_rnn_layer_0_l2': 0.34876187294319505, 'kernel_initializer_rnn_layer_0': 'he_normal', 'nunints_layer_0': 192, 'actv_func_layer_0': 'sigmoid', 'bias_reg_init_layer_0': 'l1l2', 'bias_reg_layer_0_l1': 0.15690743729874568, 'bias_reg_layer_0_l2': 0.0629340550687872, 'kernel_reg_init_layer_0': None, 'kernel_initializer_layer_0': 'glorot_uniform', 'num_layers': 0, 'batch_norm': True, 'dropout_rate_layer_output': 0.6391329012664412, 'optimizer': 'SGD', 'opt_lr': 0.05320340591937651, 'opt_momentum': 0.0032113307221653662, 'opt_nesterov': False, 'lr_scheduler_factor': 0.5613129443129002}. Best is trial 20 with value: 0.2963828146457672.\n"
     ]
    }
   ],
   "source": [
    "study = optuna.create_study(direction='minimize', sampler=sampler, study_name='study', storage='sqlite:///db.sqlite3', load_if_exists=True)\n",
    "study.optimize(\n",
    "    objective, n_trials=1000,\n",
    "    timeout=3600*11, # in seconds\n",
    "    n_jobs=1,\n",
    "    show_progress_bar=True\n",
    ")"
   ]
  },
  {
   "cell_type": "code",
   "execution_count": 17,
   "metadata": {},
   "outputs": [
    {
     "name": "stderr",
     "output_type": "stream",
     "text": [
      "[I 2025-01-15 22:05:21,589] Using an existing study with name 'study' instead of creating a new one.\n"
     ]
    },
    {
     "data": {
      "application/vnd.jupyter.widget-view+json": {
       "model_id": "62d4d0da88234b349f1766e12c6a2320",
       "version_major": 2,
       "version_minor": 0
      },
      "text/plain": [
       "  0%|          | 0/1000 [00:00<?, ?it/s]"
      ]
     },
     "metadata": {},
     "output_type": "display_data"
    },
    {
     "name": "stdout",
     "output_type": "stream",
     "text": [
      "\n",
      "\n",
      "[I 2025-01-15 22:31:50,286] Trial 32 finished with value: 0.363542765378952 and parameters: {'batch_size': 32, 'rnn_num_layers': 1, 'units_rnn': 4, 'bias_reg_init_rnn_layer0': None, 'kernel_reg_init_rnn_layer_0': 'l1l2', 'kernel_reg_rnn_layer_0_l1': 0.4232708227221076, 'kernel_reg_rnn_layer_0_l2': 0.3805860508929098, 'kernel_initializer_rnn_layer_0': 'he_normal', 'nunints_layer_0': 32, 'actv_func_layer_0': 'sigmoid', 'bias_reg_init_layer_0': 'l1l2', 'bias_reg_layer_0_l1': 0.2719789628124966, 'bias_reg_layer_0_l2': 0.10483985410401006, 'kernel_reg_init_layer_0': None, 'kernel_initializer_layer_0': 'glorot_uniform', 'num_layers': 0, 'batch_norm': True, 'dropout_rate_layer_output': 0.6015272255225909, 'optimizer': 'SGD', 'opt_lr': 0.055241860132114816, 'opt_momentum': 0.0019198498282210108, 'opt_nesterov': False, 'lr_scheduler_factor': 0.5493552135791955}. Best is trial 20 with value: 0.2963828146457672.\n",
      "\n",
      "\n",
      "[I 2025-01-16 01:01:58,854] Trial 33 finished with value: 0.8179445266723633 and parameters: {'batch_size': 32, 'rnn_num_layers': 1, 'units_rnn': 4, 'bias_reg_init_rnn_layer0': None, 'kernel_reg_init_rnn_layer_0': 'l1l2', 'kernel_reg_rnn_layer_0_l1': 0.38649808642460753, 'kernel_reg_rnn_layer_0_l2': 0.39728476489698, 'kernel_initializer_rnn_layer_0': 'he_normal', 'nunints_layer_0': 256, 'actv_func_layer_0': 'sigmoid', 'bias_reg_init_layer_0': 'l1l2', 'bias_reg_layer_0_l1': 0.11141482549108858, 'bias_reg_layer_0_l2': 0.09621087223974867, 'kernel_reg_init_layer_0': None, 'kernel_initializer_layer_0': 'glorot_uniform', 'num_layers': 0, 'batch_norm': True, 'dropout_rate_layer_output': 0.4453079009110708, 'optimizer': 'SGD', 'opt_lr': 0.010126481540611703, 'opt_momentum': 0.00510198992754196, 'opt_nesterov': False, 'lr_scheduler_factor': 0.6766058405013342}. Best is trial 20 with value: 0.2963828146457672.\n",
      "\n",
      "\n",
      "[I 2025-01-16 01:48:16,954] Trial 34 finished with value: 0.3604619801044464 and parameters: {'batch_size': 32, 'rnn_num_layers': 1, 'units_rnn': 4, 'bias_reg_init_rnn_layer0': None, 'kernel_reg_init_rnn_layer_0': 'l1l2', 'kernel_reg_rnn_layer_0_l1': 0.498950040436465, 'kernel_reg_rnn_layer_0_l2': 0.3082146030515085, 'kernel_initializer_rnn_layer_0': 'he_normal', 'nunints_layer_0': 192, 'actv_func_layer_0': 'sigmoid', 'bias_reg_init_layer_0': 'l1l2', 'bias_reg_layer_0_l1': 0.2623680988282892, 'bias_reg_layer_0_l2': 0.08144792683551512, 'kernel_reg_init_layer_0': None, 'kernel_initializer_layer_0': 'glorot_uniform', 'num_layers': 0, 'batch_norm': True, 'dropout_rate_layer_output': 0.6152046784141249, 'optimizer': 'SGD', 'opt_lr': 0.02881395706706949, 'opt_momentum': 0.0009660727776945427, 'opt_nesterov': False, 'lr_scheduler_factor': 0.46558141775681483}. Best is trial 20 with value: 0.2963828146457672.\n",
      "\n",
      "\n",
      "[I 2025-01-16 02:07:16,411] Trial 35 finished with value: 0.31668615341186523 and parameters: {'batch_size': 512, 'rnn_num_layers': 1, 'units_rnn': 4, 'bias_reg_init_rnn_layer0': 'l1', 'bias_reg_rnn_layer_0': 0.2134336475786044, 'kernel_reg_init_rnn_layer_0': 'l1l2', 'kernel_reg_rnn_layer_0_l1': 0.2134029454057246, 'kernel_reg_rnn_layer_0_l2': 0.42373503619106706, 'kernel_initializer_rnn_layer_0': 'lecun_uniform', 'nunints_layer_0': 96, 'actv_func_layer_0': 'elu', 'bias_reg_init_layer_0': 'l1l2', 'bias_reg_layer_0_l1': 0.19078151818669598, 'bias_reg_layer_0_l2': 0.0699295586373388, 'kernel_reg_init_layer_0': None, 'kernel_initializer_layer_0': 'glorot_uniform', 'num_layers': 0, 'batch_norm': True, 'dropout_rate_layer_output': 0.7197505498573327, 'optimizer': 'SGD', 'opt_lr': 0.06084012357544207, 'opt_momentum': 0.008099745393424994, 'opt_nesterov': True, 'lr_scheduler_factor': 0.5550970895004599}. Best is trial 20 with value: 0.2963828146457672.\n",
      "\n",
      "\n",
      "[I 2025-01-16 02:38:15,204] Trial 36 finished with value: 0.30572113394737244 and parameters: {'batch_size': 512, 'rnn_num_layers': 1, 'units_rnn': 4, 'bias_reg_init_rnn_layer0': 'l1', 'bias_reg_rnn_layer_0': 0.20910806790778486, 'kernel_reg_init_rnn_layer_0': 'l2', 'kernel_reg_rnn_layer_0': 0.22660847320513297, 'kernel_initializer_rnn_layer_0': 'lecun_uniform', 'nunints_layer_0': 64, 'actv_func_layer_0': 'elu', 'bias_reg_init_layer_0': 'l1l2', 'bias_reg_layer_0_l1': 0.23742093037471657, 'bias_reg_layer_0_l2': 0.2595816419422664, 'kernel_reg_init_layer_0': None, 'kernel_initializer_layer_0': 'glorot_uniform', 'num_layers': 0, 'batch_norm': True, 'dropout_rate_layer_output': 0.7521452883415543, 'optimizer': 'SGD', 'opt_lr': 0.06768046210816879, 'opt_momentum': 0.03901282412113655, 'opt_nesterov': True, 'lr_scheduler_factor': 0.6805850996888985}. Best is trial 20 with value: 0.2963828146457672.\n",
      "\n",
      "\n",
      "[I 2025-01-16 03:09:29,464] Trial 37 finished with value: 0.30742302536964417 and parameters: {'batch_size': 512, 'rnn_num_layers': 1, 'units_rnn': 4, 'bias_reg_init_rnn_layer0': 'l1', 'bias_reg_rnn_layer_0': 0.20698626697796457, 'kernel_reg_init_rnn_layer_0': 'l2', 'kernel_reg_rnn_layer_0': 0.22780032100086778, 'kernel_initializer_rnn_layer_0': 'lecun_uniform', 'nunints_layer_0': 64, 'actv_func_layer_0': 'elu', 'bias_reg_init_layer_0': 'l1l2', 'bias_reg_layer_0_l1': 0.3172833604429071, 'bias_reg_layer_0_l2': 0.28608832136180745, 'kernel_reg_init_layer_0': None, 'kernel_initializer_layer_0': 'glorot_uniform', 'num_layers': 0, 'batch_norm': True, 'dropout_rate_layer_output': 0.7335174585093402, 'optimizer': 'SGD', 'opt_lr': 0.060613221578578715, 'opt_momentum': 0.053072452816665346, 'opt_nesterov': True, 'lr_scheduler_factor': 0.6574039319880702}. Best is trial 20 with value: 0.2963828146457672.\n",
      "\n",
      "\n",
      "[I 2025-01-16 03:27:41,414] Trial 38 finished with value: 0.3675535023212433 and parameters: {'batch_size': 512, 'rnn_num_layers': 1, 'units_rnn': 4, 'bias_reg_init_rnn_layer0': 'l1', 'bias_reg_rnn_layer_0': 0.2139409802296073, 'kernel_reg_init_rnn_layer_0': 'l2', 'kernel_reg_rnn_layer_0': 0.2253094977582938, 'kernel_initializer_rnn_layer_0': 'lecun_uniform', 'nunints_layer_0': 64, 'actv_func_layer_0': 'elu', 'bias_reg_init_layer_0': 'l1l2', 'bias_reg_layer_0_l1': 0.33233630482994025, 'bias_reg_layer_0_l2': 0.2961357037764164, 'kernel_reg_init_layer_0': None, 'kernel_initializer_layer_0': 'glorot_normal', 'num_layers': 1, 'batch_norm': True, 'nunits_layer_1': 32, 'actv_func_layer_1': 'tanh', 'bias_reg_init_layer_1': 'l1l2', 'bias_reg_layer_1_l1': 0.008004166456320159, 'bias_reg_layer_1_l2': 0.012177283087550977, 'kernel_reg_init_layer_1': 'l1l2', 'kernel_reg_layer_1_l1': 0.014170536700710112, 'kernel_reg_layer_1_l2': 0.00208081872889046, 'kernel_initializer_layer_1': 'lecun_uniform', 'dropout_rate_layer_1': 0.10491502633151673, 'dropout_rate_layer_output': 0.7613331615882877, 'optimizer': 'Nadam', 'opt_lr': 0.06682524147955692, 'opt_beta_1': 0.9, 'opt_beta_2': 0.99, 'lr_scheduler_factor': 0.7491951077720986}. Best is trial 20 with value: 0.2963828146457672.\n",
      "\n",
      "\n",
      "[I 2025-01-16 04:26:32,912] Trial 39 finished with value: 0.42249512672424316 and parameters: {'batch_size': 512, 'rnn_num_layers': 3, 'units_rnn': 4, 'bias_reg_init_rnn_layer0': 'l1', 'bias_reg_rnn_layer_0': 0.17790165110416076, 'kernel_reg_init_rnn_layer_0': 'l2', 'kernel_reg_rnn_layer_0': 0.2416408093440954, 'kernel_initializer_rnn_layer_0': 'lecun_uniform', 'bias_reg_init_rnn_layer1': None, 'kernel_reg_init_rnn_layer_1': None, 'kernel_initializer_rnn_layer_1': 'he_normal', 'bias_reg_init_rnn_layer2': 'l1l2', 'bias_reg_rnn_layer_2_l1': 0.4628643794516599, 'bias_reg_rnn_layer_2_l2': 0.0283060503278465, 'kernel_reg_init_rnn_layer_2': None, 'kernel_initializer_rnn_layer_2': 'glorot_uniform', 'nunints_layer_0': 96, 'actv_func_layer_0': 'elu', 'bias_reg_init_layer_0': 'l1l2', 'bias_reg_layer_0_l1': 0.3278078350968231, 'bias_reg_layer_0_l2': 0.2838450217328278, 'kernel_reg_init_layer_0': None, 'kernel_initializer_layer_0': 'glorot_uniform', 'num_layers': 1, 'batch_norm': True, 'nunits_layer_1': 32, 'actv_func_layer_1': 'sigmoid', 'bias_reg_init_layer_1': 'l1l2', 'bias_reg_layer_1_l1': 0.4713803283069296, 'bias_reg_layer_1_l2': 0.4577570826236751, 'kernel_reg_init_layer_1': 'l1', 'kernel_reg_layer_1': 0.19794321203753912, 'kernel_initializer_layer_1': 'lecun_normal', 'dropout_rate_layer_1': 0.15986451449388084, 'dropout_rate_layer_output': 0.8726250012107257, 'optimizer': 'SGD', 'opt_lr': 0.09892226045216493, 'opt_momentum': 0.08354891700121819, 'opt_nesterov': True, 'lr_scheduler_factor': 0.6801640607258889}. Best is trial 20 with value: 0.2963828146457672.\n",
      "\n",
      "\n",
      "[I 2025-01-16 04:33:17,311] Trial 40 finished with value: 0.5797554850578308 and parameters: {'batch_size': 512, 'rnn_num_layers': 1, 'units_rnn': 4, 'bias_reg_init_rnn_layer0': 'l1', 'bias_reg_rnn_layer_0': 0.2536146979170758, 'kernel_reg_init_rnn_layer_0': 'l2', 'kernel_reg_rnn_layer_0': 0.3046966497429696, 'kernel_initializer_rnn_layer_0': 'lecun_uniform', 'nunints_layer_0': 64, 'actv_func_layer_0': 'elu', 'bias_reg_init_layer_0': 'l1l2', 'bias_reg_layer_0_l1': 0.23889117237976756, 'bias_reg_layer_0_l2': 0.2180007149992802, 'kernel_reg_init_layer_0': None, 'kernel_initializer_layer_0': 'glorot_normal', 'num_layers': 0, 'batch_norm': True, 'dropout_rate_layer_output': 0.16250420952736144, 'optimizer': 'Nadam', 'opt_lr': 0.06162079971208437, 'opt_beta_1': 0.9, 'opt_beta_2': 0.99, 'lr_scheduler_factor': 0.6647976273774857}. Best is trial 20 with value: 0.2963828146457672.\n",
      "\n",
      "\n",
      "[I 2025-01-16 05:04:46,325] Trial 41 finished with value: 0.3060922920703888 and parameters: {'batch_size': 512, 'rnn_num_layers': 1, 'units_rnn': 4, 'bias_reg_init_rnn_layer0': 'l1', 'bias_reg_rnn_layer_0': 0.23309242447555195, 'kernel_reg_init_rnn_layer_0': 'l2', 'kernel_reg_rnn_layer_0': 0.18704020267620647, 'kernel_initializer_rnn_layer_0': 'lecun_uniform', 'nunints_layer_0': 96, 'actv_func_layer_0': 'elu', 'bias_reg_init_layer_0': 'l1l2', 'bias_reg_layer_0_l1': 0.27387218709757766, 'bias_reg_layer_0_l2': 0.2690999533841383, 'kernel_reg_init_layer_0': None, 'kernel_initializer_layer_0': 'glorot_uniform', 'num_layers': 0, 'batch_norm': True, 'dropout_rate_layer_output': 0.7355483362395677, 'optimizer': 'SGD', 'opt_lr': 0.05788074238436521, 'opt_momentum': 0.0230184986127566, 'opt_nesterov': True, 'lr_scheduler_factor': 0.6480386887248252}. Best is trial 20 with value: 0.2963828146457672.\n",
      "\n",
      "\n",
      "[I 2025-01-16 05:38:30,932] Trial 42 finished with value: 0.3058745861053467 and parameters: {'batch_size': 512, 'rnn_num_layers': 1, 'units_rnn': 4, 'bias_reg_init_rnn_layer0': 'l1', 'bias_reg_rnn_layer_0': 0.23333969530408857, 'kernel_reg_init_rnn_layer_0': 'l2', 'kernel_reg_rnn_layer_0': 0.1940991509966528, 'kernel_initializer_rnn_layer_0': 'lecun_uniform', 'nunints_layer_0': 96, 'actv_func_layer_0': 'elu', 'bias_reg_init_layer_0': 'l1l2', 'bias_reg_layer_0_l1': 0.2655049346842389, 'bias_reg_layer_0_l2': 0.307549794485551, 'kernel_reg_init_layer_0': None, 'kernel_initializer_layer_0': 'glorot_uniform', 'num_layers': 0, 'batch_norm': True, 'dropout_rate_layer_output': 0.7291538502552802, 'optimizer': 'SGD', 'opt_lr': 0.06250783785102434, 'opt_momentum': 0.029379522236579667, 'opt_nesterov': True, 'lr_scheduler_factor': 0.6514731099391762}. Best is trial 20 with value: 0.2963828146457672.\n",
      "\n",
      "\n",
      "[I 2025-01-16 06:18:31,684] Trial 43 finished with value: 0.30764085054397583 and parameters: {'batch_size': 512, 'rnn_num_layers': 1, 'units_rnn': 4, 'bias_reg_init_rnn_layer0': 'l1', 'bias_reg_rnn_layer_0': 0.2521514085197827, 'kernel_reg_init_rnn_layer_0': 'l2', 'kernel_reg_rnn_layer_0': 0.17626813547461273, 'kernel_initializer_rnn_layer_0': 'lecun_uniform', 'nunints_layer_0': 160, 'actv_func_layer_0': 'elu', 'bias_reg_init_layer_0': 'l1l2', 'bias_reg_layer_0_l1': 0.29510221156407884, 'bias_reg_layer_0_l2': 0.3420390040822455, 'kernel_reg_init_layer_0': None, 'kernel_initializer_layer_0': 'glorot_uniform', 'num_layers': 0, 'batch_norm': True, 'dropout_rate_layer_output': 0.8335865320791003, 'optimizer': 'SGD', 'opt_lr': 0.06945085860619327, 'opt_momentum': 0.028777720744919362, 'opt_nesterov': True, 'lr_scheduler_factor': 0.6586936171619722}. Best is trial 20 with value: 0.2963828146457672.\n",
      "\n",
      "\n",
      "[I 2025-01-16 06:52:42,388] Trial 44 finished with value: 0.34585368633270264 and parameters: {'batch_size': 512, 'rnn_num_layers': 1, 'units_rnn': 8, 'bias_reg_init_rnn_layer0': 'l1', 'bias_reg_rnn_layer_0': 0.12217161762974221, 'kernel_reg_init_rnn_layer_0': 'l2', 'kernel_reg_rnn_layer_0': 0.22001549645087504, 'kernel_initializer_rnn_layer_0': 'lecun_uniform', 'nunints_layer_0': 64, 'actv_func_layer_0': 'elu', 'bias_reg_init_layer_0': 'l1l2', 'bias_reg_layer_0_l1': 0.3942462753945903, 'bias_reg_layer_0_l2': 0.26507736995241565, 'kernel_reg_init_layer_0': 'l1l2', 'kernel_reg_layer_0_l1': 0.0065920860089639655, 'kernel_reg_layer_0_l2': 0.467479109154012, 'kernel_initializer_layer_0': 'glorot_uniform', 'num_layers': 0, 'batch_norm': True, 'dropout_rate_layer_output': 0.7529087631497621, 'optimizer': 'SGD', 'opt_lr': 0.05136971959646786, 'opt_momentum': 0.03196688647404962, 'opt_nesterov': True, 'lr_scheduler_factor': 0.7069203118695646}. Best is trial 20 with value: 0.2963828146457672.\n",
      "\n",
      "\n",
      "[I 2025-01-16 07:28:32,513] Trial 45 finished with value: 0.3057257831096649 and parameters: {'batch_size': 512, 'rnn_num_layers': 1, 'units_rnn': 4, 'bias_reg_init_rnn_layer0': 'l1', 'bias_reg_rnn_layer_0': 0.17423644274860187, 'kernel_reg_init_rnn_layer_0': 'l2', 'kernel_reg_rnn_layer_0': 0.19880407699963926, 'kernel_initializer_rnn_layer_0': 'lecun_uniform', 'nunints_layer_0': 96, 'actv_func_layer_0': 'elu', 'bias_reg_init_layer_0': 'l1l2', 'bias_reg_layer_0_l1': 0.29296217128410657, 'bias_reg_layer_0_l2': 0.3314031317295565, 'kernel_reg_init_layer_0': None, 'kernel_initializer_layer_0': 'glorot_uniform', 'num_layers': 0, 'batch_norm': True, 'dropout_rate_layer_output': 0.804282480597868, 'optimizer': 'SGD', 'opt_lr': 0.08056736407509171, 'opt_momentum': 0.025271106105830506, 'opt_nesterov': True, 'lr_scheduler_factor': 0.6431736386875292}. Best is trial 20 with value: 0.2963828146457672.\n"
     ]
    }
   ],
   "source": [
    "study = optuna.create_study(direction='minimize', sampler=sampler, study_name='study', storage='sqlite:///db.sqlite3', load_if_exists=True)\n",
    "study.optimize(\n",
    "    objective, n_trials=1000,\n",
    "    timeout=3600*9, # in seconds\n",
    "    n_jobs=1,\n",
    "    show_progress_bar=True\n",
    ")"
   ]
  },
  {
   "cell_type": "code",
   "execution_count": 18,
   "metadata": {},
   "outputs": [
    {
     "name": "stderr",
     "output_type": "stream",
     "text": [
      "[I 2025-01-16 21:00:13,156] Using an existing study with name 'study' instead of creating a new one.\n"
     ]
    },
    {
     "data": {
      "application/vnd.jupyter.widget-view+json": {
       "model_id": "9117ed3e1511419c97dc999fe72b4507",
       "version_major": 2,
       "version_minor": 0
      },
      "text/plain": [
       "  0%|          | 0/1000 [00:00<?, ?it/s]"
      ]
     },
     "metadata": {},
     "output_type": "display_data"
    },
    {
     "name": "stdout",
     "output_type": "stream",
     "text": [
      "\n",
      "\n",
      "[I 2025-01-16 21:34:28,108] Trial 46 finished with value: 0.3493139147758484 and parameters: {'batch_size': 512, 'rnn_num_layers': 3, 'units_rnn': 4, 'bias_reg_init_rnn_layer0': 'l1', 'bias_reg_rnn_layer_0': 0.17245738170663966, 'kernel_reg_init_rnn_layer_0': 'l2', 'kernel_reg_rnn_layer_0': 0.18461693126154022, 'kernel_initializer_rnn_layer_0': 'lecun_uniform', 'bias_reg_init_rnn_layer1': None, 'kernel_reg_init_rnn_layer_1': None, 'kernel_initializer_rnn_layer_1': 'he_uniform', 'bias_reg_init_rnn_layer2': 'l2', 'bias_reg_rnn_layer_2': 0.46746052811227734, 'kernel_reg_init_rnn_layer_2': None, 'kernel_initializer_rnn_layer_2': 'lecun_normal', 'nunints_layer_0': 160, 'actv_func_layer_0': 'relu', 'bias_reg_init_layer_0': 'l1l2', 'bias_reg_layer_0_l1': 0.23292962030041078, 'bias_reg_layer_0_l2': 0.33992455224988305, 'kernel_reg_init_layer_0': None, 'kernel_initializer_layer_0': 'he_uniform', 'num_layers': 1, 'batch_norm': True, 'nunits_layer_1': 288, 'actv_func_layer_1': 'gelu', 'bias_reg_init_layer_1': 'l1l2', 'bias_reg_layer_1_l1': 0.007149650914066554, 'bias_reg_layer_1_l2': 0.14397750445883567, 'kernel_reg_init_layer_1': 'l1l2', 'kernel_reg_layer_1_l1': 0.45807234924837564, 'kernel_reg_layer_1_l2': 0.48626154215660095, 'kernel_initializer_layer_1': 'lecun_normal', 'dropout_rate_layer_1': 0.6433954713948098, 'dropout_rate_layer_output': 0.8230231525090848, 'optimizer': 'Nadam', 'opt_lr': 0.08287161513222885, 'opt_beta_1': 0.9, 'opt_beta_2': 0.99, 'lr_scheduler_factor': 0.588611696040874}. Best is trial 20 with value: 0.2963828146457672.\n",
      "\n",
      "\n",
      "[I 2025-01-16 21:45:54,084] Trial 47 finished with value: 0.5552363991737366 and parameters: {'batch_size': 512, 'rnn_num_layers': 2, 'units_rnn': 2, 'bias_reg_init_rnn_layer0': 'l1', 'bias_reg_rnn_layer_0': 0.27002390073295773, 'kernel_reg_init_rnn_layer_0': 'l2', 'kernel_reg_rnn_layer_0': 0.07356273949505826, 'kernel_initializer_rnn_layer_0': 'lecun_uniform', 'bias_reg_init_rnn_layer1': None, 'kernel_reg_init_rnn_layer_1': None, 'kernel_initializer_rnn_layer_1': 'he_normal', 'nunints_layer_0': 96, 'actv_func_layer_0': 'elu', 'bias_reg_init_layer_0': 'l1l2', 'bias_reg_layer_0_l1': 0.2789781153784943, 'bias_reg_layer_0_l2': 0.3496105233856501, 'kernel_reg_init_layer_0': 'l1l2', 'kernel_reg_layer_0_l1': 0.48990936829447634, 'kernel_reg_layer_0_l2': 0.01628833105212954, 'kernel_initializer_layer_0': 'glorot_normal', 'num_layers': 0, 'batch_norm': True, 'dropout_rate_layer_output': 0.900455804101425, 'optimizer': 'SGD', 'opt_lr': 0.07915675367582038, 'opt_momentum': 0.02201797108081895, 'opt_nesterov': True, 'lr_scheduler_factor': 0.632812834227979}. Best is trial 20 with value: 0.2963828146457672.\n",
      "\n",
      "\n",
      "[I 2025-01-16 22:05:45,311] Trial 48 finished with value: 0.7630472779273987 and parameters: {'batch_size': 512, 'rnn_num_layers': 1, 'units_rnn': 4, 'bias_reg_init_rnn_layer0': 'l1', 'bias_reg_rnn_layer_0': 0.11091900419237877, 'kernel_reg_init_rnn_layer_0': 'l2', 'kernel_reg_rnn_layer_0': 0.2626350733431795, 'kernel_initializer_rnn_layer_0': 'he_uniform', 'nunints_layer_0': 96, 'actv_func_layer_0': 'elu', 'bias_reg_init_layer_0': 'l1l2', 'bias_reg_layer_0_l1': 0.36873915741518665, 'bias_reg_layer_0_l2': 0.2405913160257667, 'kernel_reg_init_layer_0': None, 'kernel_initializer_layer_0': 'glorot_uniform', 'num_layers': 1, 'batch_norm': True, 'nunits_layer_1': 96, 'actv_func_layer_1': 'tanh', 'bias_reg_init_layer_1': 'l1l2', 'bias_reg_layer_1_l1': 0.2740439745301303, 'bias_reg_layer_1_l2': 0.3652012639169843, 'kernel_reg_init_layer_1': 'l1', 'kernel_reg_layer_1': 0.36793496006738435, 'kernel_initializer_layer_1': 'lecun_uniform', 'dropout_rate_layer_1': 0.9909602507172033, 'dropout_rate_layer_output': 0.779119724881729, 'optimizer': 'SGD', 'opt_lr': 0.09708548042452406, 'opt_momentum': 0.09715392448893388, 'opt_nesterov': True, 'lr_scheduler_factor': 0.6998269463755101}. Best is trial 20 with value: 0.2963828146457672.\n",
      "\n",
      "\n",
      "[I 2025-01-16 22:08:28,848] Trial 49 finished with value: 0.3918243646621704 and parameters: {'batch_size': 512, 'rnn_num_layers': 2, 'units_rnn': 8, 'bias_reg_init_rnn_layer0': 'l1', 'bias_reg_rnn_layer_0': 0.17469344520777896, 'kernel_reg_init_rnn_layer_0': 'l2', 'kernel_reg_rnn_layer_0': 0.20285019678299437, 'kernel_initializer_rnn_layer_0': 'lecun_uniform', 'bias_reg_init_rnn_layer1': None, 'kernel_reg_init_rnn_layer_1': None, 'kernel_initializer_rnn_layer_1': 'he_normal', 'nunints_layer_0': 160, 'actv_func_layer_0': 'elu', 'bias_reg_init_layer_0': None, 'kernel_reg_init_layer_0': None, 'kernel_initializer_layer_0': 'glorot_uniform', 'num_layers': 0, 'batch_norm': True, 'dropout_rate_layer_output': 0.9300173407378292, 'optimizer': 'Nadam', 'opt_lr': 0.06837779060582488, 'opt_beta_1': 0.9, 'opt_beta_2': 0.99, 'lr_scheduler_factor': 0.5864722223029851}. Best is trial 20 with value: 0.2963828146457672.\n",
      "\n",
      "\n",
      "[I 2025-01-16 22:14:18,428] Trial 50 finished with value: 0.5813186764717102 and parameters: {'batch_size': 512, 'rnn_num_layers': 1, 'units_rnn': 32, 'bias_reg_init_rnn_layer0': 'l1', 'bias_reg_rnn_layer_0': 0.23246056909591498, 'kernel_reg_init_rnn_layer_0': 'l2', 'kernel_reg_rnn_layer_0': 0.29196584939479536, 'kernel_initializer_rnn_layer_0': 'lecun_uniform', 'nunints_layer_0': 128, 'actv_func_layer_0': 'leaky_relu', 'bias_reg_init_layer_0': 'l1l2', 'bias_reg_layer_0_l1': 0.21546611784992406, 'bias_reg_layer_0_l2': 0.39060496268451506, 'kernel_reg_init_layer_0': None, 'kernel_initializer_layer_0': 'glorot_normal', 'num_layers': 0, 'batch_norm': True, 'dropout_rate_layer_output': 0.06772265090644608, 'optimizer': 'Adamax', 'opt_lr': 0.0904614612893836, 'opt_beta_1': 0.9, 'opt_beta_2': 0.99, 'lr_scheduler_factor': 0.6927596871094279}. Best is trial 20 with value: 0.2963828146457672.\n",
      "\n",
      "\n",
      "[I 2025-01-16 22:25:01,607] Trial 51 finished with value: 0.30803367495536804 and parameters: {'batch_size': 512, 'rnn_num_layers': 1, 'units_rnn': 4, 'bias_reg_init_rnn_layer0': 'l1', 'bias_reg_rnn_layer_0': 0.18986605683854993, 'kernel_reg_init_rnn_layer_0': 'l2', 'kernel_reg_rnn_layer_0': 0.15022348232174748, 'kernel_initializer_rnn_layer_0': 'lecun_uniform', 'nunints_layer_0': 64, 'actv_func_layer_0': 'elu', 'bias_reg_init_layer_0': 'l1l2', 'bias_reg_layer_0_l1': 0.30170040602715814, 'bias_reg_layer_0_l2': 0.30028906564560887, 'kernel_reg_init_layer_0': None, 'kernel_initializer_layer_0': 'glorot_uniform', 'num_layers': 0, 'batch_norm': True, 'dropout_rate_layer_output': 0.7308817691261545, 'optimizer': 'SGD', 'opt_lr': 0.05851054174227191, 'opt_momentum': 0.04010845778184144, 'opt_nesterov': True, 'lr_scheduler_factor': 0.6483116729455992}. Best is trial 20 with value: 0.2963828146457672.\n",
      "\n",
      "\n",
      "[I 2025-01-16 22:42:25,730] Trial 52 finished with value: 0.7922820448875427 and parameters: {'batch_size': 512, 'rnn_num_layers': 1, 'units_rnn': 4, 'bias_reg_init_rnn_layer0': 'l1', 'bias_reg_rnn_layer_0': 0.14707904257343613, 'kernel_reg_init_rnn_layer_0': 'l2', 'kernel_reg_rnn_layer_0': 0.0004575071811003459, 'kernel_initializer_rnn_layer_0': 'lecun_uniform', 'nunints_layer_0': 32, 'actv_func_layer_0': 'elu', 'bias_reg_init_layer_0': 'l1l2', 'bias_reg_layer_0_l1': 0.3051892572886739, 'bias_reg_layer_0_l2': 0.2319767943794879, 'kernel_reg_init_layer_0': None, 'kernel_initializer_layer_0': 'glorot_uniform', 'num_layers': 0, 'batch_norm': True, 'dropout_rate_layer_output': 0.9985475925863897, 'optimizer': 'SGD', 'opt_lr': 0.050164884841598145, 'opt_momentum': 0.01870091260315123, 'opt_nesterov': True, 'lr_scheduler_factor': 0.6483552099427079}. Best is trial 20 with value: 0.2963828146457672.\n",
      "\n",
      "\n",
      "[I 2025-01-16 22:50:59,027] Trial 53 finished with value: 0.3101426959037781 and parameters: {'batch_size': 512, 'rnn_num_layers': 1, 'units_rnn': 4, 'bias_reg_init_rnn_layer0': 'l1', 'bias_reg_rnn_layer_0': 0.2269183150523976, 'kernel_reg_init_rnn_layer_0': 'l2', 'kernel_reg_rnn_layer_0': 0.08237432127507219, 'kernel_initializer_rnn_layer_0': 'lecun_uniform', 'nunints_layer_0': 64, 'actv_func_layer_0': 'elu', 'bias_reg_init_layer_0': 'l1l2', 'bias_reg_layer_0_l1': 0.2561334162128789, 'bias_reg_layer_0_l2': 0.30981238922914556, 'kernel_reg_init_layer_0': None, 'kernel_initializer_layer_0': 'glorot_uniform', 'num_layers': 0, 'batch_norm': True, 'dropout_rate_layer_output': 0.8438760278552379, 'optimizer': 'SGD', 'opt_lr': 0.07348044615031692, 'opt_momentum': 0.05134892159404041, 'opt_nesterov': True, 'lr_scheduler_factor': 0.7243172066161947}. Best is trial 20 with value: 0.2963828146457672.\n",
      "\n",
      "\n",
      "[I 2025-01-16 23:13:06,299] Trial 54 finished with value: 0.31046977639198303 and parameters: {'batch_size': 512, 'rnn_num_layers': 1, 'units_rnn': 4, 'bias_reg_init_rnn_layer0': 'l1', 'bias_reg_rnn_layer_0': 0.15438277158013092, 'kernel_reg_init_rnn_layer_0': 'l2', 'kernel_reg_rnn_layer_0': 0.03924855280648807, 'kernel_initializer_rnn_layer_0': 'lecun_normal', 'nunints_layer_0': 320, 'actv_func_layer_0': 'relu', 'bias_reg_init_layer_0': 'l1l2', 'bias_reg_layer_0_l1': 0.35074803310200825, 'bias_reg_layer_0_l2': 0.26801839609215045, 'kernel_reg_init_layer_0': None, 'kernel_initializer_layer_0': 'glorot_uniform', 'num_layers': 0, 'batch_norm': True, 'dropout_rate_layer_output': 0.6573060567558457, 'optimizer': 'SGD', 'opt_lr': 0.056346931559219306, 'opt_momentum': 0.008712168314605927, 'opt_nesterov': True, 'lr_scheduler_factor': 0.6388954156790969}. Best is trial 20 with value: 0.2963828146457672.\n",
      "\n",
      "\n",
      "[I 2025-01-16 23:18:26,880] Trial 55 finished with value: 0.3587517738342285 and parameters: {'batch_size': 1024, 'rnn_num_layers': 1, 'units_rnn': 4, 'bias_reg_init_rnn_layer0': 'l1', 'bias_reg_rnn_layer_0': 0.08722989982277106, 'kernel_reg_init_rnn_layer_0': None, 'kernel_initializer_rnn_layer_0': 'lecun_uniform', 'nunints_layer_0': 128, 'actv_func_layer_0': 'elu', 'bias_reg_init_layer_0': 'l1', 'bias_reg_layer_0': 0.41514419666032554, 'kernel_reg_init_layer_0': 'l1l2', 'kernel_reg_layer_0_l1': 0.14690536429398177, 'kernel_reg_layer_0_l2': 0.4995013099593612, 'kernel_initializer_layer_0': 'he_uniform', 'num_layers': 0, 'batch_norm': True, 'dropout_rate_layer_output': 0.7913812502451701, 'optimizer': 'Adam', 'opt_lr': 0.06526381488825789, 'opt_beta_1': 0.9, 'opt_beta_2': 0.99, 'lr_scheduler_factor': 0.5937545836910906}. Best is trial 20 with value: 0.2963828146457672.\n",
      "\n",
      "\n",
      "[I 2025-01-16 23:20:25,013] Trial 56 finished with value: 0.7174355983734131 and parameters: {'batch_size': 512, 'rnn_num_layers': 3, 'units_rnn': 4, 'bias_reg_init_rnn_layer0': 'l1', 'bias_reg_rnn_layer_0': 0.19890653956185628, 'kernel_reg_init_rnn_layer_0': 'l2', 'kernel_reg_rnn_layer_0': 0.2621239748281863, 'kernel_initializer_rnn_layer_0': 'glorot_normal', 'bias_reg_init_rnn_layer1': None, 'kernel_reg_init_rnn_layer_1': None, 'kernel_initializer_rnn_layer_1': 'glorot_normal', 'bias_reg_init_rnn_layer2': 'l1', 'bias_reg_rnn_layer_2': 0.40084984904006843, 'kernel_reg_init_rnn_layer_2': None, 'kernel_initializer_rnn_layer_2': 'he_uniform', 'nunints_layer_0': 96, 'actv_func_layer_0': 'elu', 'bias_reg_init_layer_0': None, 'kernel_reg_init_layer_0': None, 'kernel_initializer_layer_0': 'lecun_uniform', 'num_layers': 1, 'batch_norm': True, 'nunits_layer_1': 128, 'actv_func_layer_1': 'relu', 'bias_reg_init_layer_1': 'l1l2', 'bias_reg_layer_1_l1': 0.17784256920400493, 'bias_reg_layer_1_l2': 0.011183024092060179, 'kernel_reg_init_layer_1': None, 'kernel_initializer_layer_1': 'he_normal', 'dropout_rate_layer_1': 0.24601179197369988, 'dropout_rate_layer_output': 0.5561981896551742, 'optimizer': 'SGD', 'opt_lr': 0.07572827337322513, 'opt_momentum': 0.04986477851968126, 'opt_nesterov': True, 'lr_scheduler_factor': 0.713038358428256}. Best is trial 20 with value: 0.2963828146457672.\n",
      "\n",
      "\n",
      "[I 2025-01-16 23:28:37,973] Trial 57 finished with value: 0.31677013635635376 and parameters: {'batch_size': 256, 'rnn_num_layers': 2, 'units_rnn': 2, 'bias_reg_init_rnn_layer0': 'l1', 'bias_reg_rnn_layer_0': 0.27906877324035073, 'kernel_reg_init_rnn_layer_0': 'l2', 'kernel_reg_rnn_layer_0': 0.1273331370709428, 'kernel_initializer_rnn_layer_0': 'he_uniform', 'bias_reg_init_rnn_layer1': None, 'kernel_reg_init_rnn_layer_1': 'l1l2', 'kernel_reg_rnn_layer_1_l1': 0.0008043449896216748, 'kernel_reg_rnn_layer_1_l2': 0.4956487154319753, 'kernel_initializer_rnn_layer_1': 'lecun_normal', 'nunints_layer_0': 64, 'actv_func_layer_0': 'elu', 'bias_reg_init_layer_0': 'l1l2', 'bias_reg_layer_0_l1': 0.39289160931435196, 'bias_reg_layer_0_l2': 0.38893960366190883, 'kernel_reg_init_layer_0': None, 'kernel_initializer_layer_0': 'lecun_normal', 'num_layers': 0, 'batch_norm': True, 'dropout_rate_layer_output': 0.7541010496158994, 'optimizer': 'SGD', 'opt_lr': 0.05836573719722583, 'opt_momentum': 0.02246978545934491, 'opt_nesterov': True, 'lr_scheduler_factor': 0.37859242877346844}. Best is trial 20 with value: 0.2963828146457672.\n",
      "\n",
      "\n",
      "[I 2025-01-16 23:31:01,687] Trial 58 finished with value: 1.2992043495178223 and parameters: {'batch_size': 512, 'rnn_num_layers': 1, 'units_rnn': 32, 'bias_reg_init_rnn_layer0': 'l1', 'bias_reg_rnn_layer_0': 0.14897647083818757, 'kernel_reg_init_rnn_layer_0': 'l2', 'kernel_reg_rnn_layer_0': 0.20716151279309072, 'kernel_initializer_rnn_layer_0': 'lecun_uniform', 'nunints_layer_0': 160, 'actv_func_layer_0': 'leaky_relu', 'bias_reg_init_layer_0': 'l1l2', 'bias_reg_layer_0_l1': 0.20913498490115331, 'bias_reg_layer_0_l2': 0.19709542401429936, 'kernel_reg_init_layer_0': 'l2', 'kernel_reg_layer_0': 0.49728108837731244, 'kernel_initializer_layer_0': 'glorot_uniform', 'num_layers': 0, 'batch_norm': True, 'dropout_rate_layer_output': 0.2924098580977277, 'optimizer': 'Nadam', 'opt_lr': 0.08679820681645506, 'opt_beta_1': 0.99, 'opt_beta_2': 0.99, 'lr_scheduler_factor': 0.6193804025442327}. Best is trial 20 with value: 0.2963828146457672.\n",
      "\n",
      "\n",
      "[I 2025-01-17 00:22:44,688] Trial 59 finished with value: 0.4009742736816406 and parameters: {'batch_size': 512, 'rnn_num_layers': 2, 'units_rnn': 16, 'bias_reg_init_rnn_layer0': 'l1l2', 'bias_reg_rnn_layer_0_l1': 0.004122823061042252, 'bias_reg_rnn_layer_0_l2': 0.0017740118585777287, 'kernel_reg_init_rnn_layer_0': 'l1', 'kernel_reg_rnn_layer_0': 0.2447344291842804, 'kernel_initializer_rnn_layer_0': 'lecun_uniform', 'bias_reg_init_rnn_layer1': None, 'kernel_reg_init_rnn_layer_1': None, 'kernel_initializer_rnn_layer_1': 'lecun_uniform', 'nunints_layer_0': 128, 'actv_func_layer_0': 'elu', 'bias_reg_init_layer_0': 'l1l2', 'bias_reg_layer_0_l1': 0.316986976726289, 'bias_reg_layer_0_l2': 0.3221868658969831, 'kernel_reg_init_layer_0': None, 'kernel_initializer_layer_0': 'glorot_normal', 'num_layers': 1, 'batch_norm': False, 'nunits_layer_1': 256, 'actv_func_layer_1': 'leaky_relu', 'bias_reg_init_layer_1': 'l1l2', 'bias_reg_layer_1_l1': 0.3215335155638447, 'bias_reg_layer_1_l2': 0.26794578347335785, 'kernel_reg_init_layer_1': 'l1', 'kernel_reg_layer_1': 0.15012927288359446, 'kernel_initializer_layer_1': 'he_normal', 'dropout_rate_layer_1': 0.37828082094192617, 'dropout_rate_layer_output': 0.6977226234772748, 'optimizer': 'Adamax', 'opt_lr': 0.07120463599932683, 'opt_beta_1': 0.95, 'opt_beta_2': 0.99, 'lr_scheduler_factor': 0.6776604110626736}. Best is trial 20 with value: 0.2963828146457672.\n",
      "\n",
      "\n",
      "[I 2025-01-17 00:23:26,436] Trial 60 finished with value: 1.2869552373886108 and parameters: {'batch_size': 512, 'rnn_num_layers': 1, 'units_rnn': 4, 'bias_reg_init_rnn_layer0': 'l1', 'bias_reg_rnn_layer_0': 0.08237906331432729, 'kernel_reg_init_rnn_layer_0': None, 'kernel_initializer_rnn_layer_0': 'lecun_uniform', 'nunints_layer_0': 96, 'actv_func_layer_0': 'elu', 'bias_reg_init_layer_0': 'l1', 'bias_reg_layer_0': 0.3826397456608207, 'kernel_reg_init_layer_0': None, 'kernel_initializer_layer_0': 'glorot_uniform', 'num_layers': 0, 'batch_norm': True, 'dropout_rate_layer_output': 0.41373539229576284, 'optimizer': 'Adam', 'opt_lr': 0.04760987486279301, 'opt_beta_1': 0.999, 'opt_beta_2': 0.9, 'lr_scheduler_factor': 0.7408547042718698}. Best is trial 20 with value: 0.2963828146457672.\n",
      "\n",
      "\n",
      "[I 2025-01-17 00:35:46,326] Trial 61 finished with value: 0.3085504472255707 and parameters: {'batch_size': 512, 'rnn_num_layers': 1, 'units_rnn': 4, 'bias_reg_init_rnn_layer0': 'l1', 'bias_reg_rnn_layer_0': 0.26274338263878466, 'kernel_reg_init_rnn_layer_0': 'l2', 'kernel_reg_rnn_layer_0': 0.17609091221038267, 'kernel_initializer_rnn_layer_0': 'lecun_uniform', 'nunints_layer_0': 224, 'actv_func_layer_0': 'elu', 'bias_reg_init_layer_0': 'l1l2', 'bias_reg_layer_0_l1': 0.28975190881236695, 'bias_reg_layer_0_l2': 0.36116250669557737, 'kernel_reg_init_layer_0': None, 'kernel_initializer_layer_0': 'glorot_uniform', 'num_layers': 0, 'batch_norm': True, 'dropout_rate_layer_output': 0.855822349719262, 'optimizer': 'SGD', 'opt_lr': 0.06658419798086293, 'opt_momentum': 0.028809521092782384, 'opt_nesterov': True, 'lr_scheduler_factor': 0.65855727644996}. Best is trial 20 with value: 0.2963828146457672.\n",
      "\n",
      "\n",
      "[I 2025-01-17 00:42:06,423] Trial 62 finished with value: 0.31281769275665283 and parameters: {'batch_size': 128, 'rnn_num_layers': 1, 'units_rnn': 4, 'bias_reg_init_rnn_layer0': 'l1', 'bias_reg_rnn_layer_0': 0.2452338431394585, 'kernel_reg_init_rnn_layer_0': 'l2', 'kernel_reg_rnn_layer_0': 0.15402269674705307, 'kernel_initializer_rnn_layer_0': 'lecun_uniform', 'nunints_layer_0': 160, 'actv_func_layer_0': 'elu', 'bias_reg_init_layer_0': 'l1l2', 'bias_reg_layer_0_l1': 0.2459632722714581, 'bias_reg_layer_0_l2': 0.32383568800490214, 'kernel_reg_init_layer_0': None, 'kernel_initializer_layer_0': 'glorot_uniform', 'num_layers': 0, 'batch_norm': True, 'dropout_rate_layer_output': 0.824174688697449, 'optimizer': 'SGD', 'opt_lr': 0.07856203569452641, 'opt_momentum': 0.09035678001773909, 'opt_nesterov': True, 'lr_scheduler_factor': 0.1305075770072523}. Best is trial 20 with value: 0.2963828146457672.\n",
      "\n",
      "\n",
      "[I 2025-01-17 00:45:12,014] Trial 63 finished with value: 0.3490751087665558 and parameters: {'batch_size': 512, 'rnn_num_layers': 1, 'units_rnn': 4, 'bias_reg_init_rnn_layer0': 'l1', 'bias_reg_rnn_layer_0': 0.2396962155989421, 'kernel_reg_init_rnn_layer_0': 'l2', 'kernel_reg_rnn_layer_0': 0.19509184008122998, 'kernel_initializer_rnn_layer_0': 'lecun_uniform', 'nunints_layer_0': 32, 'actv_func_layer_0': 'elu', 'bias_reg_init_layer_0': 'l1l2', 'bias_reg_layer_0_l1': 0.2849558123510433, 'bias_reg_layer_0_l2': 0.44687681797952333, 'kernel_reg_init_layer_0': None, 'kernel_initializer_layer_0': 'glorot_uniform', 'num_layers': 0, 'batch_norm': True, 'dropout_rate_layer_output': 0.9169640714141957, 'optimizer': 'SGD', 'opt_lr': 0.06993922282486137, 'opt_momentum': 0.013369283036503024, 'opt_nesterov': True, 'lr_scheduler_factor': 0.6179678068282353}. Best is trial 20 with value: 0.2963828146457672.\n",
      "\n",
      "\n",
      "[I 2025-01-17 00:49:32,133] Trial 64 finished with value: 0.3797759711742401 and parameters: {'batch_size': 512, 'rnn_num_layers': 1, 'units_rnn': 4, 'bias_reg_init_rnn_layer0': 'l1', 'bias_reg_rnn_layer_0': 0.35425534780140455, 'kernel_reg_init_rnn_layer_0': 'l2', 'kernel_reg_rnn_layer_0': 0.10560533430572636, 'kernel_initializer_rnn_layer_0': 'lecun_normal', 'nunints_layer_0': 128, 'actv_func_layer_0': 'gelu', 'bias_reg_init_layer_0': 'l2', 'bias_reg_layer_0': 0.1823712354710384, 'kernel_reg_init_layer_0': 'l1', 'kernel_reg_layer_0': 0.03113685248546169, 'kernel_initializer_layer_0': 'he_normal', 'num_layers': 0, 'batch_norm': True, 'dropout_rate_layer_output': 0.8056567070043135, 'optimizer': 'SGD', 'opt_lr': 0.05376298796601704, 'opt_momentum': 1.7464586646471684e-05, 'opt_nesterov': True, 'lr_scheduler_factor': 0.5811447554019613}. Best is trial 20 with value: 0.2963828146457672.\n",
      "\n",
      "\n",
      "[I 2025-01-17 01:05:52,465] Trial 65 finished with value: 0.32599860429763794 and parameters: {'batch_size': 1024, 'rnn_num_layers': 1, 'units_rnn': 8, 'bias_reg_init_rnn_layer0': 'l1', 'bias_reg_rnn_layer_0': 0.1941353915809609, 'kernel_reg_init_rnn_layer_0': 'l1', 'kernel_reg_rnn_layer_0': 0.27910176402072484, 'kernel_initializer_rnn_layer_0': 'lecun_uniform', 'nunints_layer_0': 160, 'actv_func_layer_0': 'tanh', 'bias_reg_init_layer_0': 'l1l2', 'bias_reg_layer_0_l1': 0.2643277690775032, 'bias_reg_layer_0_l2': 0.27209414265792914, 'kernel_reg_init_layer_0': None, 'kernel_initializer_layer_0': 'glorot_uniform', 'num_layers': 0, 'batch_norm': True, 'dropout_rate_layer_output': 0.7422958534212688, 'optimizer': 'SGD', 'opt_lr': 0.042593093285597954, 'opt_momentum': 0.03247127776863833, 'opt_nesterov': True, 'lr_scheduler_factor': 0.6623182589540147}. Best is trial 20 with value: 0.2963828146457672.\n",
      "\n",
      "\n",
      "[I 2025-01-17 01:11:53,609] Trial 66 finished with value: 0.3194064497947693 and parameters: {'batch_size': 512, 'rnn_num_layers': 1, 'units_rnn': 4, 'bias_reg_init_rnn_layer0': 'l1', 'bias_reg_rnn_layer_0': 0.29377341878131136, 'kernel_reg_init_rnn_layer_0': 'l2', 'kernel_reg_rnn_layer_0': 0.2241700481254145, 'kernel_initializer_rnn_layer_0': 'glorot_normal', 'nunints_layer_0': 96, 'actv_func_layer_0': 'relu', 'bias_reg_init_layer_0': 'l1l2', 'bias_reg_layer_0_l1': 0.22813121464956979, 'bias_reg_layer_0_l2': 0.35823544263060986, 'kernel_reg_init_layer_0': None, 'kernel_initializer_layer_0': 'lecun_uniform', 'num_layers': 0, 'batch_norm': True, 'dropout_rate_layer_output': 0.8864231525132082, 'optimizer': 'SGD', 'opt_lr': 0.06079414353422557, 'opt_momentum': 0.05564791223796715, 'opt_nesterov': True, 'lr_scheduler_factor': 0.6870389859010451}. Best is trial 20 with value: 0.2963828146457672.\n",
      "\n",
      "\n",
      "[I 2025-01-17 01:19:11,454] Trial 67 finished with value: 0.31743329763412476 and parameters: {'batch_size': 512, 'rnn_num_layers': 1, 'units_rnn': 4, 'bias_reg_init_rnn_layer0': 'l1l2', 'bias_reg_rnn_layer_0_l1': 0.0067287230574490375, 'bias_reg_rnn_layer_0_l2': 0.4914108714776507, 'kernel_reg_init_rnn_layer_0': 'l2', 'kernel_reg_rnn_layer_0': 0.036426822576651446, 'kernel_initializer_rnn_layer_0': 'lecun_uniform', 'nunints_layer_0': 64, 'actv_func_layer_0': 'elu', 'bias_reg_init_layer_0': 'l1l2', 'bias_reg_layer_0_l1': 0.3495712288759118, 'bias_reg_layer_0_l2': 0.43296345414419535, 'kernel_reg_init_layer_0': 'l2', 'kernel_reg_layer_0': 0.0003106211298253003, 'kernel_initializer_layer_0': 'lecun_normal', 'num_layers': 0, 'batch_norm': True, 'dropout_rate_layer_output': 0.6826510640063249, 'optimizer': 'SGD', 'opt_lr': 0.0844547444477719, 'opt_momentum': 0.008179680470283501, 'opt_nesterov': True, 'lr_scheduler_factor': 0.6377566938410058}. Best is trial 20 with value: 0.2963828146457672.\n",
      "\n",
      "\n",
      "[I 2025-01-17 01:40:15,264] Trial 68 finished with value: 0.8183678984642029 and parameters: {'batch_size': 256, 'rnn_num_layers': 3, 'units_rnn': 4, 'bias_reg_init_rnn_layer0': 'l1', 'bias_reg_rnn_layer_0': 0.21755435337857187, 'kernel_reg_init_rnn_layer_0': 'l1', 'kernel_reg_rnn_layer_0': 0.1650423679897207, 'kernel_initializer_rnn_layer_0': 'lecun_uniform', 'bias_reg_init_rnn_layer1': None, 'kernel_reg_init_rnn_layer_1': 'l1l2', 'kernel_reg_rnn_layer_1_l1': 0.49093621284672917, 'kernel_reg_rnn_layer_1_l2': 0.22767641941836123, 'kernel_initializer_rnn_layer_1': 'he_normal', 'bias_reg_init_rnn_layer2': 'l1', 'bias_reg_rnn_layer_2': 0.31681623421214156, 'kernel_reg_init_rnn_layer_2': 'l1', 'kernel_reg_rnn_layer_2': 0.0119091961941791, 'kernel_initializer_rnn_layer_2': 'he_uniform', 'nunints_layer_0': 128, 'actv_func_layer_0': 'elu', 'bias_reg_init_layer_0': None, 'kernel_reg_init_layer_0': None, 'kernel_initializer_layer_0': 'glorot_uniform', 'num_layers': 0, 'batch_norm': False, 'dropout_rate_layer_output': 0.6370242801165323, 'optimizer': 'Nadam', 'opt_lr': 0.06494729676075545, 'opt_beta_1': 0.9, 'opt_beta_2': 0.99, 'lr_scheduler_factor': 0.4556400767557637}. Best is trial 20 with value: 0.2963828146457672.\n",
      "\n",
      "\n",
      "[I 2025-01-17 01:50:05,686] Trial 69 finished with value: 0.32124313712120056 and parameters: {'batch_size': 128, 'rnn_num_layers': 1, 'units_rnn': 16, 'bias_reg_init_rnn_layer0': 'l1', 'bias_reg_rnn_layer_0': 0.1641730403106904, 'kernel_reg_init_rnn_layer_0': 'l2', 'kernel_reg_rnn_layer_0': 0.12690974805870187, 'kernel_initializer_rnn_layer_0': 'he_uniform', 'nunints_layer_0': 32, 'actv_func_layer_0': 'elu', 'bias_reg_init_layer_0': 'l1l2', 'bias_reg_layer_0_l1': 0.30203140621081187, 'bias_reg_layer_0_l2': 0.16517548989000935, 'kernel_reg_init_layer_0': None, 'kernel_initializer_layer_0': 'glorot_uniform', 'num_layers': 0, 'batch_norm': True, 'dropout_rate_layer_output': 0.8425712025682817, 'optimizer': 'SGD', 'opt_lr': 0.03793376179559525, 'opt_momentum': 0.018956548703576267, 'opt_nesterov': True, 'lr_scheduler_factor': 0.5310178612218139}. Best is trial 20 with value: 0.2963828146457672.\n",
      "\n",
      "\n",
      "[I 2025-01-17 01:52:12,519] Trial 70 finished with value: 6.339634895324707 and parameters: {'batch_size': 512, 'rnn_num_layers': 1, 'units_rnn': 4, 'bias_reg_init_rnn_layer0': 'l2', 'bias_reg_rnn_layer_0': 0.1333994607604735, 'kernel_reg_init_rnn_layer_0': 'l2', 'kernel_reg_rnn_layer_0': 0.23896217240009426, 'kernel_initializer_rnn_layer_0': 'lecun_uniform', 'nunints_layer_0': 256, 'actv_func_layer_0': 'elu', 'bias_reg_init_layer_0': 'l2', 'bias_reg_layer_0': 0.2825730335873157, 'kernel_reg_init_layer_0': 'l1l2', 'kernel_reg_layer_0_l1': 0.38339951501612973, 'kernel_reg_layer_0_l2': 0.366775219764983, 'kernel_initializer_layer_0': 'he_uniform', 'num_layers': 0, 'batch_norm': True, 'dropout_rate_layer_output': 0.5625507625086282, 'optimizer': 'Adamax', 'opt_lr': 0.09354207058587452, 'opt_beta_1': 0.99, 'opt_beta_2': 0.9, 'lr_scheduler_factor': 0.5756332732155451}. Best is trial 20 with value: 0.2963828146457672.\n",
      "\n",
      "\n",
      "[I 2025-01-17 01:58:48,489] Trial 71 finished with value: 0.30706891417503357 and parameters: {'batch_size': 512, 'rnn_num_layers': 1, 'units_rnn': 4, 'bias_reg_init_rnn_layer0': 'l1', 'bias_reg_rnn_layer_0': 0.1900835477864738, 'kernel_reg_init_rnn_layer_0': 'l2', 'kernel_reg_rnn_layer_0': 0.1552201181330412, 'kernel_initializer_rnn_layer_0': 'lecun_uniform', 'nunints_layer_0': 64, 'actv_func_layer_0': 'elu', 'bias_reg_init_layer_0': 'l1l2', 'bias_reg_layer_0_l1': 0.2974310562384949, 'bias_reg_layer_0_l2': 0.29947203570491393, 'kernel_reg_init_layer_0': None, 'kernel_initializer_layer_0': 'glorot_uniform', 'num_layers': 0, 'batch_norm': True, 'dropout_rate_layer_output': 0.7264651015101122, 'optimizer': 'SGD', 'opt_lr': 0.0602677364163292, 'opt_momentum': 0.04214643070041706, 'opt_nesterov': True, 'lr_scheduler_factor': 0.6494392674949716}. Best is trial 20 with value: 0.2963828146457672.\n",
      "\n",
      "\n",
      "[I 2025-01-17 02:07:02,947] Trial 72 finished with value: 0.3091548681259155 and parameters: {'batch_size': 512, 'rnn_num_layers': 1, 'units_rnn': 4, 'bias_reg_init_rnn_layer0': 'l1', 'bias_reg_rnn_layer_0': 0.19296325391212082, 'kernel_reg_init_rnn_layer_0': 'l2', 'kernel_reg_rnn_layer_0': 0.19132061856964705, 'kernel_initializer_rnn_layer_0': 'lecun_uniform', 'nunints_layer_0': 96, 'actv_func_layer_0': 'elu', 'bias_reg_init_layer_0': 'l1l2', 'bias_reg_layer_0_l1': 0.2726793473051238, 'bias_reg_layer_0_l2': 0.2594671218390236, 'kernel_reg_init_layer_0': None, 'kernel_initializer_layer_0': 'glorot_uniform', 'num_layers': 0, 'batch_norm': True, 'dropout_rate_layer_output': 0.793463702125159, 'optimizer': 'SGD', 'opt_lr': 0.0503815578082233, 'opt_momentum': 0.0003454912162251314, 'opt_nesterov': True, 'lr_scheduler_factor': 0.6136484459235704}. Best is trial 20 with value: 0.2963828146457672.\n",
      "\n",
      "\n",
      "[I 2025-01-17 02:10:25,939] Trial 73 finished with value: 0.3132804334163666 and parameters: {'batch_size': 512, 'rnn_num_layers': 1, 'units_rnn': 4, 'bias_reg_init_rnn_layer0': 'l1', 'bias_reg_rnn_layer_0': 0.2364718893226245, 'kernel_reg_init_rnn_layer_0': 'l2', 'kernel_reg_rnn_layer_0': 0.21867555521796286, 'kernel_initializer_rnn_layer_0': 'lecun_uniform', 'nunints_layer_0': 64, 'actv_func_layer_0': 'elu', 'bias_reg_init_layer_0': 'l1l2', 'bias_reg_layer_0_l1': 0.31584477796127786, 'bias_reg_layer_0_l2': 0.32528309167462044, 'kernel_reg_init_layer_0': None, 'kernel_initializer_layer_0': 'glorot_uniform', 'num_layers': 0, 'batch_norm': True, 'dropout_rate_layer_output': 0.7121523728260847, 'optimizer': 'SGD', 'opt_lr': 0.07361295842309791, 'opt_momentum': 0.037971305115681524, 'opt_nesterov': True, 'lr_scheduler_factor': 0.19829052057498203}. Best is trial 20 with value: 0.2963828146457672.\n",
      "\n",
      "\n",
      "[I 2025-01-17 02:22:11,506] Trial 74 finished with value: 0.3254171311855316 and parameters: {'batch_size': 64, 'rnn_num_layers': 1, 'units_rnn': 4, 'bias_reg_init_rnn_layer0': 'l1', 'bias_reg_rnn_layer_0': 0.21110288161816093, 'kernel_reg_init_rnn_layer_0': 'l2', 'kernel_reg_rnn_layer_0': 0.13795127823248404, 'kernel_initializer_rnn_layer_0': 'lecun_uniform', 'nunints_layer_0': 32, 'actv_func_layer_0': 'leaky_relu', 'bias_reg_init_layer_0': 'l1l2', 'bias_reg_layer_0_l1': 0.24466444753757643, 'bias_reg_layer_0_l2': 0.2893704975127198, 'kernel_reg_init_layer_0': None, 'kernel_initializer_layer_0': 'glorot_uniform', 'num_layers': 0, 'batch_norm': True, 'dropout_rate_layer_output': 0.7344217242587513, 'optimizer': 'SGD', 'opt_lr': 0.05811769898583018, 'opt_momentum': 3.372189616581209e-05, 'opt_nesterov': True, 'lr_scheduler_factor': 0.7216933550898107}. Best is trial 20 with value: 0.2963828146457672.\n",
      "\n",
      "\n",
      "[I 2025-01-17 02:28:37,926] Trial 75 finished with value: 0.31400591135025024 and parameters: {'batch_size': 512, 'rnn_num_layers': 1, 'units_rnn': 2, 'bias_reg_init_rnn_layer0': 'l1', 'bias_reg_rnn_layer_0': 0.25580012738128877, 'kernel_reg_init_rnn_layer_0': 'l1', 'kernel_reg_rnn_layer_0': 0.17074853664438647, 'kernel_initializer_rnn_layer_0': 'lecun_uniform', 'nunints_layer_0': 96, 'actv_func_layer_0': 'elu', 'bias_reg_init_layer_0': 'l1l2', 'bias_reg_layer_0_l1': 0.19563959767573003, 'bias_reg_layer_0_l2': 0.21739396790544233, 'kernel_reg_init_layer_0': None, 'kernel_initializer_layer_0': 'glorot_normal', 'num_layers': 0, 'batch_norm': True, 'dropout_rate_layer_output': 0.7773990832999175, 'optimizer': 'SGD', 'opt_lr': 0.05410543601358775, 'opt_momentum': 0.06982709666771017, 'opt_nesterov': True, 'lr_scheduler_factor': 0.6617126669963619}. Best is trial 20 with value: 0.2963828146457672.\n",
      "\n",
      "\n",
      "[I 2025-01-17 02:42:22,663] Trial 76 finished with value: 0.4938751459121704 and parameters: {'batch_size': 512, 'rnn_num_layers': 2, 'units_rnn': 4, 'bias_reg_init_rnn_layer0': 'l1', 'bias_reg_rnn_layer_0': 0.4626144790891269, 'kernel_reg_init_rnn_layer_0': None, 'kernel_initializer_rnn_layer_0': 'lecun_uniform', 'bias_reg_init_rnn_layer1': None, 'kernel_reg_init_rnn_layer_1': 'l2', 'kernel_reg_rnn_layer_1': 0.4954518073479335, 'kernel_initializer_rnn_layer_1': 'he_uniform', 'nunints_layer_0': 128, 'actv_func_layer_0': 'gelu', 'bias_reg_init_layer_0': 'l1l2', 'bias_reg_layer_0_l1': 0.28556735257390886, 'bias_reg_layer_0_l2': 0.3714226740408206, 'kernel_reg_init_layer_0': 'l1', 'kernel_reg_layer_0': 0.35977177821744943, 'kernel_initializer_layer_0': 'glorot_uniform', 'num_layers': 0, 'batch_norm': True, 'dropout_rate_layer_output': 0.5213339177977504, 'optimizer': 'SGD', 'opt_lr': 0.06291902055605736, 'opt_momentum': 0.01285069498970946, 'opt_nesterov': True, 'lr_scheduler_factor': 0.603379037525021}. Best is trial 20 with value: 0.2963828146457672.\n",
      "\n",
      "\n",
      "[I 2025-01-17 02:44:50,618] Trial 77 finished with value: 1.608630895614624 and parameters: {'batch_size': 512, 'rnn_num_layers': 1, 'units_rnn': 4, 'bias_reg_init_rnn_layer0': 'l1', 'bias_reg_rnn_layer_0': 0.1761754274204846, 'kernel_reg_init_rnn_layer_0': 'l2', 'kernel_reg_rnn_layer_0': 0.09966496030157407, 'kernel_initializer_rnn_layer_0': 'lecun_normal', 'nunints_layer_0': 384, 'actv_func_layer_0': 'tanh', 'bias_reg_init_layer_0': 'l1l2', 'bias_reg_layer_0_l1': 0.3282207694056549, 'bias_reg_layer_0_l2': 0.034861311785344386, 'kernel_reg_init_layer_0': None, 'kernel_initializer_layer_0': 'he_normal', 'num_layers': 0, 'batch_norm': True, 'dropout_rate_layer_output': 0.8154015839239828, 'optimizer': 'Adam', 'opt_lr': 0.047609922640576334, 'opt_beta_1': 0.999, 'opt_beta_2': 0.99, 'lr_scheduler_factor': 0.70041433888404}. Best is trial 20 with value: 0.2963828146457672.\n",
      "\n",
      "\n",
      "[I 2025-01-17 03:26:58,059] Trial 78 finished with value: 0.3899437189102173 and parameters: {'batch_size': 512, 'rnn_num_layers': 1, 'units_rnn': 32, 'bias_reg_init_rnn_layer0': 'l2', 'bias_reg_rnn_layer_0': 0.30313681658633146, 'kernel_reg_init_rnn_layer_0': 'l2', 'kernel_reg_rnn_layer_0': 0.34044270405030985, 'kernel_initializer_rnn_layer_0': 'lecun_uniform', 'nunints_layer_0': 224, 'actv_func_layer_0': 'elu', 'bias_reg_init_layer_0': 'l1', 'bias_reg_layer_0': 0.4233574512524212, 'kernel_reg_init_layer_0': None, 'kernel_initializer_layer_0': 'glorot_uniform', 'num_layers': 2, 'batch_norm': False, 'nunits_layer_1': 64, 'actv_func_layer_1': 'leaky_relu', 'bias_reg_init_layer_1': 'l1', 'bias_reg_layer_1': 0.002022257419530271, 'kernel_reg_init_layer_1': 'l1l2', 'kernel_reg_layer_1_l1': 0.2846312337712001, 'kernel_reg_layer_1_l2': 0.27784948144865773, 'kernel_initializer_layer_1': 'glorot_normal', 'dropout_rate_layer_1': 0.1810481263253803, 'nunits_layer_2': 512, 'actv_func_layer_2': 'leaky_relu', 'bias_reg_init_layer_2': 'l2', 'bias_reg_layer_2': 0.4962334593593774, 'kernel_reg_init_layer_2': None, 'kernel_initializer_layer_2': 'lecun_uniform', 'dropout_rate_layer_2': 0.5303027410448797, 'dropout_rate_layer_output': 0.6876294216360909, 'optimizer': 'Nadam', 'opt_lr': 0.07959702925719658, 'opt_beta_1': 0.9, 'opt_beta_2': 0.95, 'lr_scheduler_factor': 0.675084662593411}. Best is trial 20 with value: 0.2963828146457672.\n",
      "\n",
      "\n",
      "[I 2025-01-17 03:31:20,912] Trial 79 finished with value: 0.34048470854759216 and parameters: {'batch_size': 1024, 'rnn_num_layers': 1, 'units_rnn': 4, 'bias_reg_init_rnn_layer0': 'l1l2', 'bias_reg_rnn_layer_0_l1': 0.1236433822131367, 'bias_reg_rnn_layer_0_l2': 0.02958805927609795, 'kernel_reg_init_rnn_layer_0': 'l2', 'kernel_reg_rnn_layer_0': 0.19233455329745808, 'kernel_initializer_rnn_layer_0': 'lecun_uniform', 'nunints_layer_0': 64, 'actv_func_layer_0': 'elu', 'bias_reg_init_layer_0': 'l1l2', 'bias_reg_layer_0_l1': 0.2635348733740208, 'bias_reg_layer_0_l2': 0.24770744278133724, 'kernel_reg_init_layer_0': None, 'kernel_initializer_layer_0': 'glorot_uniform', 'num_layers': 1, 'batch_norm': True, 'nunits_layer_1': 160, 'actv_func_layer_1': 'relu', 'bias_reg_init_layer_1': 'l1l2', 'bias_reg_layer_1_l1': 0.09035774834004659, 'bias_reg_layer_1_l2': 0.12868736792241814, 'kernel_reg_init_layer_1': None, 'kernel_initializer_layer_1': 'lecun_normal', 'dropout_rate_layer_1': 0.5807019367028591, 'dropout_rate_layer_output': 0.6369022847887793, 'optimizer': 'SGD', 'opt_lr': 0.06959613633292812, 'opt_momentum': 0.02603174279780322, 'opt_nesterov': True, 'lr_scheduler_factor': 0.631870779120188}. Best is trial 20 with value: 0.2963828146457672.\n",
      "\n",
      "\n",
      "[I 2025-01-17 03:38:10,490] Trial 80 finished with value: 0.3276081383228302 and parameters: {'batch_size': 512, 'rnn_num_layers': 1, 'units_rnn': 4, 'bias_reg_init_rnn_layer0': 'l1', 'bias_reg_rnn_layer_0': 0.1324815267989537, 'kernel_reg_init_rnn_layer_0': 'l1', 'kernel_reg_rnn_layer_0': 0.21158349740786156, 'kernel_initializer_rnn_layer_0': 'glorot_normal', 'nunints_layer_0': 288, 'actv_func_layer_0': 'elu', 'bias_reg_init_layer_0': 'l1l2', 'bias_reg_layer_0_l1': 0.37281003469098645, 'bias_reg_layer_0_l2': 0.30982611776578173, 'kernel_reg_init_layer_0': None, 'kernel_initializer_layer_0': 'glorot_normal', 'num_layers': 0, 'batch_norm': True, 'dropout_rate_layer_output': 0.18002140140736989, 'optimizer': 'SGD', 'opt_lr': 0.060923982942259716, 'opt_momentum': 0.038812436324764034, 'opt_nesterov': True, 'lr_scheduler_factor': 0.3168994092430613}. Best is trial 20 with value: 0.2963828146457672.\n",
      "\n",
      "\n",
      "[I 2025-01-17 03:48:17,324] Trial 81 finished with value: 0.30912837386131287 and parameters: {'batch_size': 512, 'rnn_num_layers': 1, 'units_rnn': 4, 'bias_reg_init_rnn_layer0': 'l1', 'bias_reg_rnn_layer_0': 0.19077641552487073, 'kernel_reg_init_rnn_layer_0': 'l2', 'kernel_reg_rnn_layer_0': 0.1618288681524741, 'kernel_initializer_rnn_layer_0': 'lecun_uniform', 'nunints_layer_0': 64, 'actv_func_layer_0': 'elu', 'bias_reg_init_layer_0': 'l1l2', 'bias_reg_layer_0_l1': 0.49856117453912224, 'bias_reg_layer_0_l2': 0.29372362598498847, 'kernel_reg_init_layer_0': None, 'kernel_initializer_layer_0': 'glorot_uniform', 'num_layers': 0, 'batch_norm': True, 'dropout_rate_layer_output': 0.7280506789802406, 'optimizer': 'SGD', 'opt_lr': 0.05960844259584495, 'opt_momentum': 0.043743182988794385, 'opt_nesterov': True, 'lr_scheduler_factor': 0.6481962807726743}. Best is trial 20 with value: 0.2963828146457672.\n",
      "\n",
      "\n",
      "[I 2025-01-17 03:56:50,967] Trial 82 finished with value: 0.3076593279838562 and parameters: {'batch_size': 512, 'rnn_num_layers': 1, 'units_rnn': 4, 'bias_reg_init_rnn_layer0': 'l1', 'bias_reg_rnn_layer_0': 0.20043742989671615, 'kernel_reg_init_rnn_layer_0': 'l2', 'kernel_reg_rnn_layer_0': 0.14267499975755896, 'kernel_initializer_rnn_layer_0': 'lecun_uniform', 'nunints_layer_0': 64, 'actv_func_layer_0': 'elu', 'bias_reg_init_layer_0': 'l1l2', 'bias_reg_layer_0_l1': 0.30099133837256675, 'bias_reg_layer_0_l2': 0.3018123333856666, 'kernel_reg_init_layer_0': None, 'kernel_initializer_layer_0': 'glorot_uniform', 'num_layers': 0, 'batch_norm': True, 'dropout_rate_layer_output': 0.7245276489436615, 'optimizer': 'SGD', 'opt_lr': 0.055421795830966514, 'opt_momentum': 0.06378502673518488, 'opt_nesterov': True, 'lr_scheduler_factor': 0.6499498483090431}. Best is trial 20 with value: 0.2963828146457672.\n",
      "\n",
      "\n",
      "[I 2025-01-17 04:01:50,198] Trial 83 finished with value: 0.3172954320907593 and parameters: {'batch_size': 512, 'rnn_num_layers': 1, 'units_rnn': 4, 'bias_reg_init_rnn_layer0': 'l1', 'bias_reg_rnn_layer_0': 0.2227859516332047, 'kernel_reg_init_rnn_layer_0': 'l2', 'kernel_reg_rnn_layer_0': 0.23471880209484375, 'kernel_initializer_rnn_layer_0': 'lecun_uniform', 'nunints_layer_0': 32, 'actv_func_layer_0': 'elu', 'bias_reg_init_layer_0': 'l1l2', 'bias_reg_layer_0_l1': 0.299075694758888, 'bias_reg_layer_0_l2': 0.3361079510201196, 'kernel_reg_init_layer_0': None, 'kernel_initializer_layer_0': 'glorot_uniform', 'num_layers': 0, 'batch_norm': True, 'dropout_rate_layer_output': 0.7759976304761526, 'optimizer': 'SGD', 'opt_lr': 0.05563901360089365, 'opt_momentum': 0.06305784703677646, 'opt_nesterov': True, 'lr_scheduler_factor': 0.6928020771297647}. Best is trial 20 with value: 0.2963828146457672.\n",
      "\n",
      "\n",
      "[I 2025-01-17 04:15:50,987] Trial 84 finished with value: 0.3055475056171417 and parameters: {'batch_size': 512, 'rnn_num_layers': 1, 'units_rnn': 4, 'bias_reg_init_rnn_layer0': 'l1', 'bias_reg_rnn_layer_0': 0.11057272857493336, 'kernel_reg_init_rnn_layer_0': 'l2', 'kernel_reg_rnn_layer_0': 0.17783922094583646, 'kernel_initializer_rnn_layer_0': 'glorot_uniform', 'nunints_layer_0': 96, 'actv_func_layer_0': 'elu', 'bias_reg_init_layer_0': 'l1l2', 'bias_reg_layer_0_l1': 0.3379441955922426, 'bias_reg_layer_0_l2': 0.28133310104057185, 'kernel_reg_init_layer_0': None, 'kernel_initializer_layer_0': 'glorot_uniform', 'num_layers': 0, 'batch_norm': True, 'dropout_rate_layer_output': 0.6596523303037416, 'optimizer': 'SGD', 'opt_lr': 0.05215817914594848, 'opt_momentum': 0.015801856894557577, 'opt_nesterov': True, 'lr_scheduler_factor': 0.7292385058164029}. Best is trial 20 with value: 0.2963828146457672.\n",
      "\n",
      "\n",
      "[I 2025-01-17 04:24:31,287] Trial 85 finished with value: 0.31258246302604675 and parameters: {'batch_size': 512, 'rnn_num_layers': 1, 'units_rnn': 4, 'bias_reg_init_rnn_layer0': 'l1', 'bias_reg_rnn_layer_0': 0.0558527619157012, 'kernel_reg_init_rnn_layer_0': 'l2', 'kernel_reg_rnn_layer_0': 0.18124953450706988, 'kernel_initializer_rnn_layer_0': 'glorot_uniform', 'nunints_layer_0': 96, 'actv_func_layer_0': 'relu', 'bias_reg_init_layer_0': 'l1l2', 'bias_reg_layer_0_l1': 0.3317095718824448, 'bias_reg_layer_0_l2': 0.2748178102377995, 'kernel_reg_init_layer_0': None, 'kernel_initializer_layer_0': 'glorot_uniform', 'num_layers': 0, 'batch_norm': True, 'dropout_rate_layer_output': 0.6616479661630131, 'optimizer': 'SGD', 'opt_lr': 0.06420329462682803, 'opt_momentum': 0.017338464686102745, 'opt_nesterov': True, 'lr_scheduler_factor': 0.7250284716549185}. Best is trial 20 with value: 0.2963828146457672.\n",
      "\n",
      "\n",
      "[I 2025-01-17 04:30:57,002] Trial 86 finished with value: 0.30247214436531067 and parameters: {'batch_size': 512, 'rnn_num_layers': 1, 'units_rnn': 8, 'bias_reg_init_rnn_layer0': 'l1', 'bias_reg_rnn_layer_0': 0.10457511534992985, 'kernel_reg_init_rnn_layer_0': 'l2', 'kernel_reg_rnn_layer_0': 0.2545858348272546, 'kernel_initializer_rnn_layer_0': 'glorot_uniform', 'nunints_layer_0': 128, 'actv_func_layer_0': 'elu', 'bias_reg_init_layer_0': 'l1l2', 'bias_reg_layer_0_l1': 0.004135549858166998, 'bias_reg_layer_0_l2': 0.2537086210587973, 'kernel_reg_init_layer_0': None, 'kernel_initializer_layer_0': 'glorot_uniform', 'num_layers': 0, 'batch_norm': True, 'dropout_rate_layer_output': 0.766931317629354, 'optimizer': 'SGD', 'opt_lr': 0.044046632360544465, 'opt_momentum': 0.010224114959908093, 'opt_nesterov': True, 'lr_scheduler_factor': 0.705841810614487}. Best is trial 20 with value: 0.2963828146457672.\n",
      "\n",
      "\n",
      "[I 2025-01-17 04:33:52,869] Trial 87 finished with value: 2.984109401702881 and parameters: {'batch_size': 256, 'rnn_num_layers': 3, 'units_rnn': 8, 'bias_reg_init_rnn_layer0': 'l1', 'bias_reg_rnn_layer_0': 0.11408888922231268, 'kernel_reg_init_rnn_layer_0': 'l2', 'kernel_reg_rnn_layer_0': 0.2661279173092438, 'kernel_initializer_rnn_layer_0': 'glorot_uniform', 'bias_reg_init_rnn_layer1': 'l1', 'bias_reg_rnn_layer_1': 0.15060028097618378, 'kernel_reg_init_rnn_layer_1': 'l1', 'kernel_reg_rnn_layer_1': 0.18385557124458934, 'kernel_initializer_rnn_layer_1': 'he_normal', 'bias_reg_init_rnn_layer2': 'l2', 'bias_reg_rnn_layer_2': 0.31058628490273094, 'kernel_reg_init_rnn_layer_2': 'l1l2', 'kernel_reg_rnn_layer_2_l1': 0.012197904939858867, 'kernel_reg_rnn_layer_2_l2': 0.008062376928317516, 'kernel_initializer_rnn_layer_2': 'lecun_normal', 'nunints_layer_0': 128, 'actv_func_layer_0': 'sigmoid', 'bias_reg_init_layer_0': 'l1l2', 'bias_reg_layer_0_l1': 0.034082445662204405, 'bias_reg_layer_0_l2': 0.22207373392846275, 'kernel_reg_init_layer_0': 'l2', 'kernel_reg_layer_0': 0.1790797259484094, 'kernel_initializer_layer_0': 'lecun_uniform', 'num_layers': 0, 'batch_norm': True, 'dropout_rate_layer_output': 0.7596838764029994, 'optimizer': 'Nadam', 'opt_lr': 0.0389989410394027, 'opt_beta_1': 0.99, 'opt_beta_2': 0.9, 'lr_scheduler_factor': 0.7454832251181809}. Best is trial 20 with value: 0.2963828146457672.\n",
      "\n",
      "\n",
      "[I 2025-01-17 04:41:31,103] Trial 88 finished with value: 0.3235236704349518 and parameters: {'batch_size': 64, 'rnn_num_layers': 1, 'units_rnn': 8, 'bias_reg_init_rnn_layer0': 'l1', 'bias_reg_rnn_layer_0': 0.10065675780016213, 'kernel_reg_init_rnn_layer_0': 'l2', 'kernel_reg_rnn_layer_0': 0.2563588940986152, 'kernel_initializer_rnn_layer_0': 'glorot_uniform', 'nunints_layer_0': 96, 'actv_func_layer_0': 'elu', 'bias_reg_init_layer_0': None, 'kernel_reg_init_layer_0': None, 'kernel_initializer_layer_0': 'glorot_uniform', 'num_layers': 0, 'batch_norm': True, 'dropout_rate_layer_output': 0.7096423606660346, 'optimizer': 'SGD', 'opt_lr': 0.04455766319763058, 'opt_momentum': 0.010206676276346511, 'opt_nesterov': True, 'lr_scheduler_factor': 0.7058791607132553}. Best is trial 20 with value: 0.2963828146457672.\n",
      "\n",
      "\n",
      "[I 2025-01-17 04:54:29,051] Trial 89 finished with value: 0.3941822946071625 and parameters: {'batch_size': 512, 'rnn_num_layers': 1, 'units_rnn': 8, 'bias_reg_init_rnn_layer0': 'l1', 'bias_reg_rnn_layer_0': 0.0611148882086863, 'kernel_reg_init_rnn_layer_0': 'l2', 'kernel_reg_rnn_layer_0': 0.20783673626317564, 'kernel_initializer_rnn_layer_0': 'glorot_uniform', 'nunints_layer_0': 96, 'actv_func_layer_0': 'elu', 'bias_reg_init_layer_0': 'l1l2', 'bias_reg_layer_0_l1': 0.03546224030885245, 'bias_reg_layer_0_l2': 0.27844252131410935, 'kernel_reg_init_layer_0': 'l1l2', 'kernel_reg_layer_0_l1': 0.17151916826688096, 'kernel_reg_layer_0_l2': 0.03634599065127614, 'kernel_initializer_layer_0': 'lecun_normal', 'num_layers': 0, 'batch_norm': True, 'dropout_rate_layer_output': 0.5940746721416149, 'optimizer': 'SGD', 'opt_lr': 0.051660996453930394, 'opt_momentum': 0.015730597883685752, 'opt_nesterov': True, 'lr_scheduler_factor': 0.6804236407891348}. Best is trial 20 with value: 0.2963828146457672.\n",
      "\n",
      "\n",
      "[I 2025-01-17 04:59:02,995] Trial 90 finished with value: 0.8899770379066467 and parameters: {'batch_size': 128, 'rnn_num_layers': 1, 'units_rnn': 8, 'bias_reg_init_rnn_layer0': 'l1', 'bias_reg_rnn_layer_0': 0.138989843615143, 'kernel_reg_init_rnn_layer_0': None, 'kernel_initializer_rnn_layer_0': 'glorot_uniform', 'nunints_layer_0': 32, 'actv_func_layer_0': 'elu', 'bias_reg_init_layer_0': 'l2', 'bias_reg_layer_0': 0.4995838600259331, 'kernel_reg_init_layer_0': None, 'kernel_initializer_layer_0': 'he_uniform', 'num_layers': 1, 'batch_norm': True, 'nunits_layer_1': 320, 'actv_func_layer_1': 'sigmoid', 'bias_reg_init_layer_1': 'l1l2', 'bias_reg_layer_1_l1': 0.3971061356374766, 'bias_reg_layer_1_l2': 0.2708240677565766, 'kernel_reg_init_layer_1': None, 'kernel_initializer_layer_1': 'he_normal', 'dropout_rate_layer_1': 0.7332486337297126, 'dropout_rate_layer_output': 0.6784734820970354, 'optimizer': 'Adamax', 'opt_lr': 0.048246626389062616, 'opt_beta_1': 0.95, 'opt_beta_2': 0.99, 'lr_scheduler_factor': 0.7331008534143773}. Best is trial 20 with value: 0.2963828146457672.\n",
      "\n",
      "\n",
      "[I 2025-01-17 05:07:31,741] Trial 91 finished with value: 0.30315980315208435 and parameters: {'batch_size': 512, 'rnn_num_layers': 1, 'units_rnn': 4, 'bias_reg_init_rnn_layer0': 'l1', 'bias_reg_rnn_layer_0': 0.15862398193383695, 'kernel_reg_init_rnn_layer_0': 'l2', 'kernel_reg_rnn_layer_0': 0.23176932261259459, 'kernel_initializer_rnn_layer_0': 'glorot_uniform', 'nunints_layer_0': 160, 'actv_func_layer_0': 'elu', 'bias_reg_init_layer_0': 'l1l2', 'bias_reg_layer_0_l1': 0.07565136459859553, 'bias_reg_layer_0_l2': 0.243049629193692, 'kernel_reg_init_layer_0': None, 'kernel_initializer_layer_0': 'glorot_uniform', 'num_layers': 0, 'batch_norm': True, 'dropout_rate_layer_output': 0.8414985108778045, 'optimizer': 'SGD', 'opt_lr': 0.06818431269954392, 'opt_momentum': 0.006073358689590606, 'opt_nesterov': True, 'lr_scheduler_factor': 0.6696245193369431}. Best is trial 20 with value: 0.2963828146457672.\n",
      "\n",
      "\n",
      "[I 2025-01-17 05:13:12,613] Trial 92 finished with value: 0.3061549663543701 and parameters: {'batch_size': 512, 'rnn_num_layers': 1, 'units_rnn': 4, 'bias_reg_init_rnn_layer0': 'l1', 'bias_reg_rnn_layer_0': 0.1692665269623172, 'kernel_reg_init_rnn_layer_0': 'l2', 'kernel_reg_rnn_layer_0': 0.2820295472980331, 'kernel_initializer_rnn_layer_0': 'glorot_uniform', 'nunints_layer_0': 160, 'actv_func_layer_0': 'elu', 'bias_reg_init_layer_0': 'l1l2', 'bias_reg_layer_0_l1': 0.05657081431243255, 'bias_reg_layer_0_l2': 0.24880639177096722, 'kernel_reg_init_layer_0': None, 'kernel_initializer_layer_0': 'glorot_uniform', 'num_layers': 0, 'batch_norm': True, 'dropout_rate_layer_output': 0.8731250546208328, 'optimizer': 'SGD', 'opt_lr': 0.05237145474671743, 'opt_momentum': 0.005659355576389629, 'opt_nesterov': True, 'lr_scheduler_factor': 0.71150043498128}. Best is trial 20 with value: 0.2963828146457672.\n",
      "\n",
      "\n",
      "[I 2025-01-17 05:24:29,134] Trial 93 finished with value: 0.30492204427719116 and parameters: {'batch_size': 512, 'rnn_num_layers': 1, 'units_rnn': 8, 'bias_reg_init_rnn_layer0': 'l1', 'bias_reg_rnn_layer_0': 0.15958120323606803, 'kernel_reg_init_rnn_layer_0': 'l2', 'kernel_reg_rnn_layer_0': 0.2974268982255108, 'kernel_initializer_rnn_layer_0': 'glorot_uniform', 'nunints_layer_0': 192, 'actv_func_layer_0': 'elu', 'bias_reg_init_layer_0': 'l1l2', 'bias_reg_layer_0_l1': 0.08475394621176535, 'bias_reg_layer_0_l2': 0.12622923048740164, 'kernel_reg_init_layer_0': None, 'kernel_initializer_layer_0': 'glorot_uniform', 'num_layers': 0, 'batch_norm': True, 'dropout_rate_layer_output': 0.8650368853622807, 'optimizer': 'SGD', 'opt_lr': 0.04349936227166408, 'opt_momentum': 0.00488739478158016, 'opt_nesterov': True, 'lr_scheduler_factor': 0.7070618200857284}. Best is trial 20 with value: 0.2963828146457672.\n",
      "\n",
      "\n",
      "[I 2025-01-17 05:31:38,228] Trial 94 finished with value: 0.3154212534427643 and parameters: {'batch_size': 512, 'rnn_num_layers': 1, 'units_rnn': 8, 'bias_reg_init_rnn_layer0': 'l1', 'bias_reg_rnn_layer_0': 0.1585435981419605, 'kernel_reg_init_rnn_layer_0': 'l2', 'kernel_reg_rnn_layer_0': 0.31274205620180817, 'kernel_initializer_rnn_layer_0': 'glorot_uniform', 'nunints_layer_0': 192, 'actv_func_layer_0': 'elu', 'bias_reg_init_layer_0': 'l1l2', 'bias_reg_layer_0_l1': 0.08263336546670061, 'bias_reg_layer_0_l2': 0.12782060754034116, 'kernel_reg_init_layer_0': None, 'kernel_initializer_layer_0': 'glorot_uniform', 'num_layers': 0, 'batch_norm': True, 'dropout_rate_layer_output': 0.9559386713929235, 'optimizer': 'SGD', 'opt_lr': 0.03467342424228618, 'opt_momentum': 0.005058651650371657, 'opt_nesterov': True, 'lr_scheduler_factor': 0.7161647326132621}. Best is trial 20 with value: 0.2963828146457672.\n",
      "\n",
      "\n",
      "[I 2025-01-17 05:41:43,099] Trial 95 finished with value: 0.30921033024787903 and parameters: {'batch_size': 512, 'rnn_num_layers': 1, 'units_rnn': 8, 'bias_reg_init_rnn_layer0': 'l1', 'bias_reg_rnn_layer_0': 0.09762989831199129, 'kernel_reg_init_rnn_layer_0': 'l2', 'kernel_reg_rnn_layer_0': 0.28345691946674134, 'kernel_initializer_rnn_layer_0': 'glorot_uniform', 'nunints_layer_0': 160, 'actv_func_layer_0': 'leaky_relu', 'bias_reg_init_layer_0': 'l1l2', 'bias_reg_layer_0_l1': 0.071315418629073, 'bias_reg_layer_0_l2': 0.04005692579469518, 'kernel_reg_init_layer_0': None, 'kernel_initializer_layer_0': 'glorot_uniform', 'num_layers': 0, 'batch_norm': True, 'dropout_rate_layer_output': 0.8638075014091124, 'optimizer': 'SGD', 'opt_lr': 0.027666753114807468, 'opt_momentum': 0.005516510576328499, 'opt_nesterov': True, 'lr_scheduler_factor': 0.7331852463993036}. Best is trial 20 with value: 0.2963828146457672.\n",
      "\n",
      "\n",
      "[I 2025-01-17 06:00:16,014] Trial 96 finished with value: 0.8190079927444458 and parameters: {'batch_size': 512, 'rnn_num_layers': 1, 'units_rnn': 8, 'bias_reg_init_rnn_layer0': 'l1', 'bias_reg_rnn_layer_0': 0.07070020636748153, 'kernel_reg_init_rnn_layer_0': 'l1', 'kernel_reg_rnn_layer_0': 0.3258947383958344, 'kernel_initializer_rnn_layer_0': 'glorot_uniform', 'nunints_layer_0': 192, 'actv_func_layer_0': 'sigmoid', 'bias_reg_init_layer_0': 'l1l2', 'bias_reg_layer_0_l1': 0.00575381670124963, 'bias_reg_layer_0_l2': 0.2545404011920701, 'kernel_reg_init_layer_0': 'l1', 'kernel_reg_layer_0': 0.42216873475159145, 'kernel_initializer_layer_0': 'glorot_normal', 'num_layers': 0, 'batch_norm': False, 'dropout_rate_layer_output': 0.8938397435153264, 'optimizer': 'SGD', 'opt_lr': 0.042695996904567934, 'opt_momentum': 0.00244877774103429, 'opt_nesterov': False, 'lr_scheduler_factor': 0.7048377204205952}. Best is trial 20 with value: 0.2963828146457672.\n",
      "\n",
      "\n",
      "[I 2025-01-17 06:01:46,290] Trial 97 finished with value: 0.5887442827224731 and parameters: {'batch_size': 512, 'rnn_num_layers': 1, 'units_rnn': 8, 'bias_reg_init_rnn_layer0': 'l2', 'bias_reg_rnn_layer_0': 0.04048568361334326, 'kernel_reg_init_rnn_layer_0': 'l2', 'kernel_reg_rnn_layer_0': 0.29794213652787827, 'kernel_initializer_rnn_layer_0': 'glorot_uniform', 'nunints_layer_0': 160, 'actv_func_layer_0': 'elu', 'bias_reg_init_layer_0': 'l1l2', 'bias_reg_layer_0_l1': 0.11507861422845324, 'bias_reg_layer_0_l2': 0.2055312391220748, 'kernel_reg_init_layer_0': None, 'kernel_initializer_layer_0': 'glorot_uniform', 'num_layers': 0, 'batch_norm': True, 'dropout_rate_layer_output': 0.9814353411461708, 'optimizer': 'Adam', 'opt_lr': 0.04040740131418065, 'opt_beta_1': 0.9, 'opt_beta_2': 0.95, 'lr_scheduler_factor': 0.6741098020186389}. Best is trial 20 with value: 0.2963828146457672.\n",
      "\n",
      "\n",
      "[I 2025-01-17 06:21:30,039] Trial 98 finished with value: 0.30976602435112 and parameters: {'batch_size': 512, 'rnn_num_layers': 1, 'units_rnn': 16, 'bias_reg_init_rnn_layer0': 'l1', 'bias_reg_rnn_layer_0': 0.16764451548818038, 'kernel_reg_init_rnn_layer_0': 'l2', 'kernel_reg_rnn_layer_0': 0.2753235298548309, 'kernel_initializer_rnn_layer_0': 'glorot_uniform', 'nunints_layer_0': 128, 'actv_func_layer_0': 'gelu', 'bias_reg_init_layer_0': 'l1', 'bias_reg_layer_0': 0.09833323528049817, 'kernel_reg_init_layer_0': None, 'kernel_initializer_layer_0': 'glorot_uniform', 'num_layers': 0, 'batch_norm': True, 'dropout_rate_layer_output': 0.9127321847776266, 'optimizer': 'SGD', 'opt_lr': 0.0449731293134299, 'opt_momentum': 0.0015535111843680998, 'opt_nesterov': True, 'lr_scheduler_factor': 0.7469488288783395}. Best is trial 20 with value: 0.2963828146457672.\n",
      "\n",
      "\n",
      "[I 2025-01-17 06:23:33,762] Trial 99 finished with value: 3.7546141147613525 and parameters: {'batch_size': 512, 'rnn_num_layers': 1, 'units_rnn': 2, 'bias_reg_init_rnn_layer0': 'l1l2', 'bias_reg_rnn_layer_0_l1': 0.14194037132969778, 'bias_reg_rnn_layer_0_l2': 0.482145473652449, 'kernel_reg_init_rnn_layer_0': 'l2', 'kernel_reg_rnn_layer_0': 0.24513175189969394, 'kernel_initializer_rnn_layer_0': 'glorot_uniform', 'nunints_layer_0': 160, 'actv_func_layer_0': 'tanh', 'bias_reg_init_layer_0': 'l1l2', 'bias_reg_layer_0_l1': 0.04102146430452633, 'bias_reg_layer_0_l2': 0.15107905532203453, 'kernel_reg_init_layer_0': None, 'kernel_initializer_layer_0': 'glorot_uniform', 'num_layers': 2, 'batch_norm': True, 'nunits_layer_1': 256, 'actv_func_layer_1': 'gelu', 'bias_reg_init_layer_1': 'l1', 'bias_reg_layer_1': 0.019593518568086887, 'kernel_reg_init_layer_1': 'l1', 'kernel_reg_layer_1': 0.0021280525671178163, 'kernel_initializer_layer_1': 'lecun_uniform', 'dropout_rate_layer_1': 0.4204594495431086, 'nunits_layer_2': 320, 'actv_func_layer_2': 'elu', 'bias_reg_init_layer_2': None, 'kernel_reg_init_layer_2': 'l1', 'kernel_reg_layer_2': 0.4925884524740633, 'kernel_initializer_layer_2': 'glorot_normal', 'dropout_rate_layer_2': 0.5195583106291957, 'dropout_rate_layer_output': 0.8705157586595968, 'optimizer': 'Nadam', 'opt_lr': 0.031748972877545134, 'opt_beta_1': 0.999, 'opt_beta_2': 0.9, 'lr_scheduler_factor': 0.6883835251055777}. Best is trial 20 with value: 0.2963828146457672.\n",
      "\n",
      "\n",
      "[I 2025-01-17 06:45:06,518] Trial 100 finished with value: 0.30959364771842957 and parameters: {'batch_size': 512, 'rnn_num_layers': 2, 'units_rnn': 8, 'bias_reg_init_rnn_layer0': 'l1', 'bias_reg_rnn_layer_0': 0.11845166465248425, 'kernel_reg_init_rnn_layer_0': 'l2', 'kernel_reg_rnn_layer_0': 0.38356566673286074, 'kernel_initializer_rnn_layer_0': 'glorot_uniform', 'bias_reg_init_rnn_layer1': 'l1l2', 'bias_reg_rnn_layer_1_l1': 0.0021753522646100476, 'bias_reg_rnn_layer_1_l2': 0.0001548682885258723, 'kernel_reg_init_rnn_layer_1': None, 'kernel_initializer_rnn_layer_1': 'glorot_uniform', 'nunints_layer_0': 192, 'actv_func_layer_0': 'elu', 'bias_reg_init_layer_0': 'l1l2', 'bias_reg_layer_0_l1': 0.06784937985165114, 'bias_reg_layer_0_l2': 0.18029527887552937, 'kernel_reg_init_layer_0': None, 'kernel_initializer_layer_0': 'he_normal', 'num_layers': 0, 'batch_norm': True, 'dropout_rate_layer_output': 0.8381832678553601, 'optimizer': 'SGD', 'opt_lr': 0.036273201515347145, 'opt_momentum': 0.004518214642207251, 'opt_nesterov': True, 'lr_scheduler_factor': 0.7198527807511318}. Best is trial 20 with value: 0.2963828146457672.\n",
      "\n",
      "\n",
      "[I 2025-01-17 06:52:54,178] Trial 101 finished with value: 0.305932879447937 and parameters: {'batch_size': 512, 'rnn_num_layers': 1, 'units_rnn': 4, 'bias_reg_init_rnn_layer0': 'l1', 'bias_reg_rnn_layer_0': 0.1768646642808542, 'kernel_reg_init_rnn_layer_0': 'l2', 'kernel_reg_rnn_layer_0': 0.2295153832660418, 'kernel_initializer_rnn_layer_0': 'glorot_uniform', 'nunints_layer_0': 128, 'actv_func_layer_0': 'elu', 'bias_reg_init_layer_0': 'l1l2', 'bias_reg_layer_0_l1': 0.09470294226142534, 'bias_reg_layer_0_l2': 0.2461731131896257, 'kernel_reg_init_layer_0': None, 'kernel_initializer_layer_0': 'glorot_uniform', 'num_layers': 0, 'batch_norm': True, 'dropout_rate_layer_output': 0.7964449828321187, 'optimizer': 'SGD', 'opt_lr': 0.05280499402536104, 'opt_momentum': 0.006868992269514683, 'opt_nesterov': True, 'lr_scheduler_factor': 0.6722903352538846}. Best is trial 20 with value: 0.2963828146457672.\n",
      "\n",
      "\n",
      "[I 2025-01-17 07:00:48,893] Trial 102 finished with value: 0.30447840690612793 and parameters: {'batch_size': 512, 'rnn_num_layers': 1, 'units_rnn': 4, 'bias_reg_init_rnn_layer0': 'l1', 'bias_reg_rnn_layer_0': 0.14682144577543302, 'kernel_reg_init_rnn_layer_0': 'l2', 'kernel_reg_rnn_layer_0': 0.246451335477016, 'kernel_initializer_rnn_layer_0': 'glorot_uniform', 'nunints_layer_0': 128, 'actv_func_layer_0': 'elu', 'bias_reg_init_layer_0': 'l1l2', 'bias_reg_layer_0_l1': 0.0883505885849596, 'bias_reg_layer_0_l2': 0.2375674880403656, 'kernel_reg_init_layer_0': None, 'kernel_initializer_layer_0': 'glorot_uniform', 'num_layers': 0, 'batch_norm': True, 'dropout_rate_layer_output': 0.8094174084010488, 'optimizer': 'SGD', 'opt_lr': 0.05406859312085676, 'opt_momentum': 0.006835149656293832, 'opt_nesterov': True, 'lr_scheduler_factor': 0.669849648883782}. Best is trial 20 with value: 0.2963828146457672.\n",
      "\n",
      "\n",
      "[I 2025-01-17 07:09:21,564] Trial 103 finished with value: 0.30637675523757935 and parameters: {'batch_size': 512, 'rnn_num_layers': 1, 'units_rnn': 4, 'bias_reg_init_rnn_layer0': 'l1', 'bias_reg_rnn_layer_0': 0.1431692663850935, 'kernel_reg_init_rnn_layer_0': 'l2', 'kernel_reg_rnn_layer_0': 0.25668098563504516, 'kernel_initializer_rnn_layer_0': 'glorot_uniform', 'nunints_layer_0': 128, 'actv_func_layer_0': 'elu', 'bias_reg_init_layer_0': 'l1l2', 'bias_reg_layer_0_l1': 0.11685017688731916, 'bias_reg_layer_0_l2': 0.22890775604718208, 'kernel_reg_init_layer_0': None, 'kernel_initializer_layer_0': 'glorot_uniform', 'num_layers': 0, 'batch_norm': True, 'dropout_rate_layer_output': 0.8040262861958467, 'optimizer': 'SGD', 'opt_lr': 0.048191691631027184, 'opt_momentum': 0.006885912765449378, 'opt_nesterov': True, 'lr_scheduler_factor': 0.630118149953579}. Best is trial 20 with value: 0.2963828146457672.\n",
      "\n",
      "\n",
      "[I 2025-01-17 07:47:21,240] Trial 104 finished with value: 0.30473124980926514 and parameters: {'batch_size': 512, 'rnn_num_layers': 1, 'units_rnn': 32, 'bias_reg_init_rnn_layer0': 'l1', 'bias_reg_rnn_layer_0': 0.15420561613339598, 'kernel_reg_init_rnn_layer_0': 'l2', 'kernel_reg_rnn_layer_0': 0.22581622496984888, 'kernel_initializer_rnn_layer_0': 'glorot_uniform', 'nunints_layer_0': 128, 'actv_func_layer_0': 'elu', 'bias_reg_init_layer_0': 'l1l2', 'bias_reg_layer_0_l1': 0.0858693798152387, 'bias_reg_layer_0_l2': 0.23863808534179515, 'kernel_reg_init_layer_0': None, 'kernel_initializer_layer_0': 'glorot_uniform', 'num_layers': 0, 'batch_norm': True, 'dropout_rate_layer_output': 0.7767847834269239, 'optimizer': 'SGD', 'opt_lr': 0.07612895830018278, 'opt_momentum': 0.010399099483186899, 'opt_nesterov': True, 'lr_scheduler_factor': 0.6683489951244387}. Best is trial 20 with value: 0.2963828146457672.\n",
      "\n",
      "\n",
      "[I 2025-01-17 08:37:15,188] Trial 105 finished with value: 0.30310314893722534 and parameters: {'batch_size': 512, 'rnn_num_layers': 1, 'units_rnn': 32, 'bias_reg_init_rnn_layer0': 'l1', 'bias_reg_rnn_layer_0': 0.12738068876656414, 'kernel_reg_init_rnn_layer_0': 'l2', 'kernel_reg_rnn_layer_0': 0.22693201823539005, 'kernel_initializer_rnn_layer_0': 'glorot_uniform', 'nunints_layer_0': 128, 'actv_func_layer_0': 'elu', 'bias_reg_init_layer_0': 'l1l2', 'bias_reg_layer_0_l1': 0.09852891790925229, 'bias_reg_layer_0_l2': 0.2372690005782712, 'kernel_reg_init_layer_0': None, 'kernel_initializer_layer_0': 'glorot_uniform', 'num_layers': 0, 'batch_norm': True, 'dropout_rate_layer_output': 0.7919330561410336, 'optimizer': 'SGD', 'opt_lr': 0.07720263240976626, 'opt_momentum': 0.010580505582040467, 'opt_nesterov': True, 'lr_scheduler_factor': 0.6705059587082015}. Best is trial 20 with value: 0.2963828146457672.\n",
      "\n",
      "\n",
      "[I 2025-01-17 10:16:28,361] Trial 106 finished with value: 0.3178068697452545 and parameters: {'batch_size': 512, 'rnn_num_layers': 1, 'units_rnn': 32, 'bias_reg_init_rnn_layer0': 'l1', 'bias_reg_rnn_layer_0': 0.12487686796445141, 'kernel_reg_init_rnn_layer_0': 'l1', 'kernel_reg_rnn_layer_0': 0.2019774263079668, 'kernel_initializer_rnn_layer_0': 'glorot_uniform', 'nunints_layer_0': 128, 'actv_func_layer_0': 'elu', 'bias_reg_init_layer_0': 'l1l2', 'bias_reg_layer_0_l1': 0.16786159410146106, 'bias_reg_layer_0_l2': 0.2347991100074709, 'kernel_reg_init_layer_0': None, 'kernel_initializer_layer_0': 'glorot_uniform', 'num_layers': 0, 'batch_norm': True, 'dropout_rate_layer_output': 0.8194408107391897, 'optimizer': 'SGD', 'opt_lr': 0.0769247564219093, 'opt_momentum': 0.010259832623777417, 'opt_nesterov': True, 'lr_scheduler_factor': 0.6908530254445455}. Best is trial 20 with value: 0.2963828146457672.\n",
      "\n",
      "\n",
      "[I 2025-01-17 11:13:37,937] Trial 107 finished with value: 0.3374113142490387 and parameters: {'batch_size': 1024, 'rnn_num_layers': 1, 'units_rnn': 32, 'bias_reg_init_rnn_layer0': 'l1', 'bias_reg_rnn_layer_0': 0.11226828212264156, 'kernel_reg_init_rnn_layer_0': 'l2', 'kernel_reg_rnn_layer_0': 0.24245316360814817, 'kernel_initializer_rnn_layer_0': 'glorot_uniform', 'nunints_layer_0': 160, 'actv_func_layer_0': 'elu', 'bias_reg_init_layer_0': 'l1l2', 'bias_reg_layer_0_l1': 0.10273293971208988, 'bias_reg_layer_0_l2': 0.20522998056836989, 'kernel_reg_init_layer_0': 'l2', 'kernel_reg_layer_0': 0.43850082308143096, 'kernel_initializer_layer_0': 'glorot_uniform', 'num_layers': 0, 'batch_norm': True, 'dropout_rate_layer_output': 0.7708822159285944, 'optimizer': 'SGD', 'opt_lr': 0.08405472933609133, 'opt_momentum': 0.011951157151066373, 'opt_nesterov': True, 'lr_scheduler_factor': 0.6687408963859968}. Best is trial 20 with value: 0.2963828146457672.\n",
      "\n",
      "\n",
      "[I 2025-01-17 12:15:56,132] Trial 108 finished with value: 0.30711689591407776 and parameters: {'batch_size': 512, 'rnn_num_layers': 1, 'units_rnn': 32, 'bias_reg_init_rnn_layer0': 'l1', 'bias_reg_rnn_layer_0': 0.15623378065129478, 'kernel_reg_init_rnn_layer_0': 'l2', 'kernel_reg_rnn_layer_0': 0.2155235545469001, 'kernel_initializer_rnn_layer_0': 'glorot_uniform', 'nunints_layer_0': 192, 'actv_func_layer_0': 'sigmoid', 'bias_reg_init_layer_0': 'l1l2', 'bias_reg_layer_0_l1': 0.05301158452583307, 'bias_reg_layer_0_l2': 0.1320246131787991, 'kernel_reg_init_layer_0': None, 'kernel_initializer_layer_0': 'glorot_normal', 'num_layers': 0, 'batch_norm': True, 'dropout_rate_layer_output': 0.8523771400896474, 'optimizer': 'SGD', 'opt_lr': 0.07302827977466614, 'opt_momentum': 0.003385620553017255, 'opt_nesterov': False, 'lr_scheduler_factor': 0.6974671877018734}. Best is trial 20 with value: 0.2963828146457672.\n",
      "\n",
      "\n",
      "[I 2025-01-17 14:28:21,980] Trial 109 finished with value: 0.7422996163368225 and parameters: {'batch_size': 256, 'rnn_num_layers': 3, 'units_rnn': 32, 'bias_reg_init_rnn_layer0': None, 'kernel_reg_init_rnn_layer_0': 'l2', 'kernel_reg_rnn_layer_0': 0.26794085599002887, 'kernel_initializer_rnn_layer_0': 'glorot_uniform', 'bias_reg_init_rnn_layer1': None, 'kernel_reg_init_rnn_layer_1': 'l1', 'kernel_reg_rnn_layer_1': 0.37788479590942664, 'kernel_initializer_rnn_layer_1': 'lecun_normal', 'bias_reg_init_rnn_layer2': None, 'kernel_reg_init_rnn_layer_2': None, 'kernel_initializer_rnn_layer_2': 'glorot_uniform', 'nunints_layer_0': 224, 'actv_func_layer_0': 'elu', 'bias_reg_init_layer_0': None, 'kernel_reg_init_layer_0': None, 'kernel_initializer_layer_0': 'glorot_uniform', 'num_layers': 0, 'batch_norm': True, 'dropout_rate_layer_output': 0.7475538831630432, 'optimizer': 'Nadam', 'opt_lr': 0.06745684120145602, 'opt_beta_1': 0.99, 'opt_beta_2': 0.999, 'lr_scheduler_factor': 0.3777744444022091}. Best is trial 20 with value: 0.2963828146457672.\n"
     ]
    }
   ],
   "source": [
    "study = optuna.create_study(direction='minimize', sampler=sampler, study_name='study', storage='sqlite:///db.sqlite3', load_if_exists=True)\n",
    "study.optimize(\n",
    "    objective, n_trials=1000,\n",
    "    timeout=3600*16, # in seconds\n",
    "    n_jobs=1,\n",
    "    show_progress_bar=True\n",
    ")"
   ]
  },
  {
   "cell_type": "code",
   "execution_count": 19,
   "metadata": {},
   "outputs": [
    {
     "data": {
      "text/plain": [
       "{'batch_size': 512,\n",
       " 'rnn_num_layers': 3,\n",
       " 'units_rnn': 4,\n",
       " 'bias_reg_init_rnn_layer0': 'l1',\n",
       " 'bias_reg_rnn_layer_0': 0.14083244708762346,\n",
       " 'kernel_reg_init_rnn_layer_0': 'l1',\n",
       " 'kernel_reg_rnn_layer_0': 0.048357581650700865,\n",
       " 'kernel_initializer_rnn_layer_0': 'lecun_uniform',\n",
       " 'bias_reg_init_rnn_layer1': None,\n",
       " 'kernel_reg_init_rnn_layer_1': None,\n",
       " 'kernel_initializer_rnn_layer_1': 'he_normal',\n",
       " 'bias_reg_init_rnn_layer2': 'l1',\n",
       " 'bias_reg_rnn_layer_2': 0.41570361984141635,\n",
       " 'kernel_reg_init_rnn_layer_2': None,\n",
       " 'kernel_initializer_rnn_layer_2': 'he_uniform',\n",
       " 'nunints_layer_0': 192,\n",
       " 'actv_func_layer_0': 'sigmoid',\n",
       " 'bias_reg_init_layer_0': 'l1l2',\n",
       " 'bias_reg_layer_0_l1': 0.25623065239514076,\n",
       " 'bias_reg_layer_0_l2': 0.05220197892389301,\n",
       " 'kernel_reg_init_layer_0': None,\n",
       " 'kernel_initializer_layer_0': 'glorot_normal',\n",
       " 'num_layers': 1,\n",
       " 'batch_norm': True,\n",
       " 'nunits_layer_1': 96,\n",
       " 'actv_func_layer_1': 'leaky_relu',\n",
       " 'bias_reg_init_layer_1': 'l1l2',\n",
       " 'bias_reg_layer_1_l1': 0.0039312499213477415,\n",
       " 'bias_reg_layer_1_l2': 0.10961249767001871,\n",
       " 'kernel_reg_init_layer_1': None,\n",
       " 'kernel_initializer_layer_1': 'he_normal',\n",
       " 'dropout_rate_layer_1': 0.6164494496016835,\n",
       " 'dropout_rate_layer_output': 0.1137245550831248,\n",
       " 'optimizer': 'Nadam',\n",
       " 'opt_lr': 0.05038006993547303,\n",
       " 'opt_beta_1': 0.9,\n",
       " 'opt_beta_2': 0.99,\n",
       " 'lr_scheduler_factor': 0.49513838915895747}"
      ]
     },
     "execution_count": 19,
     "metadata": {},
     "output_type": "execute_result"
    }
   ],
   "source": [
    "study.best_trial.params"
   ]
  },
  {
   "cell_type": "code",
   "execution_count": null,
   "metadata": {},
   "outputs": [],
   "source": []
  }
 ],
 "metadata": {
  "kaggle": {
   "accelerator": "gpu",
   "dataSources": [],
   "dockerImageVersionId": 30823,
   "isGpuEnabled": true,
   "isInternetEnabled": true,
   "language": "python",
   "sourceType": "notebook"
  },
  "kernelspec": {
   "display_name": "Python 3",
   "language": "python",
   "name": "python3"
  },
  "language_info": {
   "codemirror_mode": {
    "name": "ipython",
    "version": 3
   },
   "file_extension": ".py",
   "mimetype": "text/x-python",
   "name": "python",
   "nbconvert_exporter": "python",
   "pygments_lexer": "ipython3",
   "version": "3.12.4"
  }
 },
 "nbformat": 4,
 "nbformat_minor": 4
}
