{
 "cells": [
  {
   "cell_type": "markdown",
   "metadata": {},
   "source": [
    "# Imports"
   ]
  },
  {
   "cell_type": "code",
   "execution_count": 1,
   "metadata": {
    "_cell_guid": "b1076dfc-b9ad-4769-8c92-a6c4dae69d19",
    "_uuid": "8f2839f25d086af736a60e9eeb907d3b93b6e0e5",
    "execution": {
     "iopub.execute_input": "2025-01-01T22:11:44.228690Z",
     "iopub.status.busy": "2025-01-01T22:11:44.228247Z",
     "iopub.status.idle": "2025-01-01T22:11:52.686364Z",
     "shell.execute_reply": "2025-01-01T22:11:52.685507Z",
     "shell.execute_reply.started": "2025-01-01T22:11:44.228659Z"
    },
    "trusted": true
   },
   "outputs": [],
   "source": [
    "import numpy as np\n",
    "import pandas as pd\n",
    "import matplotlib.pyplot as plt\n",
    "from sklearn.preprocessing import StandardScaler, OrdinalEncoder\n",
    "from sklearn.metrics import mean_absolute_error\n",
    "import tensorflow as tf\n",
    "import optuna\n",
    "import os\n",
    "import random\n",
    "import datetime\n",
    "\n",
    "np.random.seed(42)\n",
    "tf.random.set_seed(42)\n",
    "random.seed(42)"
   ]
  },
  {
   "cell_type": "code",
   "execution_count": 2,
   "metadata": {
    "execution": {
     "iopub.execute_input": "2025-01-01T22:11:52.688094Z",
     "iopub.status.busy": "2025-01-01T22:11:52.687523Z",
     "iopub.status.idle": "2025-01-01T22:11:53.144438Z",
     "shell.execute_reply": "2025-01-01T22:11:53.143573Z",
     "shell.execute_reply.started": "2025-01-01T22:11:52.688068Z"
    },
    "trusted": true
   },
   "outputs": [
    {
     "data": {
      "text/plain": [
       "[PhysicalDevice(name='/physical_device:CPU:0', device_type='CPU')]"
      ]
     },
     "execution_count": 2,
     "metadata": {},
     "output_type": "execute_result"
    }
   ],
   "source": [
    "tf.config.list_physical_devices()"
   ]
  },
  {
   "cell_type": "markdown",
   "metadata": {},
   "source": [
    "# Data"
   ]
  },
  {
   "cell_type": "code",
   "execution_count": 3,
   "metadata": {
    "execution": {
     "iopub.execute_input": "2025-01-01T22:12:14.392476Z",
     "iopub.status.busy": "2025-01-01T22:12:14.392180Z",
     "iopub.status.idle": "2025-01-01T22:12:14.733780Z",
     "shell.execute_reply": "2025-01-01T22:12:14.732928Z",
     "shell.execute_reply.started": "2025-01-01T22:12:14.392454Z"
    },
    "trusted": true
   },
   "outputs": [
    {
     "name": "stdout",
     "output_type": "stream",
     "text": [
      "(40898, 4)\n"
     ]
    },
    {
     "data": {
      "text/html": [
       "<div>\n",
       "<style scoped>\n",
       "    .dataframe tbody tr th:only-of-type {\n",
       "        vertical-align: middle;\n",
       "    }\n",
       "\n",
       "    .dataframe tbody tr th {\n",
       "        vertical-align: top;\n",
       "    }\n",
       "\n",
       "    .dataframe thead th {\n",
       "        text-align: right;\n",
       "    }\n",
       "</style>\n",
       "<table border=\"1\" class=\"dataframe\">\n",
       "  <thead>\n",
       "    <tr style=\"text-align: right;\">\n",
       "      <th></th>\n",
       "      <th>STATION</th>\n",
       "      <th>NAME</th>\n",
       "      <th>DATE</th>\n",
       "      <th>TMAX</th>\n",
       "    </tr>\n",
       "  </thead>\n",
       "  <tbody>\n",
       "    <tr>\n",
       "      <th>0</th>\n",
       "      <td>USW00012916</td>\n",
       "      <td>NEW ORLEANS AIRPORT, LA US</td>\n",
       "      <td>2010-01-01</td>\n",
       "      <td>12.2</td>\n",
       "    </tr>\n",
       "    <tr>\n",
       "      <th>1</th>\n",
       "      <td>USW00012916</td>\n",
       "      <td>NEW ORLEANS AIRPORT, LA US</td>\n",
       "      <td>2010-01-02</td>\n",
       "      <td>10.6</td>\n",
       "    </tr>\n",
       "    <tr>\n",
       "      <th>2</th>\n",
       "      <td>USW00012916</td>\n",
       "      <td>NEW ORLEANS AIRPORT, LA US</td>\n",
       "      <td>2010-01-03</td>\n",
       "      <td>8.3</td>\n",
       "    </tr>\n",
       "    <tr>\n",
       "      <th>3</th>\n",
       "      <td>USW00012916</td>\n",
       "      <td>NEW ORLEANS AIRPORT, LA US</td>\n",
       "      <td>2010-01-04</td>\n",
       "      <td>6.1</td>\n",
       "    </tr>\n",
       "    <tr>\n",
       "      <th>4</th>\n",
       "      <td>USW00012916</td>\n",
       "      <td>NEW ORLEANS AIRPORT, LA US</td>\n",
       "      <td>2010-01-05</td>\n",
       "      <td>6.1</td>\n",
       "    </tr>\n",
       "  </tbody>\n",
       "</table>\n",
       "</div>"
      ],
      "text/plain": [
       "       STATION                        NAME       DATE  TMAX\n",
       "0  USW00012916  NEW ORLEANS AIRPORT, LA US 2010-01-01  12.2\n",
       "1  USW00012916  NEW ORLEANS AIRPORT, LA US 2010-01-02  10.6\n",
       "2  USW00012916  NEW ORLEANS AIRPORT, LA US 2010-01-03   8.3\n",
       "3  USW00012916  NEW ORLEANS AIRPORT, LA US 2010-01-04   6.1\n",
       "4  USW00012916  NEW ORLEANS AIRPORT, LA US 2010-01-05   6.1"
      ]
     },
     "execution_count": 3,
     "metadata": {},
     "output_type": "execute_result"
    }
   ],
   "source": [
    "data_path = 'https://raw.githubusercontent.com/antbartash/max_temp/master/data/data2.csv'\n",
    "data = pd.read_csv(data_path, index_col=0)\n",
    "data['DATE'] = data['DATE'].astype('datetime64[ns]')\n",
    "\n",
    "print(data.shape)\n",
    "data.head()"
   ]
  },
  {
   "cell_type": "code",
   "execution_count": 4,
   "metadata": {
    "execution": {
     "iopub.execute_input": "2025-01-01T22:12:14.735107Z",
     "iopub.status.busy": "2025-01-01T22:12:14.734827Z",
     "iopub.status.idle": "2025-01-01T22:12:14.754936Z",
     "shell.execute_reply": "2025-01-01T22:12:14.754291Z",
     "shell.execute_reply.started": "2025-01-01T22:12:14.735085Z"
    },
    "trusted": true
   },
   "outputs": [
    {
     "name": "stdout",
     "output_type": "stream",
     "text": [
      "(40898, 5)\n"
     ]
    },
    {
     "data": {
      "text/html": [
       "<div>\n",
       "<style scoped>\n",
       "    .dataframe tbody tr th:only-of-type {\n",
       "        vertical-align: middle;\n",
       "    }\n",
       "\n",
       "    .dataframe tbody tr th {\n",
       "        vertical-align: top;\n",
       "    }\n",
       "\n",
       "    .dataframe thead th {\n",
       "        text-align: right;\n",
       "    }\n",
       "</style>\n",
       "<table border=\"1\" class=\"dataframe\">\n",
       "  <thead>\n",
       "    <tr style=\"text-align: right;\">\n",
       "      <th></th>\n",
       "      <th>STATION</th>\n",
       "      <th>DATE</th>\n",
       "      <th>TMAX</th>\n",
       "      <th>Year_sin</th>\n",
       "      <th>Year_cos</th>\n",
       "    </tr>\n",
       "  </thead>\n",
       "  <tbody>\n",
       "    <tr>\n",
       "      <th>0</th>\n",
       "      <td>USW00012916</td>\n",
       "      <td>2010-01-01</td>\n",
       "      <td>12.2</td>\n",
       "      <td>0.017202</td>\n",
       "      <td>0.999852</td>\n",
       "    </tr>\n",
       "    <tr>\n",
       "      <th>1</th>\n",
       "      <td>USW00012916</td>\n",
       "      <td>2010-01-02</td>\n",
       "      <td>10.6</td>\n",
       "      <td>0.034398</td>\n",
       "      <td>0.999408</td>\n",
       "    </tr>\n",
       "    <tr>\n",
       "      <th>2</th>\n",
       "      <td>USW00012916</td>\n",
       "      <td>2010-01-03</td>\n",
       "      <td>8.3</td>\n",
       "      <td>0.051584</td>\n",
       "      <td>0.998669</td>\n",
       "    </tr>\n",
       "    <tr>\n",
       "      <th>3</th>\n",
       "      <td>USW00012916</td>\n",
       "      <td>2010-01-04</td>\n",
       "      <td>6.1</td>\n",
       "      <td>0.068755</td>\n",
       "      <td>0.997634</td>\n",
       "    </tr>\n",
       "    <tr>\n",
       "      <th>4</th>\n",
       "      <td>USW00012916</td>\n",
       "      <td>2010-01-05</td>\n",
       "      <td>6.1</td>\n",
       "      <td>0.085906</td>\n",
       "      <td>0.996303</td>\n",
       "    </tr>\n",
       "  </tbody>\n",
       "</table>\n",
       "</div>"
      ],
      "text/plain": [
       "       STATION       DATE  TMAX  Year_sin  Year_cos\n",
       "0  USW00012916 2010-01-01  12.2  0.017202  0.999852\n",
       "1  USW00012916 2010-01-02  10.6  0.034398  0.999408\n",
       "2  USW00012916 2010-01-03   8.3  0.051584  0.998669\n",
       "3  USW00012916 2010-01-04   6.1  0.068755  0.997634\n",
       "4  USW00012916 2010-01-05   6.1  0.085906  0.996303"
      ]
     },
     "execution_count": 4,
     "metadata": {},
     "output_type": "execute_result"
    }
   ],
   "source": [
    "data = data[['STATION', 'DATE', 'TMAX']]\n",
    "\n",
    "# add sine and cosine transforms to add periodicality\n",
    "doy = data['DATE'].dt.dayofyear / 365.25\n",
    "data['Year_sin'] = np.sin(doy * 2 * np.pi)\n",
    "data['Year_cos'] = np.cos(doy * 2 * np.pi)\n",
    "\n",
    "print(data.shape)\n",
    "data.head()"
   ]
  },
  {
   "cell_type": "markdown",
   "metadata": {
    "execution": {
     "iopub.execute_input": "2024-12-28T11:24:06.993684Z",
     "iopub.status.busy": "2024-12-28T11:24:06.993325Z",
     "iopub.status.idle": "2024-12-28T11:24:06.997628Z",
     "shell.execute_reply": "2024-12-28T11:24:06.996626Z",
     "shell.execute_reply.started": "2024-12-28T11:24:06.993646Z"
    }
   },
   "source": [
    "## Data preprocessing"
   ]
  },
  {
   "cell_type": "code",
   "execution_count": 5,
   "metadata": {
    "execution": {
     "iopub.execute_input": "2025-01-01T22:12:17.477076Z",
     "iopub.status.busy": "2025-01-01T22:12:17.476758Z",
     "iopub.status.idle": "2025-01-01T22:12:17.496018Z",
     "shell.execute_reply": "2025-01-01T22:12:17.495366Z",
     "shell.execute_reply.started": "2025-01-01T22:12:17.477048Z"
    },
    "trusted": true
   },
   "outputs": [
    {
     "name": "stdout",
     "output_type": "stream",
     "text": [
      "Train: (35058, 5)\n",
      "Valid: (2920, 5)\n",
      "Test: (2920, 5)\n"
     ]
    }
   ],
   "source": [
    "# TRAIN/VALID/TEST SPLIT\n",
    "\n",
    "train_df = data.loc[data['DATE'].dt.year <= 2021].reset_index(drop=True).copy()\n",
    "valid_df = data.loc[data['DATE'].dt.year == 2022].reset_index(drop=True).copy()\n",
    "test_df = data.loc[data['DATE'].dt.year == 2023].reset_index(drop=True).copy()\n",
    "\n",
    "print(f'Train: {train_df.shape}')\n",
    "print(f'Valid: {valid_df.shape}')\n",
    "print(f'Test: {test_df.shape}')"
   ]
  },
  {
   "cell_type": "code",
   "execution_count": 6,
   "metadata": {
    "execution": {
     "iopub.execute_input": "2025-01-01T22:12:17.660068Z",
     "iopub.status.busy": "2025-01-01T22:12:17.659791Z",
     "iopub.status.idle": "2025-01-01T22:12:17.691150Z",
     "shell.execute_reply": "2025-01-01T22:12:17.690451Z",
     "shell.execute_reply.started": "2025-01-01T22:12:17.660044Z"
    },
    "trusted": true
   },
   "outputs": [
    {
     "data": {
      "text/html": [
       "<div>\n",
       "<style scoped>\n",
       "    .dataframe tbody tr th:only-of-type {\n",
       "        vertical-align: middle;\n",
       "    }\n",
       "\n",
       "    .dataframe tbody tr th {\n",
       "        vertical-align: top;\n",
       "    }\n",
       "\n",
       "    .dataframe thead th {\n",
       "        text-align: right;\n",
       "    }\n",
       "</style>\n",
       "<table border=\"1\" class=\"dataframe\">\n",
       "  <thead>\n",
       "    <tr style=\"text-align: right;\">\n",
       "      <th></th>\n",
       "      <th>STATION</th>\n",
       "      <th>TMAX</th>\n",
       "      <th>Year_sin</th>\n",
       "      <th>Year_cos</th>\n",
       "    </tr>\n",
       "  </thead>\n",
       "  <tbody>\n",
       "    <tr>\n",
       "      <th>0</th>\n",
       "      <td>-1.091014</td>\n",
       "      <td>-0.747812</td>\n",
       "      <td>0.024401</td>\n",
       "      <td>1.414059</td>\n",
       "    </tr>\n",
       "    <tr>\n",
       "      <th>1</th>\n",
       "      <td>-1.091014</td>\n",
       "      <td>-0.896450</td>\n",
       "      <td>0.048721</td>\n",
       "      <td>1.413431</td>\n",
       "    </tr>\n",
       "    <tr>\n",
       "      <th>2</th>\n",
       "      <td>-1.091014</td>\n",
       "      <td>-1.110117</td>\n",
       "      <td>0.073027</td>\n",
       "      <td>1.412386</td>\n",
       "    </tr>\n",
       "    <tr>\n",
       "      <th>3</th>\n",
       "      <td>-1.091014</td>\n",
       "      <td>-1.314495</td>\n",
       "      <td>0.097312</td>\n",
       "      <td>1.410922</td>\n",
       "    </tr>\n",
       "    <tr>\n",
       "      <th>4</th>\n",
       "      <td>-1.091014</td>\n",
       "      <td>-1.314495</td>\n",
       "      <td>0.121567</td>\n",
       "      <td>1.409041</td>\n",
       "    </tr>\n",
       "  </tbody>\n",
       "</table>\n",
       "</div>"
      ],
      "text/plain": [
       "    STATION      TMAX  Year_sin  Year_cos\n",
       "0 -1.091014 -0.747812  0.024401  1.414059\n",
       "1 -1.091014 -0.896450  0.048721  1.413431\n",
       "2 -1.091014 -1.110117  0.073027  1.412386\n",
       "3 -1.091014 -1.314495  0.097312  1.410922\n",
       "4 -1.091014 -1.314495  0.121567  1.409041"
      ]
     },
     "execution_count": 6,
     "metadata": {},
     "output_type": "execute_result"
    }
   ],
   "source": [
    "# SCALING\n",
    "\n",
    "train_df.drop(columns=['DATE'], inplace=True)\n",
    "valid_df.drop(columns=['DATE'], inplace=True)\n",
    "test_df.drop(columns=['DATE'], inplace=True)\n",
    "\n",
    "# keep station to drop mixed windows later (encode to avoid errors from scaler)\n",
    "encoder = OrdinalEncoder()\n",
    "encoder.fit(train_df[['STATION']])\n",
    "train_df['STATION'] = encoder.transform(train_df[['STATION']])[:, 0]\n",
    "valid_df['STATION'] = encoder.transform(valid_df[['STATION']])[:, 0]\n",
    "test_df['STATION'] = encoder.transform(test_df[['STATION']])[:, 0]\n",
    "\n",
    "# scaling\n",
    "scaler = StandardScaler()\n",
    "scaler.fit(train_df)\n",
    "train_df = pd.DataFrame(scaler.transform(train_df),\n",
    "                        columns=scaler.feature_names_in_, index=train_df.index)\n",
    "valid_df = pd.DataFrame(scaler.transform(valid_df),\n",
    "                        columns=scaler.feature_names_in_, index=valid_df.index)\n",
    "test_df = pd.DataFrame(scaler.transform(test_df),\n",
    "                       columns=scaler.feature_names_in_, index=test_df.index)\n",
    "\n",
    "train_df.head()"
   ]
  },
  {
   "cell_type": "code",
   "execution_count": 7,
   "metadata": {
    "execution": {
     "iopub.execute_input": "2025-01-01T22:12:19.635237Z",
     "iopub.status.busy": "2025-01-01T22:12:19.634926Z",
     "iopub.status.idle": "2025-01-01T22:12:19.639137Z",
     "shell.execute_reply": "2025-01-01T22:12:19.638203Z",
     "shell.execute_reply.started": "2025-01-01T22:12:19.635216Z"
    },
    "trusted": true
   },
   "outputs": [],
   "source": [
    "def tmax_inverse_transform(arr, scale=scaler.scale_[1], mean=scaler.mean_[1]):\n",
    "    return arr * scale + mean"
   ]
  },
  {
   "cell_type": "code",
   "execution_count": 8,
   "metadata": {
    "execution": {
     "iopub.execute_input": "2025-01-01T22:12:22.327364Z",
     "iopub.status.busy": "2025-01-01T22:12:22.327064Z",
     "iopub.status.idle": "2025-01-01T22:12:22.860354Z",
     "shell.execute_reply": "2025-01-01T22:12:22.859395Z",
     "shell.execute_reply.started": "2025-01-01T22:12:22.327340Z"
    },
    "trusted": true
   },
   "outputs": [],
   "source": [
    "# TF DATASET\n",
    "\n",
    "def create_dataset(data, target_col, source_col, seq_length):\n",
    "  input_data = data[:-seq_length]\n",
    "  # adding source_col to target allows to drop samples with features and target\n",
    "  # from diff sources (source_col will be dropped from the target later)\n",
    "  targets = data[[source_col, target_col]][seq_length:]\n",
    "  dataset = tf.keras.preprocessing.timeseries_dataset_from_array(\n",
    "      input_data, targets,\n",
    "      sequence_length=seq_length,\n",
    "      sequence_stride=1,\n",
    "      batch_size=32,\n",
    "      shuffle=False,\n",
    "      seed=42\n",
    "    )\n",
    "  for batch in dataset:\n",
    "    inputs, targets = batch\n",
    "    assert np.array_equal(inputs[0], data[:seq_length])  # First sequence: steps [0-13]\n",
    "    # Corresponding target: step 14\n",
    "    assert np.array_equal(targets[0, 1], data.loc[seq_length, target_col])\n",
    "    break\n",
    "  return dataset\n",
    "\n",
    "train_ds = create_dataset(train_df, 'TMAX', 'STATION', 14)\n",
    "valid_ds = create_dataset(valid_df, 'TMAX', 'STATION', 14)\n",
    "test_ds = create_dataset(test_df, 'TMAX', 'STATION', 14)"
   ]
  },
  {
   "cell_type": "code",
   "execution_count": 9,
   "metadata": {
    "execution": {
     "iopub.execute_input": "2025-01-01T22:12:22.862003Z",
     "iopub.status.busy": "2025-01-01T22:12:22.861683Z",
     "iopub.status.idle": "2025-01-01T22:12:23.142841Z",
     "shell.execute_reply": "2025-01-01T22:12:23.141795Z",
     "shell.execute_reply.started": "2025-01-01T22:12:22.861959Z"
    },
    "trusted": true
   },
   "outputs": [],
   "source": [
    "# DATASET CLEANING\n",
    "\n",
    "def filter_mixed_windows(dataset):\n",
    "    def is_valid_window(inputs, targets):\n",
    "        # Extract the first feature (station) from inputs and targets\n",
    "        input_station_ids = inputs[:, :, 0]  # Shape: (batch_size, sequence_length)\n",
    "        target_station_ids = targets[:, 0]  # Shape: (batch_size)\n",
    "\n",
    "        # Check if all station IDs in the inputs are the same\n",
    "        input_same_station = tf.reduce_all(tf.reduce_max(input_station_ids, axis=1) == tf.reduce_min(input_station_ids, axis=1))\n",
    "\n",
    "        # Check if the target's station ID matches the input station ID\n",
    "        target_matches_input = tf.reduce_all(tf.reduce_max(input_station_ids, axis=1) == target_station_ids)\n",
    "\n",
    "        # Only keep windows where both conditions are true\n",
    "        return tf.logical_and(input_same_station, target_matches_input)\n",
    "\n",
    "    # Filter the dataset\n",
    "    filtered_dataset = dataset.filter(is_valid_window)\n",
    "    return filtered_dataset\n",
    "\n",
    "train_ds = filter_mixed_windows(train_ds)\n",
    "valid_ds = filter_mixed_windows(valid_ds)\n",
    "test_ds = filter_mixed_windows(test_ds)"
   ]
  },
  {
   "cell_type": "code",
   "execution_count": 10,
   "metadata": {
    "execution": {
     "iopub.execute_input": "2025-01-01T22:12:24.223598Z",
     "iopub.status.busy": "2025-01-01T22:12:24.223268Z",
     "iopub.status.idle": "2025-01-01T22:12:24.288869Z",
     "shell.execute_reply": "2025-01-01T22:12:24.288052Z",
     "shell.execute_reply.started": "2025-01-01T22:12:24.223561Z"
    },
    "trusted": true
   },
   "outputs": [],
   "source": [
    "def drop_first_column(feature, label):\n",
    "    feature = feature[:, :, 1:]  # Keep all rows, drop the first column\n",
    "    label = label[:, 1:]    # Keep all rows, drop the first column\n",
    "    return feature, label\n",
    "\n",
    "train_ds = train_ds.map(drop_first_column)\n",
    "valid_ds = valid_ds.map(drop_first_column)\n",
    "test_ds = test_ds.map(drop_first_column)"
   ]
  },
  {
   "cell_type": "code",
   "execution_count": 11,
   "metadata": {
    "execution": {
     "iopub.execute_input": "2025-01-01T22:12:24.414591Z",
     "iopub.status.busy": "2025-01-01T22:12:24.414270Z",
     "iopub.status.idle": "2025-01-01T22:12:27.053933Z",
     "shell.execute_reply": "2025-01-01T22:12:27.053251Z",
     "shell.execute_reply.started": "2025-01-01T22:12:24.414555Z"
    },
    "trusted": true
   },
   "outputs": [],
   "source": [
    "def load_data(batch_size, prefetch=tf.data.AUTOTUNE,\n",
    "              train_ds=train_ds, valid_ds=valid_ds, test_ds=test_ds):\n",
    "    train_ds = train_ds.rebatch(batch_size).prefetch(prefetch)\n",
    "    valid_ds = valid_ds.rebatch(batch_size).prefetch(prefetch)\n",
    "    test_ds = test_ds.rebatch(batch_size).prefetch(prefetch)\n",
    "    train_num_batches = len(list(train_ds))\n",
    "    valid_num_batches = len(list(valid_ds))\n",
    "    test_num_batches = len(list(test_ds))\n",
    "    # print(f'load_data - num_batches (train, valid, test): {train_num_batches}, {valid_num_batches}, {test_num_batches}')\n",
    "    train_ds_repeat = train_ds.repeat()\n",
    "    valid_ds_repeat = valid_ds.repeat()\n",
    "    test_ds_repeat = test_ds.repeat()\n",
    "    return train_ds_repeat, valid_ds_repeat, test_ds_repeat, train_num_batches, valid_num_batches, test_num_batches\n",
    "\n",
    "train_ds_repeat, valid_ds_repeat, test_ds_repeat, train_num_batches, valid_num_batches, test_num_batches = load_data(batch_size=32)"
   ]
  },
  {
   "cell_type": "markdown",
   "metadata": {},
   "source": [
    "# Model"
   ]
  },
  {
   "cell_type": "code",
   "execution_count": 12,
   "metadata": {
    "execution": {
     "iopub.execute_input": "2025-01-01T22:12:27.055161Z",
     "iopub.status.busy": "2025-01-01T22:12:27.054895Z",
     "iopub.status.idle": "2025-01-01T22:12:27.072345Z",
     "shell.execute_reply": "2025-01-01T22:12:27.071653Z",
     "shell.execute_reply.started": "2025-01-01T22:12:27.055139Z"
    },
    "trusted": true
   },
   "outputs": [],
   "source": [
    "def create_model(trial, input_shape):\n",
    "    model = tf.keras.models.Sequential()\n",
    "    model.add(tf.keras.layers.Input(shape=input_shape))\n",
    "    model.add(tf.keras.layers.Reshape(target_shape=(14, 3, 1)))  # Shape: (time, features) => (time, features, channels)\n",
    "    \n",
    "    # CONVOLUTIONAL LAYERS\n",
    "    conv_num_layers = trial.suggest_int('conv_num_layers', 1, 4)\n",
    "    for conv_layer_num in range(conv_num_layers):\n",
    "        filters = trial.suggest_categorical(f'filters_conv_{conv_layer_num}', [2, 4, 8, 16, 32])\n",
    "        kernel_size = trial.suggest_categorical(f'kernel_size_conv_{conv_layer_num}', [3, 5, 7, 10, 14])\n",
    "        actv_func = trial.suggest_categorical(f'actv_func_conv_{conv_layer_num}', ['relu', 'leaky_relu', 'elu', 'sigmoid', 'tanh', 'gelu'])\n",
    "        \n",
    "        bias_reg_init = trial.suggest_categorical(f'bias_reg_init_conv_layer{conv_layer_num}', ['l1', 'l2', 'l1l2', None])\n",
    "        if bias_reg_init == 'l1':\n",
    "            bias_reg = tf.keras.regularizers.l1(trial.suggest_float(f'bias_reg_conv_layer_{conv_layer_num}', 0.0001, 0.5))\n",
    "        elif bias_reg_init == 'l2':\n",
    "            bias_reg = tf.keras.regularizers.l2(trial.suggest_float(f'bias_reg_conv_layer_{conv_layer_num}', 0.0001, 0.5))\n",
    "        elif bias_reg_init == 'l1l2':\n",
    "            bias_reg = tf.keras.regularizers.L1L2(trial.suggest_float(f'bias_reg_conv_layer_{conv_layer_num}_l1', 0.0001, 0.5),\n",
    "                                                  trial.suggest_float(f'bias_reg_conv_layer_{conv_layer_num}_l2', 0.0001, 0.5))\n",
    "        else:\n",
    "            bias_reg = None\n",
    "\n",
    "        kernel_reg_init = trial.suggest_categorical(f'kernel_reg_init_conv_layer_{conv_layer_num}', ['l1', 'l2', 'l1l2', None])\n",
    "        if kernel_reg_init == 'l1':\n",
    "            kernel_reg = tf.keras.regularizers.l1(trial.suggest_float(f'kernel_reg_conv_layer_{conv_layer_num}', 0.0001, 0.5))\n",
    "        elif kernel_reg_init == 'l2':\n",
    "            kernel_reg = tf.keras.regularizers.l2(trial.suggest_float(f'kernel_reg_conv_layer_{conv_layer_num}', 0.0001, 0.5))\n",
    "        elif kernel_reg_init == 'l1l2':\n",
    "            kernel_reg = tf.keras.regularizers.L1L2(trial.suggest_float(f'kernel_reg_conv_layer_{conv_layer_num}_l1', 0.0001, 0.5),\n",
    "                                                    trial.suggest_float(f'kernel_reg_conv_layer_{conv_layer_num}_l2', 0.0001, 0.5))\n",
    "        else:\n",
    "            kernel_reg = None\n",
    "\n",
    "        kernel_initializer = trial.suggest_categorical(\n",
    "            f'kernel_initializer_conv_layer_{conv_layer_num}',\n",
    "            ['glorot_uniform', 'glorot_normal', 'he_uniform', 'he_normal', 'lecun_uniform', 'lecun_normal']\n",
    "        )\n",
    "\n",
    "        if conv_layer_num == conv_num_layers-1: # last conv layer\n",
    "            padding = trial.suggest_categorical('padding_last_conv_layer', ['same', 'valid'])\n",
    "        else:\n",
    "            padding = 'same'\n",
    "\n",
    "        model.add(\n",
    "            tf.keras.layers.Conv2D(\n",
    "                filters=filters,\n",
    "                kernel_size=(kernel_size, 3),\n",
    "                strides=(1, 1),\n",
    "                padding=padding,\n",
    "                activation=actv_func,\n",
    "                kernel_initializer=kernel_initializer,\n",
    "                bias_regularizer=bias_reg,\n",
    "                kernel_regularizer=kernel_reg\n",
    "            )\n",
    "        )\n",
    "\n",
    "    \n",
    "    # FLATTEN\n",
    "    model.add(tf.keras.layers.Flatten())\n",
    "    \n",
    "    # DENSE LAYERS\n",
    "    # layer 0\n",
    "    n_units_0 = trial.suggest_int('nunints_layer_0', 32, 512, step=32)\n",
    "    actv_func_0 = trial.suggest_categorical('actv_func_layer_0', ['relu', 'leaky_relu', 'elu', 'sigmoid', 'tanh', 'gelu'])\n",
    "\n",
    "    bias_reg_init_0 = trial.suggest_categorical('bias_reg_init_layer_0', ['l1', 'l2', 'l1l2', None])\n",
    "    if bias_reg_init_0 == 'l1':\n",
    "        bias_reg_0 = tf.keras.regularizers.l1(trial.suggest_float('bias_reg_layer_0', 0.0001, 0.5))\n",
    "    elif bias_reg_init_0 == 'l2':\n",
    "        bias_reg_0 = tf.keras.regularizers.l2(trial.suggest_float('bias_reg_layer_0', 0.0001, 0.5))\n",
    "    elif bias_reg_init_0 == 'l1l2':\n",
    "        bias_reg_0 = tf.keras.regularizers.L1L2(trial.suggest_float('bias_reg_layer_0_l1', 0.0001, 0.5),\n",
    "                                                trial.suggest_float('bias_reg_layer_0_l2', 0.0001, 0.5))\n",
    "    else:\n",
    "        bias_reg_0 = None\n",
    "\n",
    "    kernel_reg_init_0 = trial.suggest_categorical('kernel_reg_init_layer_0', ['l1', 'l2', 'l1l2', None])\n",
    "    if kernel_reg_init_0 == 'l1':\n",
    "        kernel_reg_0 = tf.keras.regularizers.l1(trial.suggest_float('kernel_reg_layer_0', 0.0001, 0.5))\n",
    "    elif kernel_reg_init_0 == 'l2':\n",
    "        kernel_reg_0 = tf.keras.regularizers.l2(trial.suggest_float('kernel_reg_layer_0', 0.0001, 0.5))\n",
    "    elif kernel_reg_init_0 == 'l1l2':\n",
    "        kernel_reg_0 = tf.keras.regularizers.L1L2(trial.suggest_float('kernel_reg_layer_0_l1', 0.0001, 0.5),\n",
    "                                                  trial.suggest_float('kernel_reg_layer_0_l2', 0.0001, 0.5))\n",
    "    else:\n",
    "        kernel_reg_0 = None\n",
    "\n",
    "    kernel_initializer_0 = trial.suggest_categorical(\n",
    "        'kernel_initializer_layer_0', ['glorot_uniform', 'glorot_normal',\n",
    "                                       'he_uniform', 'he_normal',\n",
    "                                       'lecun_uniform', 'lecun_normal']\n",
    "    )\n",
    "    \n",
    "    model.add(\n",
    "        tf.keras.layers.Dense(\n",
    "            units=n_units_0, activation=actv_func_0, \n",
    "            kernel_initializer=kernel_initializer_0,\n",
    "            bias_regularizer=bias_reg_0,\n",
    "            kernel_regularizer=kernel_reg_0\n",
    "        )\n",
    "    )\n",
    "\n",
    "    \n",
    "    # hidden layers\n",
    "    num_layers = trial.suggest_int('num_layers', 0, 2)\n",
    "    batch_norm = trial.suggest_categorical(f'batch_norm', [True, False])\n",
    "    for layer_num in range(num_layers):\n",
    "        layer_i = layer_num + 1\n",
    "        n_units = trial.suggest_int(f'nunits_layer_{layer_i}', 32, 512, step=32)\n",
    "        actv_func = trial.suggest_categorical(f'actv_func_layer_{layer_i}', ['relu', 'leaky_relu', 'elu', 'sigmoid', 'tanh', 'gelu'])\n",
    "\n",
    "        bias_reg_init = trial.suggest_categorical(f'bias_reg_init_layer_{layer_i}', ['l1', 'l2', 'l1l2', None])\n",
    "        if bias_reg_init == 'l1':\n",
    "            bias_reg = tf.keras.regularizers.l1(trial.suggest_float(f'bias_reg_layer_{layer_i}', 0.0001, 0.5))\n",
    "        elif bias_reg_init == 'l2':\n",
    "            bias_reg = tf.keras.regularizers.l2(trial.suggest_float(f'bias_reg_layer_{layer_i}', 0.0001, 0.5))\n",
    "        elif bias_reg_init == 'l1l2':\n",
    "            bias_reg = tf.keras.regularizers.L1L2(trial.suggest_float(f'bias_reg_layer_{layer_i}_l1', 0.0001, 0.5),\n",
    "                                                  trial.suggest_float(f'bias_reg_layer_{layer_i}_l2', 0.0001, 0.5))\n",
    "        else:\n",
    "            bias_reg = None\n",
    "\n",
    "        kernel_reg_init = trial.suggest_categorical(f'kernel_reg_init_layer_{layer_i}', ['l1', 'l2', 'l1l2', None])\n",
    "        if kernel_reg_init == 'l1':\n",
    "            kernel_reg = tf.keras.regularizers.l1(trial.suggest_float(f'kernel_reg_layer_{layer_i}', 0.0001, 0.5))\n",
    "        elif kernel_reg_init == 'l2':\n",
    "            kernel_reg = tf.keras.regularizers.l2(trial.suggest_float(f'kernel_reg_layer_{layer_i}', 0.0001, 0.5))\n",
    "        elif kernel_reg_init == 'l1l2':\n",
    "            kernel_reg = tf.keras.regularizers.L1L2(trial.suggest_float(f'kernel_reg_layer_{layer_i}_l1', 0.0001, 0.5),\n",
    "                                                    trial.suggest_float(f'kernel_reg_layer_{layer_i}_l2', 0.0001, 0.5))\n",
    "        else:\n",
    "            kernel_reg = None\n",
    "\n",
    "        kernel_initializer = trial.suggest_categorical(\n",
    "            f'kernel_initializer_layer_{layer_i}', ['glorot_uniform', 'glorot_normal',\n",
    "                                                    'he_uniform', 'he_normal',\n",
    "                                                    'lecun_uniform', 'lecun_normal']\n",
    "        )\n",
    "        \n",
    "        if batch_norm:\n",
    "            model.add(tf.keras.layers.BatchNormalization())\n",
    "        dropout_rate = trial.suggest_float(f'dropout_rate_layer_{layer_i}', 0.0, 0.999)\n",
    "        model.add(tf.keras.layers.Dropout(dropout_rate))\n",
    "        model.add(\n",
    "            tf.keras.layers.Dense(\n",
    "                n_units, actv_func, \n",
    "                kernel_initializer=kernel_initializer,\n",
    "                bias_regularizer=bias_reg,\n",
    "                kernel_regularizer=kernel_reg\n",
    "            )\n",
    "        )\n",
    "    if batch_norm:\n",
    "        model.add(tf.keras.layers.BatchNormalization())\n",
    "    dropout_rate = trial.suggest_float(f'dropout_rate_layer_output', 0.0, 0.999)\n",
    "    model.add(tf.keras.layers.Dropout(dropout_rate))\n",
    "    model.add(tf.keras.layers.Dense(1, activation='linear'))\n",
    "    return model"
   ]
  },
  {
   "cell_type": "markdown",
   "metadata": {},
   "source": [
    "# Optimizer"
   ]
  },
  {
   "cell_type": "code",
   "execution_count": 13,
   "metadata": {
    "execution": {
     "iopub.execute_input": "2025-01-01T22:12:32.664473Z",
     "iopub.status.busy": "2025-01-01T22:12:32.664192Z",
     "iopub.status.idle": "2025-01-01T22:12:32.670849Z",
     "shell.execute_reply": "2025-01-01T22:12:32.669926Z",
     "shell.execute_reply.started": "2025-01-01T22:12:32.664451Z"
    },
    "trusted": true
   },
   "outputs": [],
   "source": [
    "def create_optimizer(trial):\n",
    "    opt_kwargs = {}\n",
    "    opt_init = trial.suggest_categorical('optimizer', ['SGD', 'Adam', 'Nadam', 'Adamax'])\n",
    "    if opt_init == 'SGD':\n",
    "        opt_kwargs['learning_rate'] = trial.suggest_float('opt_lr', 1e-2, 1e-1, log=True)\n",
    "        opt_kwargs['momentum'] = trial.suggest_float('opt_momentum', 1e-5, 0.1, log=True)\n",
    "        opt_kwargs['nesterov'] = trial.suggest_categorical('opt_nesterov', [True, False])\n",
    "    if opt_init == 'Adam':\n",
    "        opt_kwargs['learning_rate'] = trial.suggest_float('opt_lr', 1e-2, 1e-1, log=True)\n",
    "        opt_kwargs['beta_1'] = trial.suggest_categorical('opt_beta_1', [0.9, 0.95, 0.99, 0.999])\n",
    "        opt_kwargs['beta_2'] = trial.suggest_categorical('opt_beta_2', [0.9, 0.95, 0.99, 0.999])\n",
    "    if opt_init == 'Nadam':\n",
    "        opt_kwargs['learning_rate'] = trial.suggest_float('opt_lr', 1e-2, 1e-1, log=True)\n",
    "        opt_kwargs['beta_1'] = trial.suggest_categorical('opt_beta_1', [0.9, 0.95, 0.99, 0.999])\n",
    "        opt_kwargs['beta_2'] = trial.suggest_categorical('opt_beta_2', [0.9, 0.95, 0.99, 0.999])\n",
    "    if opt_init == 'Adamax':\n",
    "        opt_kwargs['learning_rate'] = trial.suggest_float('opt_lr', 1e-2, 1e-1, log=True)\n",
    "        opt_kwargs['beta_1'] = trial.suggest_categorical('opt_beta_1', [0.9, 0.95, 0.99, 0.999])\n",
    "        opt_kwargs['beta_2'] = trial.suggest_categorical('opt_beta_2', [0.9, 0.95, 0.99, 0.999])\n",
    "    optimizer = getattr(tf.optimizers, opt_init)(**opt_kwargs)\n",
    "    return optimizer"
   ]
  },
  {
   "cell_type": "markdown",
   "metadata": {},
   "source": [
    "# Objective/train"
   ]
  },
  {
   "cell_type": "code",
   "execution_count": 14,
   "metadata": {
    "execution": {
     "iopub.execute_input": "2025-01-01T22:12:34.530251Z",
     "iopub.status.busy": "2025-01-01T22:12:34.529933Z",
     "iopub.status.idle": "2025-01-01T22:12:34.536582Z",
     "shell.execute_reply": "2025-01-01T22:12:34.535618Z",
     "shell.execute_reply.started": "2025-01-01T22:12:34.530227Z"
    },
    "trusted": true
   },
   "outputs": [],
   "source": [
    "INPUT_SHAPE = (14, 3, )\n",
    "\n",
    "def objective(trial):\n",
    "    batch_size = trial.suggest_categorical('batch_size', [32, 64, 128, 256, 512, 1024])\n",
    "    train_ds_repeat, valid_ds_repeat, _, train_num_batches, valid_num_batches, _ = load_data(batch_size=batch_size)\n",
    "    \n",
    "    model = create_model(trial, input_shape=INPUT_SHAPE)\n",
    "    optimizer = create_optimizer(trial)\n",
    "    model.compile(\n",
    "        loss=tf.keras.losses.MeanAbsoluteError(),\n",
    "        optimizer=optimizer,\n",
    "        metrics=[tf.keras.metrics.MeanSquaredError()]\n",
    "    )\n",
    "    \n",
    "    # callbacks\n",
    "    logdir = os.path.join(\"logs/optuna\", datetime.datetime.now().strftime(\"%Y%m%d-%H%M%S\"))\n",
    "    tensorboard_callback = tf.keras.callbacks.TensorBoard(logdir, histogram_freq=1)\n",
    "    earlystopping_callback = tf.keras.callbacks.EarlyStopping(monitor='val_loss', patience=25)\n",
    "    lr_scheduler_callback = tf.keras.callbacks.ReduceLROnPlateau(\n",
    "        monitor='val_loss', patience=10,\n",
    "        factor=trial.suggest_float('lr_scheduler_factor', 0.1, 0.75)\n",
    "    )\n",
    "\n",
    "    history = model.fit(\n",
    "        train_ds_repeat, epochs=500, validation_data=valid_ds_repeat,\n",
    "        steps_per_epoch=train_num_batches, validation_steps=valid_num_batches,\n",
    "        callbacks=[tensorboard_callback, earlystopping_callback, lr_scheduler_callback],\n",
    "        verbose=0\n",
    "    )\n",
    "    print('\\n')\n",
    "    return np.min(history.history['val_loss'])"
   ]
  },
  {
   "cell_type": "markdown",
   "metadata": {},
   "source": [
    "# Run"
   ]
  },
  {
   "cell_type": "code",
   "execution_count": 15,
   "metadata": {
    "execution": {
     "execution_failed": "2025-01-02T08:14:33.404Z",
     "iopub.execute_input": "2025-01-01T22:12:38.191289Z",
     "iopub.status.busy": "2025-01-01T22:12:38.190972Z"
    },
    "trusted": true
   },
   "outputs": [
    {
     "name": "stderr",
     "output_type": "stream",
     "text": [
      "[I 2025-01-09 18:58:31,344] A new study created in RDB with name: study\n"
     ]
    },
    {
     "data": {
      "application/vnd.jupyter.widget-view+json": {
       "model_id": "f8db05080b384919b37b632ac5742163",
       "version_major": 2,
       "version_minor": 0
      },
      "text/plain": [
       "  0%|          | 0/1000 [00:00<?, ?it/s]"
      ]
     },
     "metadata": {},
     "output_type": "display_data"
    },
    {
     "name": "stdout",
     "output_type": "stream",
     "text": [
      "\n",
      "\n",
      "[I 2025-01-09 18:59:55,957] Trial 0 finished with value: 6.088253021240234 and parameters: {'batch_size': 64, 'conv_num_layers': 1, 'filters_conv_0': 32, 'kernel_size_conv_0': 3, 'actv_func_conv_0': 'sigmoid', 'bias_reg_init_conv_layer0': 'l1l2', 'bias_reg_conv_layer_0_l1': 0.25716579576296444, 'bias_reg_conv_layer_0_l2': 0.29624804297413504, 'kernel_reg_init_conv_layer_0': 'l2', 'kernel_reg_conv_layer_0': 0.4744478800729413, 'kernel_initializer_conv_layer_0': 'glorot_uniform', 'padding_last_conv_layer': 'valid', 'nunints_layer_0': 32, 'actv_func_layer_0': 'relu', 'bias_reg_init_layer_0': 'l2', 'bias_reg_layer_0': 0.4474241924787816, 'kernel_reg_init_layer_0': 'l2', 'kernel_reg_layer_0': 0.022709121726377977, 'kernel_initializer_layer_0': 'he_normal', 'num_layers': 1, 'batch_norm': False, 'nunits_layer_1': 64, 'actv_func_layer_1': 'relu', 'bias_reg_init_layer_1': 'l2', 'bias_reg_layer_1': 0.05802294285661235, 'kernel_reg_init_layer_1': 'l1', 'kernel_reg_layer_1': 0.15556006262565952, 'kernel_initializer_layer_1': 'he_normal', 'dropout_rate_layer_1': 0.712531542435772, 'dropout_rate_layer_output': 0.7600242635682806, 'optimizer': 'Adam', 'opt_lr': 0.026763383567660764, 'opt_beta_1': 0.999, 'opt_beta_2': 0.99, 'lr_scheduler_factor': 0.3667488999731593}. Best is trial 0 with value: 6.088253021240234.\n",
      "\n",
      "\n",
      "[I 2025-01-09 20:27:18,749] Trial 1 finished with value: 0.8235551118850708 and parameters: {'batch_size': 1024, 'conv_num_layers': 4, 'filters_conv_0': 32, 'kernel_size_conv_0': 7, 'actv_func_conv_0': 'sigmoid', 'bias_reg_init_conv_layer0': 'l1', 'bias_reg_conv_layer_0': 0.4714605609858683, 'kernel_reg_init_conv_layer_0': 'l1l2', 'kernel_reg_conv_layer_0_l1': 0.4858938631522082, 'kernel_reg_conv_layer_0_l2': 0.4812274027415614, 'kernel_initializer_conv_layer_0': 'lecun_normal', 'filters_conv_1': 16, 'kernel_size_conv_1': 7, 'actv_func_conv_1': 'relu', 'bias_reg_init_conv_layer1': 'l1l2', 'bias_reg_conv_layer_1_l1': 0.09334060334888714, 'bias_reg_conv_layer_1_l2': 0.02048349326322648, 'kernel_reg_init_conv_layer_1': 'l2', 'kernel_reg_conv_layer_1': 0.11332523802144918, 'kernel_initializer_conv_layer_1': 'lecun_uniform', 'filters_conv_2': 8, 'kernel_size_conv_2': 5, 'actv_func_conv_2': 'elu', 'bias_reg_init_conv_layer2': 'l2', 'bias_reg_conv_layer_2': 0.32105161991252845, 'kernel_reg_init_conv_layer_2': 'l1l2', 'kernel_reg_conv_layer_2_l1': 0.004697606103153161, 'kernel_reg_conv_layer_2_l2': 0.050825624278729456, 'kernel_initializer_conv_layer_2': 'lecun_uniform', 'filters_conv_3': 32, 'kernel_size_conv_3': 5, 'actv_func_conv_3': 'sigmoid', 'bias_reg_init_conv_layer3': 'l2', 'bias_reg_conv_layer_3': 0.24630959514005005, 'kernel_reg_init_conv_layer_3': 'l2', 'kernel_reg_conv_layer_3': 0.3227716007239932, 'kernel_initializer_conv_layer_3': 'he_uniform', 'padding_last_conv_layer': 'same', 'nunints_layer_0': 512, 'actv_func_layer_0': 'relu', 'bias_reg_init_layer_0': 'l1l2', 'bias_reg_layer_0_l1': 0.28507357892767354, 'bias_reg_layer_0_l2': 0.04867852923600719, 'kernel_reg_init_layer_0': 'l2', 'kernel_reg_layer_0': 0.4386987986567849, 'kernel_initializer_layer_0': 'lecun_normal', 'num_layers': 2, 'batch_norm': False, 'nunits_layer_1': 288, 'actv_func_layer_1': 'gelu', 'bias_reg_init_layer_1': None, 'kernel_reg_init_layer_1': 'l1l2', 'kernel_reg_layer_1_l1': 0.29545754695844845, 'kernel_reg_layer_1_l2': 0.01534707494453081, 'kernel_initializer_layer_1': 'glorot_normal', 'dropout_rate_layer_1': 0.21560520646934633, 'nunits_layer_2': 320, 'actv_func_layer_2': 'gelu', 'bias_reg_init_layer_2': 'l1', 'bias_reg_layer_2': 0.1354890424059109, 'kernel_reg_init_layer_2': None, 'kernel_initializer_layer_2': 'glorot_uniform', 'dropout_rate_layer_2': 0.5486774380414143, 'dropout_rate_layer_output': 0.7138813267773623, 'optimizer': 'Nadam', 'opt_lr': 0.03583884892516702, 'opt_beta_1': 0.9, 'opt_beta_2': 0.9, 'lr_scheduler_factor': 0.1264737215073306}. Best is trial 1 with value: 0.8235551118850708.\n",
      "\n",
      "\n",
      "[I 2025-01-09 21:48:14,974] Trial 2 finished with value: 0.39198189973831177 and parameters: {'batch_size': 32, 'conv_num_layers': 1, 'filters_conv_0': 16, 'kernel_size_conv_0': 10, 'actv_func_conv_0': 'gelu', 'bias_reg_init_conv_layer0': 'l1l2', 'bias_reg_conv_layer_0_l1': 0.27285383297903587, 'bias_reg_conv_layer_0_l2': 0.47073825790738494, 'kernel_reg_init_conv_layer_0': 'l2', 'kernel_reg_conv_layer_0': 0.034773714307495214, 'kernel_initializer_conv_layer_0': 'he_normal', 'padding_last_conv_layer': 'same', 'nunints_layer_0': 448, 'actv_func_layer_0': 'tanh', 'bias_reg_init_layer_0': 'l1', 'bias_reg_layer_0': 0.4034366861597053, 'kernel_reg_init_layer_0': 'l1', 'kernel_reg_layer_0': 0.1704676897724836, 'kernel_initializer_layer_0': 'glorot_uniform', 'num_layers': 2, 'batch_norm': False, 'nunits_layer_1': 192, 'actv_func_layer_1': 'sigmoid', 'bias_reg_init_layer_1': 'l2', 'bias_reg_layer_1': 0.22427791643696204, 'kernel_reg_init_layer_1': None, 'kernel_initializer_layer_1': 'glorot_uniform', 'dropout_rate_layer_1': 0.44108897087200366, 'nunits_layer_2': 480, 'actv_func_layer_2': 'sigmoid', 'bias_reg_init_layer_2': None, 'kernel_reg_init_layer_2': None, 'kernel_initializer_layer_2': 'lecun_uniform', 'dropout_rate_layer_2': 0.37588332594538487, 'dropout_rate_layer_output': 0.08341721598197009, 'optimizer': 'Adamax', 'opt_lr': 0.012918065501148308, 'opt_beta_1': 0.9, 'opt_beta_2': 0.999, 'lr_scheduler_factor': 0.47918969731315375}. Best is trial 2 with value: 0.39198189973831177.\n",
      "\n",
      "\n",
      "[I 2025-01-09 22:13:02,266] Trial 3 finished with value: 0.8192418813705444 and parameters: {'batch_size': 1024, 'conv_num_layers': 1, 'filters_conv_0': 32, 'kernel_size_conv_0': 7, 'actv_func_conv_0': 'tanh', 'bias_reg_init_conv_layer0': 'l2', 'bias_reg_conv_layer_0': 0.3101042856409882, 'kernel_reg_init_conv_layer_0': 'l1l2', 'kernel_reg_conv_layer_0_l1': 0.2918696903142509, 'kernel_reg_conv_layer_0_l2': 0.03895954501879592, 'kernel_initializer_conv_layer_0': 'glorot_normal', 'padding_last_conv_layer': 'same', 'nunints_layer_0': 480, 'actv_func_layer_0': 'leaky_relu', 'bias_reg_init_layer_0': 'l1', 'bias_reg_layer_0': 0.40529561005783826, 'kernel_reg_init_layer_0': 'l1', 'kernel_reg_layer_0': 0.48496020746752017, 'kernel_initializer_layer_0': 'glorot_uniform', 'num_layers': 2, 'batch_norm': False, 'nunits_layer_1': 512, 'actv_func_layer_1': 'elu', 'bias_reg_init_layer_1': 'l2', 'bias_reg_layer_1': 0.33588317213448776, 'kernel_reg_init_layer_1': None, 'kernel_initializer_layer_1': 'he_normal', 'dropout_rate_layer_1': 0.8757769490556867, 'nunits_layer_2': 224, 'actv_func_layer_2': 'elu', 'bias_reg_init_layer_2': None, 'kernel_reg_init_layer_2': 'l1l2', 'kernel_reg_layer_2_l1': 0.2570433456309894, 'kernel_reg_layer_2_l2': 0.39184814106929744, 'kernel_initializer_layer_2': 'he_normal', 'dropout_rate_layer_2': 0.49162417678645864, 'dropout_rate_layer_output': 0.2579861439106594, 'optimizer': 'Adam', 'opt_lr': 0.04299330724151747, 'opt_beta_1': 0.9, 'opt_beta_2': 0.99, 'lr_scheduler_factor': 0.3246837341605111}. Best is trial 2 with value: 0.39198189973831177.\n",
      "\n",
      "\n",
      "[I 2025-01-09 22:57:09,171] Trial 4 finished with value: 0.8203496932983398 and parameters: {'batch_size': 32, 'conv_num_layers': 1, 'filters_conv_0': 32, 'kernel_size_conv_0': 10, 'actv_func_conv_0': 'tanh', 'bias_reg_init_conv_layer0': 'l2', 'bias_reg_conv_layer_0': 0.10475372673602149, 'kernel_reg_init_conv_layer_0': 'l1l2', 'kernel_reg_conv_layer_0_l1': 0.23132110459496064, 'kernel_reg_conv_layer_0_l2': 0.37376072197306487, 'kernel_initializer_conv_layer_0': 'he_normal', 'padding_last_conv_layer': 'valid', 'nunints_layer_0': 288, 'actv_func_layer_0': 'elu', 'bias_reg_init_layer_0': 'l1l2', 'bias_reg_layer_0_l1': 0.33958324934033035, 'bias_reg_layer_0_l2': 0.3946067021798084, 'kernel_reg_init_layer_0': None, 'kernel_initializer_layer_0': 'glorot_uniform', 'num_layers': 1, 'batch_norm': False, 'nunits_layer_1': 320, 'actv_func_layer_1': 'sigmoid', 'bias_reg_init_layer_1': 'l1l2', 'bias_reg_layer_1_l1': 0.2623032436461703, 'bias_reg_layer_1_l2': 0.20525737381213177, 'kernel_reg_init_layer_1': 'l1', 'kernel_reg_layer_1': 0.4327670122344007, 'kernel_initializer_layer_1': 'lecun_uniform', 'dropout_rate_layer_1': 0.5710410767804299, 'dropout_rate_layer_output': 0.2796991145666239, 'optimizer': 'SGD', 'opt_lr': 0.03218180349618079, 'opt_momentum': 9.324787201197318e-05, 'opt_nesterov': False, 'lr_scheduler_factor': 0.28760985960616625}. Best is trial 2 with value: 0.39198189973831177.\n",
      "\n",
      "\n",
      "[I 2025-01-09 23:41:40,438] Trial 5 finished with value: 0.81781005859375 and parameters: {'batch_size': 32, 'conv_num_layers': 1, 'filters_conv_0': 4, 'kernel_size_conv_0': 5, 'actv_func_conv_0': 'sigmoid', 'bias_reg_init_conv_layer0': 'l1', 'bias_reg_conv_layer_0': 0.287279109278638, 'kernel_reg_init_conv_layer_0': 'l1', 'kernel_reg_conv_layer_0': 0.08191160583856569, 'kernel_initializer_conv_layer_0': 'lecun_normal', 'padding_last_conv_layer': 'valid', 'nunints_layer_0': 256, 'actv_func_layer_0': 'sigmoid', 'bias_reg_init_layer_0': None, 'kernel_reg_init_layer_0': 'l1l2', 'kernel_reg_layer_0_l1': 0.16751931676707735, 'kernel_reg_layer_0_l2': 0.06972210912442729, 'kernel_initializer_layer_0': 'he_normal', 'num_layers': 0, 'batch_norm': False, 'dropout_rate_layer_output': 0.033498902301043604, 'optimizer': 'Nadam', 'opt_lr': 0.06626089606472355, 'opt_beta_1': 0.95, 'opt_beta_2': 0.9, 'lr_scheduler_factor': 0.5680237487549483}. Best is trial 2 with value: 0.39198189973831177.\n",
      "\n",
      "\n",
      "[I 2025-01-10 00:36:49,613] Trial 6 finished with value: 0.8205260634422302 and parameters: {'batch_size': 64, 'conv_num_layers': 4, 'filters_conv_0': 16, 'kernel_size_conv_0': 14, 'actv_func_conv_0': 'relu', 'bias_reg_init_conv_layer0': None, 'kernel_reg_init_conv_layer_0': 'l1', 'kernel_reg_conv_layer_0': 0.49242211536127106, 'kernel_initializer_conv_layer_0': 'he_uniform', 'filters_conv_1': 16, 'kernel_size_conv_1': 10, 'actv_func_conv_1': 'leaky_relu', 'bias_reg_init_conv_layer1': None, 'kernel_reg_init_conv_layer_1': 'l1l2', 'kernel_reg_conv_layer_1_l1': 0.33180233227115363, 'kernel_reg_conv_layer_1_l2': 0.08910017983818874, 'kernel_initializer_conv_layer_1': 'lecun_uniform', 'filters_conv_2': 32, 'kernel_size_conv_2': 14, 'actv_func_conv_2': 'leaky_relu', 'bias_reg_init_conv_layer2': None, 'kernel_reg_init_conv_layer_2': 'l1', 'kernel_reg_conv_layer_2': 0.20442621213193837, 'kernel_initializer_conv_layer_2': 'he_uniform', 'filters_conv_3': 32, 'kernel_size_conv_3': 5, 'actv_func_conv_3': 'leaky_relu', 'bias_reg_init_conv_layer3': 'l2', 'bias_reg_conv_layer_3': 0.10402233894749906, 'kernel_reg_init_conv_layer_3': 'l1l2', 'kernel_reg_conv_layer_3_l1': 0.4463465883673797, 'kernel_reg_conv_layer_3_l2': 0.40874003651304663, 'kernel_initializer_conv_layer_3': 'lecun_normal', 'padding_last_conv_layer': 'valid', 'nunints_layer_0': 224, 'actv_func_layer_0': 'leaky_relu', 'bias_reg_init_layer_0': 'l1', 'bias_reg_layer_0': 0.13441181195653454, 'kernel_reg_init_layer_0': 'l2', 'kernel_reg_layer_0': 0.4174816253759696, 'kernel_initializer_layer_0': 'glorot_uniform', 'num_layers': 0, 'batch_norm': True, 'dropout_rate_layer_output': 0.5536238245132776, 'optimizer': 'Adam', 'opt_lr': 0.013705207967837672, 'opt_beta_1': 0.9, 'opt_beta_2': 0.99, 'lr_scheduler_factor': 0.34904004336217337}. Best is trial 2 with value: 0.39198189973831177.\n",
      "\n",
      "\n",
      "[I 2025-01-10 01:00:14,278] Trial 7 finished with value: 1.4204496145248413 and parameters: {'batch_size': 256, 'conv_num_layers': 1, 'filters_conv_0': 16, 'kernel_size_conv_0': 10, 'actv_func_conv_0': 'sigmoid', 'bias_reg_init_conv_layer0': 'l1l2', 'bias_reg_conv_layer_0_l1': 0.0376613770897308, 'bias_reg_conv_layer_0_l2': 0.36412155922618133, 'kernel_reg_init_conv_layer_0': 'l2', 'kernel_reg_conv_layer_0': 0.40956924860533245, 'kernel_initializer_conv_layer_0': 'glorot_uniform', 'padding_last_conv_layer': 'same', 'nunints_layer_0': 512, 'actv_func_layer_0': 'sigmoid', 'bias_reg_init_layer_0': 'l1l2', 'bias_reg_layer_0_l1': 0.24476353932520592, 'bias_reg_layer_0_l2': 0.11068259996561916, 'kernel_reg_init_layer_0': 'l1', 'kernel_reg_layer_0': 0.46263163387609135, 'kernel_initializer_layer_0': 'he_uniform', 'num_layers': 2, 'batch_norm': True, 'nunits_layer_1': 256, 'actv_func_layer_1': 'relu', 'bias_reg_init_layer_1': None, 'kernel_reg_init_layer_1': 'l2', 'kernel_reg_layer_1': 0.2697916970584311, 'kernel_initializer_layer_1': 'he_normal', 'dropout_rate_layer_1': 0.02437638077498148, 'nunits_layer_2': 448, 'actv_func_layer_2': 'gelu', 'bias_reg_init_layer_2': 'l2', 'bias_reg_layer_2': 0.3137899810628632, 'kernel_reg_init_layer_2': 'l2', 'kernel_reg_layer_2': 0.21073636543830737, 'kernel_initializer_layer_2': 'glorot_uniform', 'dropout_rate_layer_2': 0.23337414329886003, 'dropout_rate_layer_output': 0.04205109644672552, 'optimizer': 'Adam', 'opt_lr': 0.04782415251458687, 'opt_beta_1': 0.95, 'opt_beta_2': 0.99, 'lr_scheduler_factor': 0.49871740298696}. Best is trial 2 with value: 0.39198189973831177.\n",
      "\n",
      "\n",
      "[I 2025-01-10 01:57:28,142] Trial 8 finished with value: 27.447128295898438 and parameters: {'batch_size': 64, 'conv_num_layers': 3, 'filters_conv_0': 32, 'kernel_size_conv_0': 7, 'actv_func_conv_0': 'relu', 'bias_reg_init_conv_layer0': 'l1', 'bias_reg_conv_layer_0': 0.2965106734273674, 'kernel_reg_init_conv_layer_0': 'l1l2', 'kernel_reg_conv_layer_0_l1': 0.06484450914927381, 'kernel_reg_conv_layer_0_l2': 0.4443851651265017, 'kernel_initializer_conv_layer_0': 'glorot_uniform', 'filters_conv_1': 16, 'kernel_size_conv_1': 14, 'actv_func_conv_1': 'sigmoid', 'bias_reg_init_conv_layer1': 'l1l2', 'bias_reg_conv_layer_1_l1': 0.3292600721457469, 'bias_reg_conv_layer_1_l2': 0.4253058063742115, 'kernel_reg_init_conv_layer_1': 'l1', 'kernel_reg_conv_layer_1': 0.34010237180297415, 'kernel_initializer_conv_layer_1': 'he_normal', 'filters_conv_2': 2, 'kernel_size_conv_2': 5, 'actv_func_conv_2': 'leaky_relu', 'bias_reg_init_conv_layer2': 'l1', 'bias_reg_conv_layer_2': 0.4814997027291114, 'kernel_reg_init_conv_layer_2': 'l1l2', 'kernel_reg_conv_layer_2_l1': 0.46862052076950195, 'kernel_reg_conv_layer_2_l2': 0.3439740725781766, 'kernel_initializer_conv_layer_2': 'he_uniform', 'padding_last_conv_layer': 'same', 'nunints_layer_0': 448, 'actv_func_layer_0': 'relu', 'bias_reg_init_layer_0': None, 'kernel_reg_init_layer_0': None, 'kernel_initializer_layer_0': 'he_normal', 'num_layers': 0, 'batch_norm': True, 'dropout_rate_layer_output': 0.27298626747121113, 'optimizer': 'SGD', 'opt_lr': 0.02628617028154097, 'opt_momentum': 0.003581820276578069, 'opt_nesterov': True, 'lr_scheduler_factor': 0.7395854711738884}. Best is trial 2 with value: 0.39198189973831177.\n",
      "\n",
      "\n",
      "[I 2025-01-10 02:05:42,452] Trial 9 finished with value: 0.3418700695037842 and parameters: {'batch_size': 64, 'conv_num_layers': 2, 'filters_conv_0': 8, 'kernel_size_conv_0': 7, 'actv_func_conv_0': 'elu', 'bias_reg_init_conv_layer0': 'l1l2', 'bias_reg_conv_layer_0_l1': 0.10034231087749833, 'bias_reg_conv_layer_0_l2': 0.2458481139160443, 'kernel_reg_init_conv_layer_0': None, 'kernel_initializer_conv_layer_0': 'lecun_normal', 'filters_conv_1': 16, 'kernel_size_conv_1': 14, 'actv_func_conv_1': 'sigmoid', 'bias_reg_init_conv_layer1': 'l2', 'bias_reg_conv_layer_1': 0.016698234084804146, 'kernel_reg_init_conv_layer_1': None, 'kernel_initializer_conv_layer_1': 'glorot_normal', 'padding_last_conv_layer': 'same', 'nunints_layer_0': 480, 'actv_func_layer_0': 'sigmoid', 'bias_reg_init_layer_0': None, 'kernel_reg_init_layer_0': 'l2', 'kernel_reg_layer_0': 0.263248690201963, 'kernel_initializer_layer_0': 'lecun_normal', 'num_layers': 0, 'batch_norm': True, 'dropout_rate_layer_output': 0.18193579777301058, 'optimizer': 'SGD', 'opt_lr': 0.0523843763966232, 'opt_momentum': 8.200096539027468e-05, 'opt_nesterov': True, 'lr_scheduler_factor': 0.5227116961255089}. Best is trial 9 with value: 0.3418700695037842.\n",
      "\n",
      "\n",
      "[I 2025-01-10 03:00:34,773] Trial 10 finished with value: 0.8194906115531921 and parameters: {'batch_size': 64, 'conv_num_layers': 4, 'filters_conv_0': 4, 'kernel_size_conv_0': 3, 'actv_func_conv_0': 'sigmoid', 'bias_reg_init_conv_layer0': 'l2', 'bias_reg_conv_layer_0': 0.31581695402425103, 'kernel_reg_init_conv_layer_0': None, 'kernel_initializer_conv_layer_0': 'he_uniform', 'filters_conv_1': 4, 'kernel_size_conv_1': 10, 'actv_func_conv_1': 'tanh', 'bias_reg_init_conv_layer1': None, 'kernel_reg_init_conv_layer_1': 'l2', 'kernel_reg_conv_layer_1': 0.30861077880335464, 'kernel_initializer_conv_layer_1': 'lecun_uniform', 'filters_conv_2': 32, 'kernel_size_conv_2': 14, 'actv_func_conv_2': 'relu', 'bias_reg_init_conv_layer2': None, 'kernel_reg_init_conv_layer_2': 'l1', 'kernel_reg_conv_layer_2': 0.43397235543055906, 'kernel_initializer_conv_layer_2': 'he_normal', 'filters_conv_3': 32, 'kernel_size_conv_3': 10, 'actv_func_conv_3': 'elu', 'bias_reg_init_conv_layer3': None, 'kernel_reg_init_conv_layer_3': 'l1', 'kernel_reg_conv_layer_3': 0.1969928163865138, 'kernel_initializer_conv_layer_3': 'he_normal', 'padding_last_conv_layer': 'valid', 'nunints_layer_0': 416, 'actv_func_layer_0': 'elu', 'bias_reg_init_layer_0': 'l1', 'bias_reg_layer_0': 0.4089353246658933, 'kernel_reg_init_layer_0': 'l2', 'kernel_reg_layer_0': 0.18329412128221179, 'kernel_initializer_layer_0': 'glorot_normal', 'num_layers': 0, 'batch_norm': False, 'dropout_rate_layer_output': 0.6675445857564613, 'optimizer': 'Adamax', 'opt_lr': 0.03304317611738494, 'opt_beta_1': 0.9, 'opt_beta_2': 0.999, 'lr_scheduler_factor': 0.5971741200023833}. Best is trial 9 with value: 0.3418700695037842.\n",
      "\n",
      "\n",
      "[I 2025-01-10 03:16:30,266] Trial 11 finished with value: 0.8188067674636841 and parameters: {'batch_size': 128, 'conv_num_layers': 3, 'filters_conv_0': 32, 'kernel_size_conv_0': 7, 'actv_func_conv_0': 'leaky_relu', 'bias_reg_init_conv_layer0': 'l2', 'bias_reg_conv_layer_0': 0.3405908151970949, 'kernel_reg_init_conv_layer_0': 'l1l2', 'kernel_reg_conv_layer_0_l1': 0.2836993785924889, 'kernel_reg_conv_layer_0_l2': 0.12835573557231172, 'kernel_initializer_conv_layer_0': 'glorot_uniform', 'filters_conv_1': 2, 'kernel_size_conv_1': 14, 'actv_func_conv_1': 'tanh', 'bias_reg_init_conv_layer1': 'l1', 'bias_reg_conv_layer_1': 0.2933455707414195, 'kernel_reg_init_conv_layer_1': 'l1l2', 'kernel_reg_conv_layer_1_l1': 0.04794770630452885, 'kernel_reg_conv_layer_1_l2': 0.011916929164563564, 'kernel_initializer_conv_layer_1': 'glorot_uniform', 'filters_conv_2': 4, 'kernel_size_conv_2': 10, 'actv_func_conv_2': 'leaky_relu', 'bias_reg_init_conv_layer2': 'l1', 'bias_reg_conv_layer_2': 0.17756265328538545, 'kernel_reg_init_conv_layer_2': None, 'kernel_initializer_conv_layer_2': 'he_uniform', 'padding_last_conv_layer': 'valid', 'nunints_layer_0': 512, 'actv_func_layer_0': 'elu', 'bias_reg_init_layer_0': 'l1', 'bias_reg_layer_0': 0.2679602594680933, 'kernel_reg_init_layer_0': 'l1l2', 'kernel_reg_layer_0_l1': 0.3324893710711603, 'kernel_reg_layer_0_l2': 0.3977454353987856, 'kernel_initializer_layer_0': 'lecun_uniform', 'num_layers': 1, 'batch_norm': True, 'nunits_layer_1': 320, 'actv_func_layer_1': 'sigmoid', 'bias_reg_init_layer_1': None, 'kernel_reg_init_layer_1': 'l2', 'kernel_reg_layer_1': 0.19855106038543427, 'kernel_initializer_layer_1': 'lecun_normal', 'dropout_rate_layer_1': 0.8505735327873506, 'dropout_rate_layer_output': 0.20830200384297848, 'optimizer': 'SGD', 'opt_lr': 0.07550475808649676, 'opt_momentum': 0.029663798365255723, 'opt_nesterov': True, 'lr_scheduler_factor': 0.2980414404137265}. Best is trial 9 with value: 0.3418700695037842.\n",
      "\n",
      "\n",
      "[I 2025-01-10 03:17:22,167] Trial 12 finished with value: 24.74837303161621 and parameters: {'batch_size': 1024, 'conv_num_layers': 3, 'filters_conv_0': 16, 'kernel_size_conv_0': 5, 'actv_func_conv_0': 'gelu', 'bias_reg_init_conv_layer0': 'l2', 'bias_reg_conv_layer_0': 0.25312031723383804, 'kernel_reg_init_conv_layer_0': 'l1l2', 'kernel_reg_conv_layer_0_l1': 0.309832018653425, 'kernel_reg_conv_layer_0_l2': 0.32513552608983687, 'kernel_initializer_conv_layer_0': 'lecun_normal', 'filters_conv_1': 8, 'kernel_size_conv_1': 10, 'actv_func_conv_1': 'leaky_relu', 'bias_reg_init_conv_layer1': None, 'kernel_reg_init_conv_layer_1': 'l1', 'kernel_reg_conv_layer_1': 0.41378619399388045, 'kernel_initializer_conv_layer_1': 'glorot_normal', 'filters_conv_2': 4, 'kernel_size_conv_2': 7, 'actv_func_conv_2': 'tanh', 'bias_reg_init_conv_layer2': None, 'kernel_reg_init_conv_layer_2': 'l1', 'kernel_reg_conv_layer_2': 0.3925297702641447, 'kernel_initializer_conv_layer_2': 'glorot_normal', 'padding_last_conv_layer': 'valid', 'nunints_layer_0': 32, 'actv_func_layer_0': 'relu', 'bias_reg_init_layer_0': 'l1', 'bias_reg_layer_0': 0.3687431409838706, 'kernel_reg_init_layer_0': 'l2', 'kernel_reg_layer_0': 0.35819006169253487, 'kernel_initializer_layer_0': 'he_normal', 'num_layers': 0, 'batch_norm': False, 'dropout_rate_layer_output': 0.660709240459344, 'optimizer': 'Adamax', 'opt_lr': 0.05812629774872054, 'opt_beta_1': 0.999, 'opt_beta_2': 0.95, 'lr_scheduler_factor': 0.23369672042711084}. Best is trial 9 with value: 0.3418700695037842.\n",
      "\n",
      "\n",
      "[I 2025-01-10 04:15:19,389] Trial 13 finished with value: 0.8267135620117188 and parameters: {'batch_size': 128, 'conv_num_layers': 4, 'filters_conv_0': 8, 'kernel_size_conv_0': 5, 'actv_func_conv_0': 'relu', 'bias_reg_init_conv_layer0': 'l1', 'bias_reg_conv_layer_0': 0.44347375761461383, 'kernel_reg_init_conv_layer_0': None, 'kernel_initializer_conv_layer_0': 'glorot_normal', 'filters_conv_1': 4, 'kernel_size_conv_1': 3, 'actv_func_conv_1': 'tanh', 'bias_reg_init_conv_layer1': 'l2', 'bias_reg_conv_layer_1': 0.28255449423022216, 'kernel_reg_init_conv_layer_1': 'l2', 'kernel_reg_conv_layer_1': 0.08011981031379105, 'kernel_initializer_conv_layer_1': 'lecun_uniform', 'filters_conv_2': 4, 'kernel_size_conv_2': 10, 'actv_func_conv_2': 'gelu', 'bias_reg_init_conv_layer2': 'l1', 'bias_reg_conv_layer_2': 0.4383377158379175, 'kernel_reg_init_conv_layer_2': 'l1', 'kernel_reg_conv_layer_2': 0.44310927065449074, 'kernel_initializer_conv_layer_2': 'he_normal', 'filters_conv_3': 4, 'kernel_size_conv_3': 3, 'actv_func_conv_3': 'tanh', 'bias_reg_init_conv_layer3': None, 'kernel_reg_init_conv_layer_3': 'l2', 'kernel_reg_conv_layer_3': 0.07381151810047135, 'kernel_initializer_conv_layer_3': 'lecun_normal', 'padding_last_conv_layer': 'same', 'nunints_layer_0': 352, 'actv_func_layer_0': 'gelu', 'bias_reg_init_layer_0': 'l1l2', 'bias_reg_layer_0_l1': 0.18118149728197896, 'bias_reg_layer_0_l2': 0.16732219324209188, 'kernel_reg_init_layer_0': 'l1l2', 'kernel_reg_layer_0_l1': 0.2590875752427838, 'kernel_reg_layer_0_l2': 0.14943291423702765, 'kernel_initializer_layer_0': 'glorot_uniform', 'num_layers': 2, 'batch_norm': False, 'nunits_layer_1': 96, 'actv_func_layer_1': 'gelu', 'bias_reg_init_layer_1': None, 'kernel_reg_init_layer_1': 'l2', 'kernel_reg_layer_1': 0.14116531863913073, 'kernel_initializer_layer_1': 'he_uniform', 'dropout_rate_layer_1': 0.44929010260808944, 'nunits_layer_2': 416, 'actv_func_layer_2': 'tanh', 'bias_reg_init_layer_2': None, 'kernel_reg_init_layer_2': 'l1l2', 'kernel_reg_layer_2_l1': 0.4684175487703426, 'kernel_reg_layer_2_l2': 0.02622371385508328, 'kernel_initializer_layer_2': 'he_normal', 'dropout_rate_layer_2': 0.19789953512698039, 'dropout_rate_layer_output': 0.5647649243170383, 'optimizer': 'Adam', 'opt_lr': 0.01300456365770591, 'opt_beta_1': 0.999, 'opt_beta_2': 0.999, 'lr_scheduler_factor': 0.5698292970855144}. Best is trial 9 with value: 0.3418700695037842.\n",
      "\n",
      "\n",
      "[I 2025-01-10 05:02:56,504] Trial 14 finished with value: 0.8185569047927856 and parameters: {'batch_size': 64, 'conv_num_layers': 1, 'filters_conv_0': 2, 'kernel_size_conv_0': 14, 'actv_func_conv_0': 'elu', 'bias_reg_init_conv_layer0': 'l2', 'bias_reg_conv_layer_0': 0.4389272560682052, 'kernel_reg_init_conv_layer_0': 'l1', 'kernel_reg_conv_layer_0': 0.49249632910482344, 'kernel_initializer_conv_layer_0': 'lecun_uniform', 'padding_last_conv_layer': 'same', 'nunints_layer_0': 352, 'actv_func_layer_0': 'sigmoid', 'bias_reg_init_layer_0': 'l2', 'bias_reg_layer_0': 0.39897728839198543, 'kernel_reg_init_layer_0': 'l2', 'kernel_reg_layer_0': 0.34797996917258434, 'kernel_initializer_layer_0': 'lecun_normal', 'num_layers': 0, 'batch_norm': True, 'dropout_rate_layer_output': 0.8930957202978625, 'optimizer': 'SGD', 'opt_lr': 0.01211892464313659, 'opt_momentum': 0.033858325330610756, 'opt_nesterov': True, 'lr_scheduler_factor': 0.7286322999184608}. Best is trial 9 with value: 0.3418700695037842.\n",
      "\n",
      "\n",
      "[I 2025-01-10 05:37:54,385] Trial 15 finished with value: 0.817854106426239 and parameters: {'batch_size': 64, 'conv_num_layers': 2, 'filters_conv_0': 32, 'kernel_size_conv_0': 3, 'actv_func_conv_0': 'gelu', 'bias_reg_init_conv_layer0': None, 'kernel_reg_init_conv_layer_0': None, 'kernel_initializer_conv_layer_0': 'lecun_normal', 'filters_conv_1': 16, 'kernel_size_conv_1': 3, 'actv_func_conv_1': 'sigmoid', 'bias_reg_init_conv_layer1': 'l1l2', 'bias_reg_conv_layer_1_l1': 0.15272480728069596, 'bias_reg_conv_layer_1_l2': 0.10640092374791095, 'kernel_reg_init_conv_layer_1': None, 'kernel_initializer_conv_layer_1': 'lecun_normal', 'padding_last_conv_layer': 'same', 'nunints_layer_0': 64, 'actv_func_layer_0': 'gelu', 'bias_reg_init_layer_0': None, 'kernel_reg_init_layer_0': 'l1', 'kernel_reg_layer_0': 0.4553940038057932, 'kernel_initializer_layer_0': 'he_normal', 'num_layers': 2, 'batch_norm': False, 'nunits_layer_1': 64, 'actv_func_layer_1': 'relu', 'bias_reg_init_layer_1': 'l2', 'bias_reg_layer_1': 0.3716222800459285, 'kernel_reg_init_layer_1': 'l2', 'kernel_reg_layer_1': 0.29665146289668143, 'kernel_initializer_layer_1': 'glorot_uniform', 'dropout_rate_layer_1': 0.5822240282484061, 'nunits_layer_2': 512, 'actv_func_layer_2': 'relu', 'bias_reg_init_layer_2': 'l2', 'bias_reg_layer_2': 0.43950155225110543, 'kernel_reg_init_layer_2': 'l1', 'kernel_reg_layer_2': 0.21735452083327, 'kernel_initializer_layer_2': 'he_uniform', 'dropout_rate_layer_2': 0.5911054651440192, 'dropout_rate_layer_output': 0.7019311393124308, 'optimizer': 'Adam', 'opt_lr': 0.030737395738674046, 'opt_beta_1': 0.95, 'opt_beta_2': 0.95, 'lr_scheduler_factor': 0.33520451058334017}. Best is trial 9 with value: 0.3418700695037842.\n",
      "\n",
      "\n",
      "[I 2025-01-10 05:39:01,437] Trial 16 finished with value: 565.45703125 and parameters: {'batch_size': 512, 'conv_num_layers': 2, 'filters_conv_0': 4, 'kernel_size_conv_0': 7, 'actv_func_conv_0': 'gelu', 'bias_reg_init_conv_layer0': 'l1l2', 'bias_reg_conv_layer_0_l1': 0.17267704908656586, 'bias_reg_conv_layer_0_l2': 0.25375522816503265, 'kernel_reg_init_conv_layer_0': None, 'kernel_initializer_conv_layer_0': 'lecun_normal', 'filters_conv_1': 32, 'kernel_size_conv_1': 3, 'actv_func_conv_1': 'elu', 'bias_reg_init_conv_layer1': None, 'kernel_reg_init_conv_layer_1': None, 'kernel_initializer_conv_layer_1': 'glorot_normal', 'padding_last_conv_layer': 'same', 'nunints_layer_0': 448, 'actv_func_layer_0': 'elu', 'bias_reg_init_layer_0': None, 'kernel_reg_init_layer_0': 'l1', 'kernel_reg_layer_0': 0.17164935985101185, 'kernel_initializer_layer_0': 'he_uniform', 'num_layers': 0, 'batch_norm': False, 'dropout_rate_layer_output': 0.4459730968851806, 'optimizer': 'Adamax', 'opt_lr': 0.026976476271669086, 'opt_beta_1': 0.999, 'opt_beta_2': 0.9, 'lr_scheduler_factor': 0.37984407000043496}. Best is trial 9 with value: 0.3418700695037842.\n",
      "\n",
      "\n",
      "[I 2025-01-10 06:23:26,896] Trial 17 finished with value: 0.81781005859375 and parameters: {'batch_size': 64, 'conv_num_layers': 3, 'filters_conv_0': 32, 'kernel_size_conv_0': 10, 'actv_func_conv_0': 'gelu', 'bias_reg_init_conv_layer0': None, 'kernel_reg_init_conv_layer_0': 'l1l2', 'kernel_reg_conv_layer_0_l1': 0.14469346150912998, 'kernel_reg_conv_layer_0_l2': 0.4500515831899387, 'kernel_initializer_conv_layer_0': 'glorot_normal', 'filters_conv_1': 2, 'kernel_size_conv_1': 10, 'actv_func_conv_1': 'leaky_relu', 'bias_reg_init_conv_layer1': None, 'kernel_reg_init_conv_layer_1': 'l1l2', 'kernel_reg_conv_layer_1_l1': 0.22207747022618124, 'kernel_reg_conv_layer_1_l2': 0.3131545372783898, 'kernel_initializer_conv_layer_1': 'he_uniform', 'filters_conv_2': 2, 'kernel_size_conv_2': 7, 'actv_func_conv_2': 'leaky_relu', 'bias_reg_init_conv_layer2': 'l1l2', 'bias_reg_conv_layer_2_l1': 0.2313915349721902, 'bias_reg_conv_layer_2_l2': 0.4904955903435263, 'kernel_reg_init_conv_layer_2': 'l2', 'kernel_reg_conv_layer_2': 0.1429631994073825, 'kernel_initializer_conv_layer_2': 'glorot_normal', 'padding_last_conv_layer': 'valid', 'nunints_layer_0': 224, 'actv_func_layer_0': 'sigmoid', 'bias_reg_init_layer_0': None, 'kernel_reg_init_layer_0': 'l2', 'kernel_reg_layer_0': 0.3133335962954958, 'kernel_initializer_layer_0': 'glorot_uniform', 'num_layers': 0, 'batch_norm': False, 'dropout_rate_layer_output': 0.8036327704718255, 'optimizer': 'Nadam', 'opt_lr': 0.0994994902231437, 'opt_beta_1': 0.95, 'opt_beta_2': 0.95, 'lr_scheduler_factor': 0.5897281494670299}. Best is trial 9 with value: 0.3418700695037842.\n",
      "\n",
      "\n",
      "[I 2025-01-10 06:43:32,893] Trial 18 finished with value: 0.37239527702331543 and parameters: {'batch_size': 256, 'conv_num_layers': 2, 'filters_conv_0': 4, 'kernel_size_conv_0': 14, 'actv_func_conv_0': 'tanh', 'bias_reg_init_conv_layer0': 'l1l2', 'bias_reg_conv_layer_0_l1': 0.11626892309571832, 'bias_reg_conv_layer_0_l2': 0.1405741490044659, 'kernel_reg_init_conv_layer_0': 'l2', 'kernel_reg_conv_layer_0': 0.16081570105381618, 'kernel_initializer_conv_layer_0': 'he_normal', 'filters_conv_1': 8, 'kernel_size_conv_1': 10, 'actv_func_conv_1': 'leaky_relu', 'bias_reg_init_conv_layer1': 'l1', 'bias_reg_conv_layer_1': 0.0670007986635466, 'kernel_reg_init_conv_layer_1': 'l1l2', 'kernel_reg_conv_layer_1_l1': 0.0001673330329422115, 'kernel_reg_conv_layer_1_l2': 0.25561345670469116, 'kernel_initializer_conv_layer_1': 'lecun_uniform', 'padding_last_conv_layer': 'valid', 'nunints_layer_0': 192, 'actv_func_layer_0': 'sigmoid', 'bias_reg_init_layer_0': 'l1l2', 'bias_reg_layer_0_l1': 0.4820428004034051, 'bias_reg_layer_0_l2': 0.04473583331033391, 'kernel_reg_init_layer_0': 'l1', 'kernel_reg_layer_0': 0.3519581601080022, 'kernel_initializer_layer_0': 'lecun_uniform', 'num_layers': 2, 'batch_norm': True, 'nunits_layer_1': 64, 'actv_func_layer_1': 'tanh', 'bias_reg_init_layer_1': 'l2', 'bias_reg_layer_1': 0.1849696466679896, 'kernel_reg_init_layer_1': None, 'kernel_initializer_layer_1': 'lecun_uniform', 'dropout_rate_layer_1': 0.6771353871097342, 'nunits_layer_2': 320, 'actv_func_layer_2': 'sigmoid', 'bias_reg_init_layer_2': None, 'kernel_reg_init_layer_2': 'l2', 'kernel_reg_layer_2': 0.2579793651658928, 'kernel_initializer_layer_2': 'glorot_normal', 'dropout_rate_layer_2': 0.12424403060150971, 'dropout_rate_layer_output': 0.41322903224371665, 'optimizer': 'Adamax', 'opt_lr': 0.01023113513901766, 'opt_beta_1': 0.95, 'opt_beta_2': 0.95, 'lr_scheduler_factor': 0.7344089851314889}. Best is trial 9 with value: 0.3418700695037842.\n",
      "\n",
      "\n",
      "[I 2025-01-10 06:56:49,879] Trial 19 finished with value: 0.2901800274848938 and parameters: {'batch_size': 256, 'conv_num_layers': 1, 'filters_conv_0': 4, 'kernel_size_conv_0': 10, 'actv_func_conv_0': 'leaky_relu', 'bias_reg_init_conv_layer0': 'l1', 'bias_reg_conv_layer_0': 0.24209012714812977, 'kernel_reg_init_conv_layer_0': None, 'kernel_initializer_conv_layer_0': 'he_uniform', 'padding_last_conv_layer': 'same', 'nunints_layer_0': 128, 'actv_func_layer_0': 'gelu', 'bias_reg_init_layer_0': 'l1l2', 'bias_reg_layer_0_l1': 0.17266158502625584, 'bias_reg_layer_0_l2': 0.4587511729816819, 'kernel_reg_init_layer_0': 'l1l2', 'kernel_reg_layer_0_l1': 0.031195392759734906, 'kernel_reg_layer_0_l2': 0.07373679183505728, 'kernel_initializer_layer_0': 'lecun_uniform', 'num_layers': 0, 'batch_norm': False, 'dropout_rate_layer_output': 0.07616297875559092, 'optimizer': 'Adam', 'opt_lr': 0.02709043646659331, 'opt_beta_1': 0.99, 'opt_beta_2': 0.99, 'lr_scheduler_factor': 0.6549601991080336}. Best is trial 19 with value: 0.2901800274848938.\n",
      "\n",
      "\n",
      "[I 2025-01-10 07:22:57,418] Trial 20 finished with value: 0.3013736605644226 and parameters: {'batch_size': 512, 'conv_num_layers': 4, 'filters_conv_0': 16, 'kernel_size_conv_0': 5, 'actv_func_conv_0': 'sigmoid', 'bias_reg_init_conv_layer0': 'l2', 'bias_reg_conv_layer_0': 0.33333357947540493, 'kernel_reg_init_conv_layer_0': 'l1l2', 'kernel_reg_conv_layer_0_l1': 0.006150348076376102, 'kernel_reg_conv_layer_0_l2': 0.00461833069273816, 'kernel_initializer_conv_layer_0': 'glorot_normal', 'filters_conv_1': 2, 'kernel_size_conv_1': 5, 'actv_func_conv_1': 'leaky_relu', 'bias_reg_init_conv_layer1': 'l1l2', 'bias_reg_conv_layer_1_l1': 0.17862486753432136, 'bias_reg_conv_layer_1_l2': 0.3937957880208037, 'kernel_reg_init_conv_layer_1': None, 'kernel_initializer_conv_layer_1': 'he_uniform', 'filters_conv_2': 16, 'kernel_size_conv_2': 3, 'actv_func_conv_2': 'tanh', 'bias_reg_init_conv_layer2': 'l2', 'bias_reg_conv_layer_2': 0.10241958651773625, 'kernel_reg_init_conv_layer_2': None, 'kernel_initializer_conv_layer_2': 'he_normal', 'filters_conv_3': 4, 'kernel_size_conv_3': 7, 'actv_func_conv_3': 'sigmoid', 'bias_reg_init_conv_layer3': 'l1l2', 'bias_reg_conv_layer_3_l1': 0.1521689399461768, 'bias_reg_conv_layer_3_l2': 0.15204086187628815, 'kernel_reg_init_conv_layer_3': None, 'kernel_initializer_conv_layer_3': 'he_normal', 'padding_last_conv_layer': 'valid', 'nunints_layer_0': 448, 'actv_func_layer_0': 'tanh', 'bias_reg_init_layer_0': 'l1l2', 'bias_reg_layer_0_l1': 0.27229402985602214, 'bias_reg_layer_0_l2': 0.3546894821534575, 'kernel_reg_init_layer_0': None, 'kernel_initializer_layer_0': 'lecun_normal', 'num_layers': 0, 'batch_norm': True, 'dropout_rate_layer_output': 0.36891148944532554, 'optimizer': 'SGD', 'opt_lr': 0.02895450493902795, 'opt_momentum': 0.04830344262684191, 'opt_nesterov': False, 'lr_scheduler_factor': 0.6600990874617744}. Best is trial 19 with value: 0.2901800274848938.\n"
     ]
    }
   ],
   "source": [
    "sampler = optuna.samplers.TPESampler(\n",
    "    n_startup_trials=25, n_ei_candidates=24,\n",
    "    multivariate=False, seed=42\n",
    ")\n",
    "study = optuna.create_study(direction='minimize', sampler=sampler, study_name='study', storage='sqlite:///db.sqlite3')\n",
    "study.optimize(\n",
    "    objective, n_trials=1000,\n",
    "    timeout=3600*12, # in seconds\n",
    "    n_jobs=1,\n",
    "    show_progress_bar=True\n",
    ")"
   ]
  },
  {
   "cell_type": "code",
   "execution_count": null,
   "metadata": {
    "trusted": true
   },
   "outputs": [],
   "source": []
  }
 ],
 "metadata": {
  "kaggle": {
   "accelerator": "gpu",
   "dataSources": [],
   "dockerImageVersionId": 30822,
   "isGpuEnabled": true,
   "isInternetEnabled": true,
   "language": "python",
   "sourceType": "notebook"
  },
  "kernelspec": {
   "display_name": "Python 3",
   "language": "python",
   "name": "python3"
  },
  "language_info": {
   "codemirror_mode": {
    "name": "ipython",
    "version": 3
   },
   "file_extension": ".py",
   "mimetype": "text/x-python",
   "name": "python",
   "nbconvert_exporter": "python",
   "pygments_lexer": "ipython3",
   "version": "3.12.4"
  }
 },
 "nbformat": 4,
 "nbformat_minor": 4
}
