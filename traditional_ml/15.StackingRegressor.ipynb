{
  "metadata": {
    "kernelspec": {
      "language": "python",
      "display_name": "Python 3",
      "name": "python3"
    },
    "language_info": {
      "name": "python",
      "version": "3.10.12",
      "mimetype": "text/x-python",
      "codemirror_mode": {
        "name": "ipython",
        "version": 3
      },
      "pygments_lexer": "ipython3",
      "nbconvert_exporter": "python",
      "file_extension": ".py"
    },
    "kaggle": {
      "accelerator": "none",
      "dataSources": [],
      "dockerImageVersionId": 30822,
      "isInternetEnabled": true,
      "language": "python",
      "sourceType": "notebook",
      "isGpuEnabled": false
    },
    "colab": {
      "name": "notebook6d405d7515",
      "provenance": []
    }
  },
  "nbformat_minor": 0,
  "nbformat": 4,
  "cells": [
    {
      "cell_type": "markdown",
      "source": [
        "# Imports"
      ],
      "metadata": {
        "id": "sm6At4LvjuWZ"
      }
    },
    {
      "cell_type": "code",
      "source": [
        "!pip install catboost"
      ],
      "metadata": {
        "_uuid": "8f2839f25d086af736a60e9eeb907d3b93b6e0e5",
        "_cell_guid": "b1076dfc-b9ad-4769-8c92-a6c4dae69d19",
        "trusted": true,
        "execution": {
          "iopub.status.busy": "2024-12-21T14:05:08.523438Z",
          "iopub.execute_input": "2024-12-21T14:05:08.523848Z",
          "iopub.status.idle": "2024-12-21T14:05:18.421885Z",
          "shell.execute_reply.started": "2024-12-21T14:05:08.523809Z",
          "shell.execute_reply": "2024-12-21T14:05:18.420568Z"
        },
        "id": "cMv423BEjuWd",
        "outputId": "6940ea0d-1767-49f2-9761-31ecf64e2be8",
        "colab": {
          "base_uri": "https://localhost:8080/"
        }
      },
      "outputs": [
        {
          "output_type": "stream",
          "name": "stdout",
          "text": [
            "Requirement already satisfied: catboost in /usr/local/lib/python3.10/dist-packages (1.2.7)\n",
            "Requirement already satisfied: graphviz in /usr/local/lib/python3.10/dist-packages (from catboost) (0.20.3)\n",
            "Requirement already satisfied: matplotlib in /usr/local/lib/python3.10/dist-packages (from catboost) (3.8.0)\n",
            "Requirement already satisfied: numpy<2.0,>=1.16.0 in /usr/local/lib/python3.10/dist-packages (from catboost) (1.26.4)\n",
            "Requirement already satisfied: pandas>=0.24 in /usr/local/lib/python3.10/dist-packages (from catboost) (2.2.2)\n",
            "Requirement already satisfied: scipy in /usr/local/lib/python3.10/dist-packages (from catboost) (1.13.1)\n",
            "Requirement already satisfied: plotly in /usr/local/lib/python3.10/dist-packages (from catboost) (5.24.1)\n",
            "Requirement already satisfied: six in /usr/local/lib/python3.10/dist-packages (from catboost) (1.17.0)\n",
            "Requirement already satisfied: python-dateutil>=2.8.2 in /usr/local/lib/python3.10/dist-packages (from pandas>=0.24->catboost) (2.8.2)\n",
            "Requirement already satisfied: pytz>=2020.1 in /usr/local/lib/python3.10/dist-packages (from pandas>=0.24->catboost) (2024.2)\n",
            "Requirement already satisfied: tzdata>=2022.7 in /usr/local/lib/python3.10/dist-packages (from pandas>=0.24->catboost) (2024.2)\n",
            "Requirement already satisfied: contourpy>=1.0.1 in /usr/local/lib/python3.10/dist-packages (from matplotlib->catboost) (1.3.1)\n",
            "Requirement already satisfied: cycler>=0.10 in /usr/local/lib/python3.10/dist-packages (from matplotlib->catboost) (0.12.1)\n",
            "Requirement already satisfied: fonttools>=4.22.0 in /usr/local/lib/python3.10/dist-packages (from matplotlib->catboost) (4.55.3)\n",
            "Requirement already satisfied: kiwisolver>=1.0.1 in /usr/local/lib/python3.10/dist-packages (from matplotlib->catboost) (1.4.7)\n",
            "Requirement already satisfied: packaging>=20.0 in /usr/local/lib/python3.10/dist-packages (from matplotlib->catboost) (24.2)\n",
            "Requirement already satisfied: pillow>=6.2.0 in /usr/local/lib/python3.10/dist-packages (from matplotlib->catboost) (11.0.0)\n",
            "Requirement already satisfied: pyparsing>=2.3.1 in /usr/local/lib/python3.10/dist-packages (from matplotlib->catboost) (3.2.0)\n",
            "Requirement already satisfied: tenacity>=6.2.0 in /usr/local/lib/python3.10/dist-packages (from plotly->catboost) (9.0.0)\n"
          ]
        }
      ],
      "execution_count": 1
    },
    {
      "cell_type": "code",
      "source": [
        "import numpy as np\n",
        "import pandas as pd\n",
        "from sklearn.linear_model import LinearRegression\n",
        "from catboost import CatBoostRegressor\n",
        "from sklearn.svm import SVR, LinearSVR\n",
        "from sklearn.ensemble import StackingRegressor\n",
        "from sklearn.metrics import mean_absolute_error\n",
        "\n",
        "rng = np.random.RandomState(42)"
      ],
      "metadata": {
        "trusted": true,
        "execution": {
          "iopub.status.busy": "2024-12-21T14:05:18.423459Z",
          "iopub.execute_input": "2024-12-21T14:05:18.423809Z",
          "iopub.status.idle": "2024-12-21T14:05:20.424981Z",
          "shell.execute_reply.started": "2024-12-21T14:05:18.423764Z",
          "shell.execute_reply": "2024-12-21T14:05:20.42403Z"
        },
        "id": "FmaJLH2vjuWf"
      },
      "outputs": [],
      "execution_count": 2
    },
    {
      "cell_type": "markdown",
      "source": [
        "# Data"
      ],
      "metadata": {
        "id": "0gS0sq5hjuWi"
      }
    },
    {
      "cell_type": "code",
      "source": [
        "data_path = 'https://raw.githubusercontent.com/antbartash/max_temp/master/data/data_features.csv'\n",
        "data = pd.read_csv(data_path)\n",
        "data['DATE'] = data['DATE'].astype('datetime64[ns]')\n",
        "\n",
        "X_train = data.loc[data['DATE'].dt.year <= 2021].drop(columns=['TARGET', 'DATE']).copy()\n",
        "y_train = data.loc[data['DATE'].dt.year <= 2021, 'TARGET'].copy()\n",
        "X_valid = data.loc[data['DATE'].dt.year == 2022].drop(columns=['TARGET', 'DATE']).copy()\n",
        "y_valid = data.loc[data['DATE'].dt.year == 2022, 'TARGET'].copy()\n",
        "X_test = data.loc[data['DATE'].dt.year == 2023].drop(columns=['TARGET', 'DATE']).copy()\n",
        "y_test = data.loc[data['DATE'].dt.year == 2023, 'TARGET'].copy()\n",
        "\n",
        "print(f'Train: {X_train.shape}, {y_train.shape}')\n",
        "print(f'Valid: {X_valid.shape}, {y_valid.shape}')\n",
        "print(f'Test: {X_test.shape}, {y_test.shape}')"
      ],
      "metadata": {
        "trusted": true,
        "execution": {
          "iopub.status.busy": "2024-12-21T14:06:23.058501Z",
          "iopub.execute_input": "2024-12-21T14:06:23.058884Z",
          "iopub.status.idle": "2024-12-21T14:06:23.652845Z",
          "shell.execute_reply.started": "2024-12-21T14:06:23.058852Z",
          "shell.execute_reply": "2024-12-21T14:06:23.651765Z"
        },
        "id": "d-jLLIb_juWi",
        "outputId": "d8877780-32fc-4ffa-9bbb-3e6ccbec1b7a",
        "colab": {
          "base_uri": "https://localhost:8080/"
        }
      },
      "outputs": [
        {
          "output_type": "stream",
          "name": "stdout",
          "text": [
            "Train: (34938, 52), (34938,)\n",
            "Valid: (2920, 52), (2920,)\n",
            "Test: (2920, 52), (2920,)\n"
          ]
        }
      ],
      "execution_count": 5
    },
    {
      "cell_type": "markdown",
      "source": [
        "# Base models"
      ],
      "metadata": {
        "id": "bB-vPW1hjuWj"
      }
    },
    {
      "cell_type": "code",
      "source": [
        "svr_model = SVR(\n",
        "    kernel='poly', degree=2, coef0=1,\n",
        "    C=0.75, gamma='scale',\n",
        "    max_iter=100000\n",
        ")\n",
        "linearsvr_model = LinearSVR(\n",
        "    max_iter=100000, random_state=rng\n",
        ")\n",
        "catboost_model = CatBoostRegressor(\n",
        "    n_estimators=571, learning_rate=0.035, depth=7,\n",
        "    l2_leaf_reg=18.65, random_strength=0.1243, bagging_temperature=79.24,\n",
        "    grow_policy='SymmetricTree', verbose=0, random_state=0\n",
        ")\n",
        "regression_model = LinearRegression()"
      ],
      "metadata": {
        "trusted": true,
        "execution": {
          "iopub.status.busy": "2024-12-21T14:06:27.398761Z",
          "iopub.execute_input": "2024-12-21T14:06:27.399155Z",
          "iopub.status.idle": "2024-12-21T14:06:27.408076Z",
          "shell.execute_reply.started": "2024-12-21T14:06:27.399123Z",
          "shell.execute_reply": "2024-12-21T14:06:27.406877Z"
        },
        "id": "7WB5DqHrjuWk"
      },
      "outputs": [],
      "execution_count": 3
    },
    {
      "cell_type": "code",
      "source": [
        "model = StackingRegressor(\n",
        "    estimators=[\n",
        "      #('svr', svr_model),\n",
        "      ('linearsvr', linearsvr_model),\n",
        "      ('catboost', catboost_model),\n",
        "      #('regression', regression_model)\n",
        "    ],\n",
        "    final_estimator=LinearRegression()\n",
        ")\n",
        "model.fit(X_train, y_train)\n",
        "\n",
        "print(f'Train MAE: {mean_absolute_error(y_train, model.predict(X_train))}')\n",
        "print(f'Valid MAE: {mean_absolute_error(y_valid, model.predict(X_valid))}')"
      ],
      "metadata": {
        "trusted": true,
        "id": "7tXhZRoWjuWm",
        "outputId": "21a2b284-99fb-4995-a311-12029e3e1605",
        "colab": {
          "base_uri": "https://localhost:8080/"
        }
      },
      "outputs": [
        {
          "output_type": "stream",
          "name": "stderr",
          "text": [
            "/usr/local/lib/python3.10/dist-packages/sklearn/svm/_base.py:1243: ConvergenceWarning: Liblinear failed to converge, increase the number of iterations.\n",
            "  warnings.warn(\n",
            "/usr/local/lib/python3.10/dist-packages/sklearn/svm/_base.py:1243: ConvergenceWarning: Liblinear failed to converge, increase the number of iterations.\n",
            "  warnings.warn(\n",
            "/usr/local/lib/python3.10/dist-packages/sklearn/svm/_base.py:1243: ConvergenceWarning: Liblinear failed to converge, increase the number of iterations.\n",
            "  warnings.warn(\n",
            "/usr/local/lib/python3.10/dist-packages/sklearn/svm/_base.py:1243: ConvergenceWarning: Liblinear failed to converge, increase the number of iterations.\n",
            "  warnings.warn(\n",
            "/usr/local/lib/python3.10/dist-packages/sklearn/svm/_base.py:1243: ConvergenceWarning: Liblinear failed to converge, increase the number of iterations.\n",
            "  warnings.warn(\n",
            "/usr/local/lib/python3.10/dist-packages/sklearn/svm/_base.py:1243: ConvergenceWarning: Liblinear failed to converge, increase the number of iterations.\n",
            "  warnings.warn(\n"
          ]
        },
        {
          "output_type": "stream",
          "name": "stdout",
          "text": [
            "Train MAE: 2.812657502870887\n",
            "Valid MAE: 3.0954233216302423\n"
          ]
        }
      ],
      "execution_count": 7
    },
    {
      "cell_type": "code",
      "source": [
        "model = StackingRegressor(\n",
        "    estimators=[\n",
        "      ('svr', svr_model),\n",
        "      ('linearsvr', linearsvr_model),\n",
        "      ('catboost', catboost_model),\n",
        "      ('regression', regression_model)\n",
        "    ],\n",
        "    final_estimator=LinearRegression()\n",
        ")\n",
        "model.fit(X_train, y_train)\n",
        "\n",
        "print(f'Train MAE: {mean_absolute_error(y_train, model.predict(X_train))}')\n",
        "print(f'Valid MAE: {mean_absolute_error(y_valid, model.predict(X_valid))}')"
      ],
      "metadata": {
        "trusted": true,
        "id": "iIV9ps60juWo",
        "outputId": "4d7bece9-2fe3-4912-8da1-5063a830c6d1",
        "colab": {
          "base_uri": "https://localhost:8080/"
        }
      },
      "outputs": [
        {
          "output_type": "stream",
          "name": "stderr",
          "text": [
            "/usr/local/lib/python3.10/dist-packages/sklearn/svm/_base.py:1243: ConvergenceWarning: Liblinear failed to converge, increase the number of iterations.\n",
            "  warnings.warn(\n",
            "/usr/local/lib/python3.10/dist-packages/sklearn/svm/_base.py:1243: ConvergenceWarning: Liblinear failed to converge, increase the number of iterations.\n",
            "  warnings.warn(\n",
            "/usr/local/lib/python3.10/dist-packages/sklearn/svm/_base.py:1243: ConvergenceWarning: Liblinear failed to converge, increase the number of iterations.\n",
            "  warnings.warn(\n",
            "/usr/local/lib/python3.10/dist-packages/sklearn/svm/_base.py:1243: ConvergenceWarning: Liblinear failed to converge, increase the number of iterations.\n",
            "  warnings.warn(\n",
            "/usr/local/lib/python3.10/dist-packages/sklearn/svm/_base.py:1243: ConvergenceWarning: Liblinear failed to converge, increase the number of iterations.\n",
            "  warnings.warn(\n",
            "/usr/local/lib/python3.10/dist-packages/sklearn/svm/_base.py:1243: ConvergenceWarning: Liblinear failed to converge, increase the number of iterations.\n",
            "  warnings.warn(\n"
          ]
        },
        {
          "output_type": "stream",
          "name": "stdout",
          "text": [
            "Train MAE: 2.847360957441589\n",
            "Valid MAE: 3.110927279246434\n"
          ]
        }
      ],
      "execution_count": 8
    },
    {
      "cell_type": "code",
      "source": [],
      "metadata": {
        "trusted": true,
        "id": "Z1GBUdRQjuWo"
      },
      "outputs": [],
      "execution_count": null
    }
  ]
}